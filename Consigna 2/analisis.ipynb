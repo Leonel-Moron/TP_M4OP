{
 "cells": [
  {
   "cell_type": "markdown",
   "id": "c133c263",
   "metadata": {},
   "source": [
    "# CENSO"
   ]
  },
  {
   "cell_type": "markdown",
   "id": "c09ae9c5",
   "metadata": {},
   "source": [
    "Para calcular el nivel socioecononico voy a usar la siguiente metodología. Tomando:\n",
    "\n",
    "1. Número de hogares con computadora: Indica la cantidad de hogares que tienen al menos una computadora.\n",
    "\n",
    "2. Porcentaje de menores de 18 años asistiendo a establecimientos educativos: Calculado como la proporción de menores de 18 años que asisten a algún establecimiento educativo respecto al total de menores de 18 años.\n",
    "\n",
    "3. Porcentaje de habitantes mayores de 25 años con nivel universitario completo: Calculado como la proporción de habitantes mayores de 25 años con nivel universitario completo respecto al total de habitantes mayores de 25 años.\n",
    "\n",
    "$IndiceComputadora = \\frac{NúmeroDeHogaresConComputadora}{ConComputadora \\cup ConHeladera \\cup ConCelular \\cup ConTeléfono}$\n",
    "\n",
    "$IndiceEscolaridad = \\frac{MenoresDe18Asisten}{MenoresDe18}$\n",
    "\n",
    "$IndiceEducSuperior = \\frac{MayoresDe25Universitarios}{MayoresDe25}$\n",
    "\n",
    "PC1=0.76120783∗IndiceEducSup+0.10759338∗IndiceEscolaridad+0.63952037∗IndiceCompu\n",
    "\n",
    "El PC1 arroja un rango de valores entre 0 y 1.32 (aproximadamente) se procede a una normalización para facilitar la lectura de los valores.\n",
    "\n",
    "$NSE = \\frac{PC1}{PC1Max} * 10$\n",
    "\n",
    "De esta manera todos los valores del índice de NSE de radios censales se expresan en una escala del 0 al 10, donde 10 es el máximo valor de NSE alcanzado por el primer radio censal del ranking y 0 es el mínimo \n",
    "\n",
    "(fuente: https://gcba.github.io/tod/nota_metodologica#2-estimacion-del-nivel-socioeconomico-de-un-radio-censal)"
   ]
  },
  {
   "cell_type": "markdown",
   "id": "d625af4d",
   "metadata": {},
   "source": [
    "Valor Bajo (0-3): Puede indicar un nivel socioeconómico bajo, con posiblemente menos acceso a recursos y oportunidades.\n",
    "\n",
    "Valor Medio (4-7): Podría sugerir un nivel socioeconómico medio, con un acceso moderado a recursos y oportunidades.\n",
    "\n",
    "Valor Alto (8-10): Indicaría un nivel socioeconómico relativamente alto, con un buen acceso a recursos y oportunidades."
   ]
  },
  {
   "cell_type": "markdown",
   "id": "0127deae",
   "metadata": {},
   "source": [
    "# Comuna 1\n"
   ]
  },
  {
   "cell_type": "code",
   "execution_count": 13,
   "id": "4d2ffa27",
   "metadata": {},
   "outputs": [],
   "source": [
    "import pandas as pd\n",
    "import numpy as np\n",
    "import  matplotlib.pyplot as plt\n",
    "import  seaborn as sns\n",
    "from sklearn.decomposition import PCA "
   ]
  },
  {
   "cell_type": "code",
   "execution_count": 14,
   "id": "be08cb5a",
   "metadata": {},
   "outputs": [
    {
     "name": "stdout",
     "output_type": "stream",
     "text": [
      "Índice de Computadora - Comuna 1: 0.19602394917841223\n"
     ]
    }
   ],
   "source": [
    "def calcular_indice_computadora(numero_hogares_con_computadora, con_computadora, con_heladera, con_celular, con_telefono):\n",
    "    indice_computadora = numero_hogares_con_computadora / (con_computadora + con_heladera + con_celular + con_telefono)\n",
    "    return indice_computadora\n",
    "\n",
    "# Parámetros para comuna 1\n",
    "numero_hogares_con_computadora_c1 = 51500\n",
    "con_computadora_c1 = 51500\n",
    "con_heladera_c1 = 77558\n",
    "con_celular_c1 = 73457\n",
    "con_telefono_c1 = 60208\n",
    "\n",
    "# Calcular el índice de computadora \n",
    "indice_computadora_c1 = calcular_indice_computadora(numero_hogares_con_computadora_c1, con_computadora_c1, con_heladera_c1, con_celular_c1, con_telefono_c1)\n",
    "\n",
    "print(\"Índice de Computadora - Comuna 1:\", indice_computadora_c1)"
   ]
  },
  {
   "cell_type": "code",
   "execution_count": 15,
   "id": "ac2fa405",
   "metadata": {},
   "outputs": [
    {
     "name": "stdout",
     "output_type": "stream",
     "text": [
      "Índice de Escolaridad - Comuna 1: 0.9183288052481612\n"
     ]
    }
   ],
   "source": [
    "def calcular_indice_escolaridad(menores_de_18_asisten, menores_de_18):\n",
    "    indice_escolaridad = menores_de_18_asisten / menores_de_18\n",
    "    return indice_escolaridad\n",
    "\n",
    "\n",
    "menores_de_18_asisten_c1 = 2985 + 1991 + 13712 + 3865 + 5164\n",
    "menores_de_18_c1 = 4162 + 2130 + 13922 + 4010 + 5958\n",
    "\n",
    "# Calcular el índice de escolaridad para comuna 1\n",
    "indice_escolaridad_c1 = calcular_indice_escolaridad(menores_de_18_asisten_c1, menores_de_18_c1)\n",
    "\n",
    "print(\"Índice de Escolaridad - Comuna 1:\", indice_escolaridad_c1)"
   ]
  },
  {
   "cell_type": "code",
   "execution_count": 16,
   "id": "63baafaf",
   "metadata": {},
   "outputs": [
    {
     "name": "stdout",
     "output_type": "stream",
     "text": [
      "Índice de Educación Superior - Caso 1: 0.05032185016669113\n"
     ]
    }
   ],
   "source": [
    "def calcular_indice_educacion_superior(mayores_de_25_universitarios, mayores_de_25):\n",
    "    indice_educacion_superior = mayores_de_25_universitarios / mayores_de_25\n",
    "    return indice_educacion_superior\n",
    "\n",
    "# Parámetros para comuna 1\n",
    "mayores_de_25_universitarios_c1 = 3606+3594\n",
    "mayores_de_25_c1 =  21421 + 121658\n",
    "\n",
    "# Calcular el índice de educación superior para comuna 1\n",
    "indice_educacion_superior_c1 = calcular_indice_educacion_superior(mayores_de_25_universitarios_c1, mayores_de_25_c1)\n",
    "\n",
    "print(\"Índice de Educación Superior - Caso 1:\", indice_educacion_superior_c1)"
   ]
  },
  {
   "cell_type": "code",
   "execution_count": 17,
   "id": "e66a9afc",
   "metadata": {},
   "outputs": [
    {
     "name": "stdout",
     "output_type": "stream",
     "text": [
      "\n",
      "Componentes Principales:\n",
      "[[ 0.59716869 -0.61669895 -0.51290541]\n",
      " [ 0.55586614 -0.14282156  0.81891076]\n",
      " [ 0.57827536  0.77413461 -0.2575135 ]]\n",
      "\n",
      "Varianza Explicada:\n",
      "[9.91308314e-01 8.69168597e-03 2.19902466e-35]\n"
     ]
    }
   ],
   "source": [
    "def calcular_pca(indice_educacion_superior, indice_escolaridad, indice_computadora, n_components=3):\n",
    "    # Calcula la matriz \n",
    "    matriz_correlaciones = np.array([\n",
    "        [1, indice_educacion_superior, indice_computadora],\n",
    "        [indice_educacion_superior, 1, indice_escolaridad],\n",
    "        [indice_computadora, indice_escolaridad, 1]\n",
    "    ])\n",
    "\n",
    "    # Realiza el análisis de componentes principales\n",
    "    pca = PCA(n_components=n_components)\n",
    "    pca.fit(matriz_correlaciones)\n",
    "\n",
    "    # Obtiene los componentes principales y la varianza explicada\n",
    "    componentes_principales = pca.components_\n",
    "    varianza_explicada = pca.explained_variance_ratio_\n",
    "\n",
    "    return componentes_principales, varianza_explicada\n",
    "\n",
    "componentes_principales, varianza_explicada = calcular_pca(indice_educacion_superior_c1, indice_escolaridad_c1, indice_computadora_c1)\n",
    "\n",
    "print(\"\\nComponentes Principales:\")\n",
    "print(componentes_principales)\n",
    "\n",
    "print(\"\\nVarianza Explicada:\")\n",
    "print(varianza_explicada)"
   ]
  },
  {
   "cell_type": "code",
   "execution_count": 18,
   "id": "d281b05c",
   "metadata": {},
   "outputs": [
    {
     "name": "stdout",
     "output_type": "stream",
     "text": [
      "PC1: 0.2624727949824229\n"
     ]
    }
   ],
   "source": [
    "def calcular_pc1(indice_educacion_superior, indice_escolaridad, indice_computadora):\n",
    "    # Coeficientes para el cálculo de PC1\n",
    "    coef_educ_sup = 0.76120783\n",
    "    coef_escolaridad = 0.10759338\n",
    "    coef_computadora = 0.63952037\n",
    "\n",
    "    # Calcula PC1\n",
    "    pc1 = coef_educ_sup * indice_educacion_superior + coef_escolaridad * indice_escolaridad + coef_computadora * indice_computadora\n",
    "\n",
    "    return pc1\n",
    "\n",
    "# Calcula PC1\n",
    "pc1_resultado = calcular_pc1(indice_educacion_superior_c1, indice_escolaridad_c1, indice_computadora_c1)\n",
    "print(\"PC1:\", pc1_resultado)"
   ]
  },
  {
   "cell_type": "code",
   "execution_count": 19,
   "id": "cda5485e",
   "metadata": {},
   "outputs": [
    {
     "name": "stdout",
     "output_type": "stream",
     "text": [
      "NSE: 2.647741285609049\n"
     ]
    }
   ],
   "source": [
    "def normalizar_pc1(pc1, pc1_max):\n",
    "    # Normaliza PC1\n",
    "    nse = (pc1 / pc1_max) * 10\n",
    "    return nse\n",
    "\n",
    "pc1_max = varianza_explicada [0]\n",
    "\n",
    "# Normaliza PC1\n",
    "nse_resultado = normalizar_pc1(pc1_resultado, pc1_max)\n",
    "print(\"NSE:\", nse_resultado)"
   ]
  },
  {
   "cell_type": "markdown",
   "id": "d2c96e8d",
   "metadata": {},
   "source": [
    "El valor normalizado del índice socioeconómico (NSE) obtenido a través del análisis de componentes principales (PCA) representa una medida relativa del nivel socioeconómico, en el caso de la comuna 1 es de 2.647741285609049 y en esta comuna ganó la presidencia Juntos por el cambio. "
   ]
  },
  {
   "cell_type": "markdown",
   "id": "75dd8d34",
   "metadata": {},
   "source": [
    "# Comuna 2"
   ]
  },
  {
   "cell_type": "code",
   "execution_count": 20,
   "id": "91528f94",
   "metadata": {},
   "outputs": [
    {
     "name": "stdout",
     "output_type": "stream",
     "text": [
      "Índice de Computadora - Comuna 1: 0.2191912320483749\n"
     ]
    }
   ],
   "source": [
    "# Parámetros para comuna 2\n",
    "numero_hogares_con_computadora_c2 = 57998\n",
    "con_computadora_c2 = 57998\n",
    "con_heladera_c2= 72641\n",
    "con_celular_c2 = 65253\n",
    "con_telefono_c2 = 68708\n",
    "\n",
    "# Calcular el índice de computadora \n",
    "indice_computadora_c2 = calcular_indice_computadora(numero_hogares_con_computadora_c2, con_computadora_c2, con_heladera_c2, con_celular_c2, con_telefono_c2)\n",
    "\n",
    "print(\"Índice de Computadora - Comuna 1:\", indice_computadora_c2)"
   ]
  },
  {
   "cell_type": "code",
   "execution_count": 21,
   "id": "934f11e7",
   "metadata": {},
   "outputs": [
    {
     "name": "stdout",
     "output_type": "stream",
     "text": [
      "Índice de Escolaridad - Comuna 1: 0.9732069732069732\n"
     ]
    }
   ],
   "source": [
    "menores_de_18_asisten_c2 = 2109+1188+7719+2173+3447\n",
    "menores_de_18_c2 = 2276+1211+7762+2209+3636\n",
    "\n",
    "# Calcular el índice de escolaridad para comuna 2\n",
    "indice_escolaridad_c2 = calcular_indice_escolaridad(menores_de_18_asisten_c2, menores_de_18_c2)\n",
    "\n",
    "print(\"Índice de Escolaridad - Comuna 1:\", indice_escolaridad_c2)"
   ]
  },
  {
   "cell_type": "code",
   "execution_count": 22,
   "id": "4d378ef3",
   "metadata": {},
   "outputs": [
    {
     "name": "stdout",
     "output_type": "stream",
     "text": [
      "Índice de Educación Superior - Caso 2: 0.11074568064076643\n"
     ]
    }
   ],
   "source": [
    "def calcular_indice_educacion_superior(mayores_de_25_universitarios, mayores_de_25):\n",
    "    indice_educacion_superior = mayores_de_25_universitarios / mayores_de_25\n",
    "    return indice_educacion_superior\n",
    "\n",
    "# Parámetros para comuna 2\n",
    "mayores_de_25_universitarios_c2 = 6338+6424\n",
    "mayores_de_25_c2 =  98551+16686\n",
    "\n",
    "# Calcular el índice de educación superior para comuna 2\n",
    "indice_educacion_superior_c2 = calcular_indice_educacion_superior(mayores_de_25_universitarios_c2, mayores_de_25_c2)\n",
    "\n",
    "print(\"Índice de Educación Superior - Caso 2:\", indice_educacion_superior_c2)"
   ]
  },
  {
   "cell_type": "code",
   "execution_count": 23,
   "id": "799fe1eb",
   "metadata": {},
   "outputs": [
    {
     "name": "stdout",
     "output_type": "stream",
     "text": [
      "\n",
      "Componentes Principales - Comuna 2:\n",
      "[[ 0.58441822 -0.61091642 -0.53407534]\n",
      " [ 0.74355888  0.13962904  0.65392961]\n",
      " [ 0.32492391  0.77928483 -0.53585409]]\n",
      "\n",
      "Varianza Explicada - Comuna 2:\n",
      "[9.96754522e-01 3.24547823e-03 4.62078085e-34]\n"
     ]
    }
   ],
   "source": [
    "componentes_principales_2, varianza_explicada_2 = calcular_pca(indice_educacion_superior_c2, indice_escolaridad_c2, indice_computadora_c2)\n",
    "\n",
    "print(\"\\nComponentes Principales - Comuna 2:\")\n",
    "print(componentes_principales_2)\n",
    "\n",
    "print(\"\\nVarianza Explicada - Comuna 2:\")\n",
    "print(varianza_explicada_2)\n"
   ]
  },
  {
   "cell_type": "code",
   "execution_count": 24,
   "id": "4724fbc3",
   "metadata": {},
   "outputs": [
    {
     "name": "stdout",
     "output_type": "stream",
     "text": [
      "PC2: 0.32918836474967106\n"
     ]
    }
   ],
   "source": [
    "pc2_resultado = calcular_pc1(indice_educacion_superior_c2, indice_escolaridad_c2, indice_computadora_c2)\n",
    "print(\"PC2:\", pc2_resultado)"
   ]
  },
  {
   "cell_type": "code",
   "execution_count": 25,
   "id": "74577baf",
   "metadata": {},
   "outputs": [
    {
     "name": "stdout",
     "output_type": "stream",
     "text": [
      "NSE: 3.30260217095617\n"
     ]
    }
   ],
   "source": [
    "pc2_max = varianza_explicada_2 [0]\n",
    "# Normaliza PC2\n",
    "nse_resultado2 = normalizar_pc1(pc2_resultado, pc2_max)\n",
    "print(\"NSE:\", nse_resultado2)"
   ]
  },
  {
   "cell_type": "markdown",
   "id": "aaa00566",
   "metadata": {},
   "source": [
    "El valor normalizado del índice socioeconómico (NSE) obtenido a través del análisis de componentes principales (PCA) representa una medida relativa del nivel socioeconómico, en el caso de la comuna 1 es de 3.30260217095617 y en esta comuna ganó la presidencia Juntos por el cambio.) Se ubicaria en el nivel medio. "
   ]
  },
  {
   "cell_type": "markdown",
   "id": "bc78bba2",
   "metadata": {},
   "source": [
    "# Comuna 3"
   ]
  },
  {
   "cell_type": "code",
   "execution_count": 26,
   "id": "8f75665b",
   "metadata": {},
   "outputs": [
    {
     "name": "stdout",
     "output_type": "stream",
     "text": [
      "Índice de Computadora - Comuna 3: 0.19720036666412039\n",
      "Índice de Escolaridad - Comuna 3: 0.9477288456634976\n",
      "Índice de Educación Superior - Comuna 3: 0.05664614433953022\n"
     ]
    }
   ],
   "source": [
    "# Parámetros para comuna 3\n",
    "numero_hogares_con_computadora_c3 = 51631\n",
    "con_computadora_c3 = 51631\n",
    "con_heladera_c3 = 76928\n",
    "con_celular_c3 =69059\n",
    "con_telefono_c3 = 64202\n",
    "# Calcular el índice de computadora para comuna 3\n",
    "indice_computadora_c3 = calcular_indice_computadora(numero_hogares_con_computadora_c3, con_computadora_c3, con_heladera_c3, con_celular_c3, con_telefono_c3)\n",
    "\n",
    "print(\"Índice de Computadora - Comuna 3:\", indice_computadora_c3)\n",
    "\n",
    "menores_de_18_asisten_c3 = 3073+1833+12631+3502+4979\n",
    "menores_de_18_c3 = +3722+1895+12739+3580+5517\n",
    "\n",
    "# Calcular el índice de escolaridad para comuna 3\n",
    "indice_escolaridad_c3 = calcular_indice_escolaridad(menores_de_18_asisten_c3, menores_de_18_c3)\n",
    "\n",
    "print(\"Índice de Escolaridad - Comuna 3:\", indice_escolaridad_c3)\n",
    "\n",
    "# Parámetros para comuna 3\n",
    "mayores_de_25_universitarios_c3 = 3749+3768\n",
    "mayores_de_25_c3 = 17794+114907\n",
    "\n",
    "# Calcular el índice de educación superior para comuna 3\n",
    "indice_educacion_superior_c3 = calcular_indice_educacion_superior(mayores_de_25_universitarios_c3, mayores_de_25_c3)\n",
    "\n",
    "print(\"Índice de Educación Superior - Comuna 3:\", indice_educacion_superior_c3)\n"
   ]
  },
  {
   "cell_type": "code",
   "execution_count": 27,
   "id": "094ad35e",
   "metadata": {},
   "outputs": [
    {
     "name": "stdout",
     "output_type": "stream",
     "text": [
      "\n",
      "Componentes Principales - Comuna 3:\n",
      "[[ 0.5903815  -0.61738243 -0.5198929 ]\n",
      " [ 0.67013366  0.01593488  0.74206938]\n",
      " [-0.44985616 -0.78650176  0.4231364 ]]\n",
      "\n",
      "Varianza Explicada - Comuna 3:\n",
      "[9.94100011e-01 5.89998915e-03 2.54679416e-33]\n",
      "PC1 - Comuna 3: 0.27120248989216855\n",
      "NSE - Comuna 3: 2.7281207819433324\n"
     ]
    }
   ],
   "source": [
    "# Calcular PCA para comuna 3\n",
    "componentes_principales_c3, varianza_explicada_c3 = calcular_pca(indice_educacion_superior_c3, indice_escolaridad_c3, indice_computadora_c3)\n",
    "\n",
    "print(\"\\nComponentes Principales - Comuna 3:\")\n",
    "print(componentes_principales_c3)\n",
    "\n",
    "print(\"\\nVarianza Explicada - Comuna 3:\")\n",
    "print(varianza_explicada_c3)\n",
    "\n",
    "# Calcula PC1 para comuna 3\n",
    "pc1_resultado_c3 = calcular_pc1(indice_educacion_superior_c3, indice_escolaridad_c3, indice_computadora_c3)\n",
    "print(\"PC1 - Comuna 3:\", pc1_resultado_c3)\n",
    "\n",
    "# Normaliza PC1 para comuna 3\n",
    "pc1_max_c3 = varianza_explicada_c3[0]\n",
    "nse_resultado_c3 = normalizar_pc1(pc1_resultado_c3, pc1_max_c3)\n",
    "print(\"NSE - Comuna 3:\", nse_resultado_c3)\n"
   ]
  },
  {
   "cell_type": "markdown",
   "id": "cef3ac15",
   "metadata": {},
   "source": [
    "El valor normalizado del índice socioeconómico (NSE) obtenido a través del análisis de componentes principales (PCA) representa una medida relativa del nivel socioeconómico, en el caso de la comuna 1 es de 2.7281207819433324 y en esta comuna ganó la presidencia Juntos por el cambio.) Se ubicaria en el nivel bajo."
   ]
  },
  {
   "cell_type": "markdown",
   "id": "b700a662",
   "metadata": {},
   "source": [
    "# Comuna 4"
   ]
  },
  {
   "cell_type": "code",
   "execution_count": 28,
   "id": "2ef5694d",
   "metadata": {},
   "outputs": [
    {
     "name": "stdout",
     "output_type": "stream",
     "text": [
      "Índice de Computadora - Comuna 4: 0.17954581262748204\n",
      "Índice de Escolaridad - Comuna 4: 0.7586275639037788\n",
      "Índice de Educación Superior - Comuna 4: 0.030805670091925967\n"
     ]
    }
   ],
   "source": [
    "# Parámetros para comuna 4\n",
    "numero_hogares_con_computadora_c4 = 42164\n",
    "con_computadora_c4 = 42164\n",
    "con_heladera_c4 = 73047\n",
    "con_celular_c4 =65630\n",
    "con_telefono_c4 = 53996\n",
    "\n",
    "# Calcular el índice de computadora para comuna 4\n",
    "indice_computadora_c4 = calcular_indice_computadora(numero_hogares_con_computadora_c4, con_computadora_c4, con_heladera_c4, con_celular_c4, con_telefono_c4)\n",
    "\n",
    "print(\"Índice de Computadora - Comuna 4:\", indice_computadora_c4)\n",
    "\n",
    "menores_de_18_asisten_c4 = 4610+2869+20869+5901\n",
    "menores_de_18_c4 = 5950+2991+21056+6111+9038\n",
    "# Calcular el índice de escolaridad para comuna 4\n",
    "indice_escolaridad_c4 = calcular_indice_escolaridad(menores_de_18_asisten_c4, menores_de_18_c4)\n",
    "\n",
    "print(\"Índice de Escolaridad - Comuna 4:\", indice_escolaridad_c4)\n",
    "\n",
    "# Parámetros para comuna 4\n",
    "mayores_de_25_universitarios_c4 = 2011+2255\n",
    "mayores_de_25_c4 = 18214+120267\n",
    "\n",
    "# Calcular el índice de educación superior para comuna 4\n",
    "indice_educacion_superior_c4 = calcular_indice_educacion_superior(mayores_de_25_universitarios_c4, mayores_de_25_c4)\n",
    "\n",
    "print(\"Índice de Educación Superior - Comuna 4:\", indice_educacion_superior_c4)\n"
   ]
  },
  {
   "cell_type": "code",
   "execution_count": 29,
   "id": "fe7b47fb",
   "metadata": {},
   "outputs": [
    {
     "name": "stdout",
     "output_type": "stream",
     "text": [
      "\n",
      "Componentes Principales - Comuna 4:\n",
      "[[ 0.6344287  -0.60624151 -0.47955339]\n",
      " [ 0.19806044 -0.47218973  0.85895804]\n",
      " [-0.74717621 -0.63992819 -0.17949826]]\n",
      "\n",
      "Varianza Explicada - Comuna 4:\n",
      "[9.56102992e-01 4.38970081e-02 1.58696817e-34]\n",
      "PC1 - Comuna 4: 0.2198960255674224\n",
      "NSE - Comuna 4: 2.2999198562998653\n"
     ]
    }
   ],
   "source": [
    "# Calcular PCA para comuna 4\n",
    "componentes_principales_c4, varianza_explicada_c4 = calcular_pca(indice_educacion_superior_c4, indice_escolaridad_c4, indice_computadora_c4)\n",
    "\n",
    "print(\"\\nComponentes Principales - Comuna 4:\")\n",
    "print(componentes_principales_c4)\n",
    "\n",
    "print(\"\\nVarianza Explicada - Comuna 4:\")\n",
    "print(varianza_explicada_c4)\n",
    "\n",
    "# Calcula PC1 para comuna 4\n",
    "pc1_resultado_c4 = calcular_pc1(indice_educacion_superior_c4, indice_escolaridad_c4, indice_computadora_c4)\n",
    "print(\"PC1 - Comuna 4:\", pc1_resultado_c4)\n",
    "\n",
    "# Normaliza PC1 para comuna 4\n",
    "pc1_max_c4 = varianza_explicada_c4[0]\n",
    "nse_resultado_c4 = normalizar_pc1(pc1_resultado_c4, pc1_max_c4)\n",
    "print(\"NSE - Comuna 4:\", nse_resultado_c4)\n"
   ]
  },
  {
   "cell_type": "markdown",
   "id": "44866fa8",
   "metadata": {},
   "source": [
    " El valor normalizado del índice socioeconómico (NSE) obtenido a través del análisis de componentes principales (PCA) representa una medida relativa del nivel socioeconómico, en el caso de la comuna 1 es de 2.2999198562998653 y en esta comuna ganó la presidencia Unión por la patria. Se ubicaria en el nivel bajo."
   ]
  },
  {
   "cell_type": "markdown",
   "id": "840db72e",
   "metadata": {},
   "source": [
    "# Comuna 5"
   ]
  },
  {
   "cell_type": "code",
   "execution_count": 30,
   "id": "8cb18701",
   "metadata": {},
   "outputs": [
    {
     "name": "stdout",
     "output_type": "stream",
     "text": [
      "Índice de Computadora - Comuna 5: 0.20578743954016354\n",
      "Índice de Escolaridad - Comuna 5: 0.9648058252427184\n",
      "Índice de Educación Superior - Comuna 5: 0.05731184362941768\n"
     ]
    }
   ],
   "source": [
    "# Parámetros para comuna 5\n",
    "numero_hogares_con_computadora_c5 = 54204\n",
    "con_computadora_c5 = 54204\n",
    "con_heladera_c5 = 75319\n",
    "con_celular_c5 = 67096\n",
    "con_telefono_c5 =66779\n",
    "# Calcular el índice de computadora para comuna 5\n",
    "indice_computadora_c5 = calcular_indice_computadora(numero_hogares_con_computadora_c5, con_computadora_c5, con_heladera_c5, con_celular_c5, con_telefono_c5)\n",
    "\n",
    "print(\"Índice de Computadora - Comuna 5:\", indice_computadora_c5)\n",
    "\n",
    "menores_de_18_asisten_c5 = 3072+1746+11875+3166+4786\n",
    "menores_de_18_c5 = 3430+1776+11950+3228+5160\n",
    "\n",
    "# Calcular el índice de escolaridad para comuna 5\n",
    "indice_escolaridad_c5 = calcular_indice_escolaridad(menores_de_18_asisten_c5, menores_de_18_c5)\n",
    "\n",
    "print(\"Índice de Escolaridad - Comuna 5:\", indice_escolaridad_c5)\n",
    "\n",
    "# Parámetros para comuna 5\n",
    "mayores_de_25_universitarios_c5 = 3648+3823\n",
    "mayores_de_25_c5 = 15948+114409\n",
    "# Calcular el índice de educación superior para comuna 5\n",
    "indice_educacion_superior_c5 = calcular_indice_educacion_superior(mayores_de_25_universitarios_c5, mayores_de_25_c5)\n",
    "\n",
    "print(\"Índice de Educación Superior - Comuna 5:\", indice_educacion_superior_c5)\n"
   ]
  },
  {
   "cell_type": "code",
   "execution_count": 31,
   "id": "54e6bcec",
   "metadata": {},
   "outputs": [
    {
     "name": "stdout",
     "output_type": "stream",
     "text": [
      "\n",
      "Componentes Principales - Comuna 5:\n",
      "[[ 0.58670199 -0.62119825 -0.51951277]\n",
      " [ 0.74624878  0.16560954  0.64473734]\n",
      " [-0.31447343 -0.76595445  0.56073188]]\n",
      "\n",
      "Varianza Explicada - Comuna 5:\n",
      "[9.94507202e-01 5.49279837e-03 5.39062666e-35]\n",
      "PC1 - Comuna 5: 0.2790382033800798\n",
      "NSE - Comuna 5: 2.8057936928104485\n"
     ]
    }
   ],
   "source": [
    "# Calcular PCA para comuna 5\n",
    "componentes_principales_c5, varianza_explicada_c5 = calcular_pca(indice_educacion_superior_c5, indice_escolaridad_c5, indice_computadora_c5)\n",
    "\n",
    "print(\"\\nComponentes Principales - Comuna 5:\")\n",
    "print(componentes_principales_c5)\n",
    "\n",
    "print(\"\\nVarianza Explicada - Comuna 5:\")\n",
    "print(varianza_explicada_c5)\n",
    "\n",
    "# Calcula PC1 para comuna 5\n",
    "pc1_resultado_c5 = calcular_pc1(indice_educacion_superior_c5, indice_escolaridad_c5, indice_computadora_c5)\n",
    "print(\"PC1 - Comuna 5:\", pc1_resultado_c5)\n",
    "\n",
    "# Normaliza PC1 para comuna 5\n",
    "pc1_max_c5 = varianza_explicada_c5[0]\n",
    "nse_resultado_c5 = normalizar_pc1(pc1_resultado_c5, pc1_max_c5)\n",
    "print(\"NSE - Comuna 5:\", nse_resultado_c5)\n"
   ]
  },
  {
   "cell_type": "markdown",
   "id": "1c6d1bdd",
   "metadata": {},
   "source": [
    "El valor normalizado del índice socioeconómico (NSE) obtenido a través del análisis de componentes principales (PCA) representa una medida relativa del nivel socioeconómico, en el caso de la comuna 1 es de 2.8057936928104485 y en esta comuna ganó la presidencia Juntos por el cambio. Se ubicaria en el nivel bajo."
   ]
  },
  {
   "cell_type": "markdown",
   "id": "719e731e",
   "metadata": {},
   "source": [
    "# Comuna 6"
   ]
  },
  {
   "cell_type": "code",
   "execution_count": 32,
   "id": "7407656f",
   "metadata": {},
   "outputs": [
    {
     "name": "stdout",
     "output_type": "stream",
     "text": [
      "Índice de Computadora - Comuna 6: 0.21243150183974524\n",
      "Índice de Escolaridad - Comuna 6: 0.9742312600337546\n",
      "Índice de Educación Superior - Comuna 6: 0.05435672268586159\n"
     ]
    }
   ],
   "source": [
    "# Parámetros para comuna 6\n",
    "numero_hogares_con_computadora_c6 = 56637\n",
    "con_computadora_c6 = 56637  \n",
    "con_heladera_c6 = 74619  \n",
    "con_celular_c6 = 66241 \n",
    "con_telefono_c6 = 69116\n",
    "\n",
    "# Calcular el índice de computadora para comuna 6\n",
    "indice_computadora_c6 = calcular_indice_computadora(numero_hogares_con_computadora_c6, con_computadora_c6, con_heladera_c6, con_celular_c6, con_telefono_c6)\n",
    "\n",
    "print(\"Índice de Computadora - Comuna 6:\", indice_computadora_c6)\n",
    "\n",
    "menores_de_18_asisten_c6 = 3241+1707+11237+2952+4530\n",
    "menores_de_18_c6 = 3467+1732+11302+3007+4785\n",
    "\n",
    "# Calcular el índice de escolaridad para comuna 6\n",
    "indice_escolaridad_c6 = calcular_indice_escolaridad(menores_de_18_asisten_c6, menores_de_18_c6)\n",
    "\n",
    "print(\"Índice de Escolaridad - Comuna 6:\", indice_escolaridad_c6)\n",
    "\n",
    "# Parámetros para comuna 6\n",
    "mayores_de_25_universitarios_c6 = 3407+3699\n",
    "mayores_de_25_c6 = 14191+116538\n",
    "\n",
    "# Calcular el índice de educación superior para comuna 6\n",
    "indice_educacion_superior_c6 = calcular_indice_educacion_superior(mayores_de_25_universitarios_c6, mayores_de_25_c6)\n",
    "\n",
    "print(\"Índice de Educación Superior - Comuna 6:\", indice_educacion_superior_c6)\n"
   ]
  },
  {
   "cell_type": "code",
   "execution_count": 33,
   "id": "1e684244",
   "metadata": {},
   "outputs": [
    {
     "name": "stdout",
     "output_type": "stream",
     "text": [
      "\n",
      "Componentes Principales - Comuna 6:\n",
      "[[ 0.58477034 -0.6247822  -0.5173885 ]\n",
      " [ 0.77963498  0.25667772  0.57121436]\n",
      " [ 0.22408247  0.73740339 -0.63719957]]\n",
      "\n",
      "Varianza Explicada - Comuna 6:\n",
      "[9.94208444e-01 5.79155597e-03 7.97786662e-34]\n",
      "PC1 - Comuna 6: 0.28205186974651664\n",
      "NSE - Comuna 6: 2.8369490466490124\n"
     ]
    }
   ],
   "source": [
    "# Calcular PCA para comuna 6\n",
    "componentes_principales_c6, varianza_explicada_c6 = calcular_pca(indice_educacion_superior_c6, indice_escolaridad_c6, indice_computadora_c6)\n",
    "\n",
    "print(\"\\nComponentes Principales - Comuna 6:\")\n",
    "print(componentes_principales_c6)\n",
    "\n",
    "print(\"\\nVarianza Explicada - Comuna 6:\")\n",
    "print(varianza_explicada_c6)\n",
    "\n",
    "# Calcula PC1 para comuna 6\n",
    "pc1_resultado_c6 = calcular_pc1(indice_educacion_superior_c6, indice_escolaridad_c6, indice_computadora_c6)\n",
    "print(\"PC1 - Comuna 6:\", pc1_resultado_c6)\n",
    "\n",
    "# Normaliza PC1 para comuna 6\n",
    "pc1_max_c6 = varianza_explicada_c6[0]\n",
    "nse_resultado_c6 = normalizar_pc1(pc1_resultado_c6, pc1_max_c6)\n",
    "print(\"NSE - Comuna 6:\", nse_resultado_c6)"
   ]
  },
  {
   "cell_type": "markdown",
   "id": "f34df8db",
   "metadata": {},
   "source": [
    "El valor normalizado del índice socioeconómico (NSE) obtenido a través del análisis de componentes principales (PCA) representa una medida relativa del nivel socioeconómico, en el caso de la comuna 1 es de 2.8369490466490124 y en esta comuna ganó la presidencia Juntos por el cambio. Se ubicaria en el nivel bajo."
   ]
  },
  {
   "cell_type": "markdown",
   "id": "48c31bf7",
   "metadata": {},
   "source": [
    "# Comuna 7"
   ]
  },
  {
   "cell_type": "code",
   "execution_count": 34,
   "id": "b45378f9",
   "metadata": {},
   "outputs": [
    {
     "name": "stdout",
     "output_type": "stream",
     "text": [
      "Índice de Computadora - Comuna 7: 0.23463028152661547\n",
      "Índice de Escolaridad - Comuna 7: 0.9340087691050063\n",
      "Índice de Educación Superior - Comuna 7: 0.03784398238052385\n"
     ]
    }
   ],
   "source": [
    "# Parámetros para comuna 7\n",
    "numero_hogares_con_computadora_c7 = 50522\n",
    "con_computadora_c7 = 50522\n",
    "con_heladera_c7 = 77467\n",
    "con_celular_c7 = 69993\n",
    "con_telefono_c7 = 17344\n",
    "\n",
    "# Calcular el índice de computadora para comuna 7\n",
    "indice_computadora_c7 = calcular_indice_computadora(numero_hogares_con_computadora_c7, con_computadora_c7, con_heladera_c7, con_celular_c7, con_telefono_c7)\n",
    "\n",
    "print(\"Índice de Computadora - Comuna 7:\", indice_computadora_c7)\n",
    "\n",
    "menores_de_18_asisten_c7 = 4234+2675+18611+5106+7079\n",
    "menores_de_18_c7 = 5581+2795+18779+5259+7955\n",
    "\n",
    "\n",
    "# Calcular el índice de escolaridad para comuna 7\n",
    "indice_escolaridad_c7 = calcular_indice_escolaridad(menores_de_18_asisten_c7, menores_de_18_c7)\n",
    "\n",
    "print(\"Índice de Escolaridad - Comuna 7:\", indice_escolaridad_c7)\n",
    "\n",
    "# Parámetros para comuna 7\n",
    "mayores_de_25_universitarios_c7 = 2706+2887\n",
    "mayores_de_25_c7 = 17836+129955\n",
    "\n",
    "\n",
    "# Calcular el índice de educación superior para comuna 7\n",
    "indice_educacion_superior_c7 = calcular_indice_educacion_superior(mayores_de_25_universitarios_c7, mayores_de_25_c7)\n",
    "\n",
    "print(\"Índice de Educación Superior - Comuna 7:\", indice_educacion_superior_c7)\n"
   ]
  },
  {
   "cell_type": "code",
   "execution_count": 35,
   "id": "87f855aa",
   "metadata": {},
   "outputs": [
    {
     "name": "stdout",
     "output_type": "stream",
     "text": [
      "\n",
      "Componentes Principales - Comuna 7:\n",
      "[[ 0.59504572 -0.63370195 -0.49431005]\n",
      " [ 0.68550826  0.07914046  0.7237508 ]\n",
      " [-0.41952237 -0.76951844  0.48150012]]\n",
      "\n",
      "Varianza Explicada - Comuna 7:\n",
      "[9.89114820e-01 1.08851798e-02 7.78801744e-34]\n",
      "PC1 - Comuna 7: 0.2793511405791893\n",
      "NSE - Comuna 7: 2.824253917385751\n"
     ]
    }
   ],
   "source": [
    "# Calcular PCA para comuna 7\n",
    "componentes_principales_c7, varianza_explicada_c7 = calcular_pca(indice_educacion_superior_c7, indice_escolaridad_c7, indice_computadora_c7)\n",
    "\n",
    "print(\"\\nComponentes Principales - Comuna 7:\")\n",
    "print(componentes_principales_c7)\n",
    "\n",
    "print(\"\\nVarianza Explicada - Comuna 7:\")\n",
    "print(varianza_explicada_c7)\n",
    "\n",
    "# Calcula PC1 para comuna 7\n",
    "pc1_resultado_c7 = calcular_pc1(indice_educacion_superior_c7, indice_escolaridad_c7, indice_computadora_c7)\n",
    "print(\"PC1 - Comuna 7:\", pc1_resultado_c7)\n",
    "\n",
    "# Normaliza PC1 para comuna 7\n",
    "pc1_max_c7 = varianza_explicada_c7[0]\n",
    "nse_resultado_c7 = normalizar_pc1(pc1_resultado_c7, pc1_max_c7)\n",
    "print(\"NSE - Comuna 7:\", nse_resultado_c7)"
   ]
  },
  {
   "cell_type": "markdown",
   "id": "da0a4134",
   "metadata": {},
   "source": [
    "El valor normalizado del índice socioeconómico (NSE) obtenido a través del análisis de componentes principales (PCA) representa una medida relativa del nivel socioeconómico, en el caso de la comuna 1 es de 2.824253917385751 y en esta comuna ganó la presidencia -----. Se ubicaria en el nivel bajo."
   ]
  },
  {
   "cell_type": "markdown",
   "id": "bc7367ae",
   "metadata": {},
   "source": [
    "# Comuna 8 "
   ]
  },
  {
   "cell_type": "code",
   "execution_count": 36,
   "id": "4ef7ce8e",
   "metadata": {},
   "outputs": [
    {
     "name": "stdout",
     "output_type": "stream",
     "text": [
      "Índice de Computadora - Comuna 8: 0.1572943729559556\n",
      "Índice de Escolaridad - Comuna 8: 0.9033264940847776\n",
      "Índice de Educación Superior - Comuna 8: 0.018191830943847073\n"
     ]
    }
   ],
   "source": [
    "# Parámetros para comuna 8\n",
    "numero_hogares_con_computadora_c8 = 25731\n",
    "con_computadora_c8 = 25731\n",
    "con_heladera_c8 = 54079\n",
    "con_celular_c8 = 49102\n",
    "con_telefono_c8 = 34673\n",
    "\n",
    "# Calcular el índice de computadora para comuna 8\n",
    "indice_computadora_c8 = calcular_indice_computadora(numero_hogares_con_computadora_c8, con_computadora_c8, con_heladera_c8, con_celular_c8, con_telefono_c8)\n",
    "\n",
    "print(\"Índice de Computadora - Comuna 8:\", indice_computadora_c8)\n",
    "\n",
    "menores_de_18_asisten_c8 = 4270+2955+21064+5725+7371\n",
    "menores_de_18_c8 = 6443+3163+21321+5995+8892\n",
    "\n",
    "\n",
    "# Calcular el índice de escolaridad para comuna 8\n",
    "indice_escolaridad_c8 = calcular_indice_escolaridad(menores_de_18_asisten_c8, menores_de_18_c8)\n",
    "\n",
    "print(\"Índice de Escolaridad - Comuna 8:\", indice_escolaridad_c8)\n",
    "\n",
    "# Parámetros para comuna 8\n",
    "mayores_de_25_universitarios_c8 = 969+980\n",
    "mayores_de_25_c8 = +16082+91054\n",
    "\n",
    "\n",
    "# Calcular el índice de educación superior para comuna 8\n",
    "indice_educacion_superior_c8 = calcular_indice_educacion_superior(mayores_de_25_universitarios_c8, mayores_de_25_c8)\n",
    "\n",
    "print(\"Índice de Educación Superior - Comuna 8:\", indice_educacion_superior_c8)\n"
   ]
  },
  {
   "cell_type": "code",
   "execution_count": 37,
   "id": "1aeaf091",
   "metadata": {},
   "outputs": [
    {
     "name": "stdout",
     "output_type": "stream",
     "text": [
      "\n",
      "Componentes Principales - Comuna 8:\n",
      "[[ 0.59954538 -0.61213118 -0.51559748]\n",
      " [ 0.48667077 -0.23259486  0.84205177]\n",
      " [-0.63537147 -0.75577447  0.15845518]]\n",
      "\n",
      "Varianza Explicada - Comuna 8:\n",
      "[9.90629997e-01 9.37000286e-03 2.08205195e-33]\n",
      "PC1 - Comuna 8: 0.21163267049033463\n",
      "NSE - Comuna 8: 2.136344256706839\n"
     ]
    }
   ],
   "source": [
    "# Calcular PCA para comuna 8\n",
    "componentes_principales_c8, varianza_explicada_c8 = calcular_pca(indice_educacion_superior_c8, indice_escolaridad_c8, indice_computadora_c8)\n",
    "\n",
    "print(\"\\nComponentes Principales - Comuna 8:\")\n",
    "print(componentes_principales_c8)\n",
    "\n",
    "print(\"\\nVarianza Explicada - Comuna 8:\")\n",
    "print(varianza_explicada_c8)\n",
    "\n",
    "# Calcula PC1 para comuna 8\n",
    "pc1_resultado_c8 = calcular_pc1(indice_educacion_superior_c8, indice_escolaridad_c8, indice_computadora_c8)\n",
    "print(\"PC1 - Comuna 8:\", pc1_resultado_c8)\n",
    "\n",
    "# Normaliza PC1 para comuna 8\n",
    "pc1_max_c8 = varianza_explicada_c8[0]\n",
    "nse_resultado_c8 = normalizar_pc1(pc1_resultado_c8, pc1_max_c8)\n",
    "print(\"NSE - Comuna 8:\", nse_resultado_c8)"
   ]
  },
  {
   "cell_type": "markdown",
   "id": "0e0c14a6",
   "metadata": {},
   "source": [
    "El valor normalizado del índice socioeconómico (NSE) obtenido a través del análisis de componentes principales (PCA) representa una medida relativa del nivel socioeconómico, en el caso de la comuna 1 es de 2.136344256706839 y en esta comuna ganó la presidencia -----. Se ubicaria en el nivel bajo."
   ]
  },
  {
   "cell_type": "markdown",
   "id": "a27dc4bd",
   "metadata": {},
   "source": [
    "# Comuna 9"
   ]
  },
  {
   "cell_type": "code",
   "execution_count": 38,
   "id": "e945386f",
   "metadata": {},
   "outputs": [
    {
     "name": "stdout",
     "output_type": "stream",
     "text": [
      "Índice de Computadora - Comuna 9: 0.18583696112383702\n",
      "Índice de Escolaridad - Comuna 9: 0.9364041604754829\n",
      "Índice de Educación Superior - Comuna 9: 0.029165524175121103\n"
     ]
    }
   ],
   "source": [
    "# Parámetros para comuna 9\n",
    "numero_hogares_con_computadora_c9 = 34236\n",
    "con_computadora_c9 = 34236\n",
    "con_heladera_c9 = 55333\n",
    "con_celular_c9 = 47786\n",
    "con_telefono_c9 = 46871\n",
    "\n",
    "# Calcular el índice de computadora para comuna 9\n",
    "indice_computadora_c9 = calcular_indice_computadora(numero_hogares_con_computadora_c9, con_computadora_c9, con_heladera_c9, con_celular_c9, con_telefono_c9)\n",
    "\n",
    "print(\"Índice de Computadora - Comuna 9:\", indice_computadora_c9)\n",
    "\n",
    "menores_de_18_asisten_c9 = 3114+2045+13888+3906+5406\n",
    "menores_de_18_c9 = 4034+2137+14034+4009+6071\n",
    "\n",
    "\n",
    "# Calcular el índice de escolaridad para comuna 9\n",
    "indice_escolaridad_c9 = calcular_indice_escolaridad(menores_de_18_asisten_c9, menores_de_18_c9)\n",
    "\n",
    "print(\"Índice de Escolaridad - Comuna 9:\", indice_escolaridad_c9)\n",
    "\n",
    "# Parámetros para comuna 9\n",
    "mayores_de_25_universitarios_c9 = 1534+1657\n",
    "mayores_de_25_c9 = 11934+97476\n",
    "\n",
    "\n",
    "# Calcular el índice de educación superior para comuna 9\n",
    "indice_educacion_superior_c9 = calcular_indice_educacion_superior(mayores_de_25_universitarios_c9, mayores_de_25_c9)\n",
    "\n",
    "print(\"Índice de Educación Superior - Comuna 9:\", indice_educacion_superior_c9)\n"
   ]
  },
  {
   "cell_type": "code",
   "execution_count": 39,
   "id": "ebbaefd4",
   "metadata": {},
   "outputs": [
    {
     "name": "stdout",
     "output_type": "stream",
     "text": [
      "\n",
      "Componentes Principales - Comuna 9:\n",
      "[[ 0.59291564 -0.62053694 -0.51321043]\n",
      " [ 0.64756882 -0.01139738  0.76192173]\n",
      " [-0.47864983 -0.78409439  0.39508269]]\n",
      "\n",
      "Varianza Explicada - Comuna 9:\n",
      "[9.92624487e-01 7.37551298e-03 1.62955569e-32]\n",
      "PC1 - Comuna 9: 0.24179843617736796\n",
      "NSE - Comuna 9: 2.4359507481352645\n"
     ]
    }
   ],
   "source": [
    " #Calcular PCA para comuna 9\n",
    "componentes_principales_c9, varianza_explicada_c9 = calcular_pca(indice_educacion_superior_c9, indice_escolaridad_c9, indice_computadora_c9)\n",
    "\n",
    "print(\"\\nComponentes Principales - Comuna 9:\")\n",
    "print(componentes_principales_c9)\n",
    "\n",
    "print(\"\\nVarianza Explicada - Comuna 9:\")\n",
    "print(varianza_explicada_c9)\n",
    "\n",
    "# Calcula PC1 para comuna 9\n",
    "pc1_resultado_c9 = calcular_pc1(indice_educacion_superior_c9, indice_escolaridad_c9, indice_computadora_c9)\n",
    "print(\"PC1 - Comuna 9:\", pc1_resultado_c9)\n",
    "\n",
    "# Normaliza PC1 para comuna 9\n",
    "pc1_max_c9 = varianza_explicada_c9[0]\n",
    "nse_resultado_c9 = normalizar_pc1(pc1_resultado_c9, pc1_max_c9)\n",
    "print(\"NSE - Comuna 9:\", nse_resultado_c9)"
   ]
  },
  {
   "cell_type": "markdown",
   "id": "f881e40e",
   "metadata": {},
   "source": [
    "El valor normalizado del índice socioeconómico (NSE) obtenido a través del análisis de componentes principales (PCA) representa una medida relativa del nivel socioeconómico, en el caso de la comuna 1 es de 2.4359507481352645 y en esta comuna ganó la presidencia -----. Se ubicaria en el nivel bajo."
   ]
  },
  {
   "cell_type": "markdown",
   "id": "2b644572",
   "metadata": {},
   "source": [
    "# Comuna 10"
   ]
  },
  {
   "cell_type": "code",
   "execution_count": 40,
   "id": "e02c71d5",
   "metadata": {},
   "outputs": [
    {
     "name": "stdout",
     "output_type": "stream",
     "text": [
      "Índice de Computadora - Comuna 10: 0.1978092072764245\n",
      "Índice de Escolaridad - Comuna 10: 0.9590364921390452\n",
      "Índice de Educación Superior - Comuna 10: 0.03628432127277393\n"
     ]
    }
   ],
   "source": [
    "# Parámetros para comuna 10\n",
    "numero_hogares_con_computadora_c10 = 41245\n",
    "con_computadora_c10 =41245\n",
    "con_heladera_c10 = 60532\n",
    "con_celular_c10 = 52744\n",
    "con_telefono_c10 = 53988\n",
    "\n",
    "# Calcular el índice de computadora para comuna 10\n",
    "indice_computadora_c10 = calcular_indice_computadora(numero_hogares_con_computadora_c10, con_computadora_c10, con_heladera_c10, con_celular_c10, con_telefono_c10)\n",
    "\n",
    "print(\"Índice de Computadora - Comuna 10:\", indice_computadora_c10)\n",
    "\n",
    "menores_de_18_asisten_c10 = 3277+1982+12711+3463+5163\n",
    "menores_de_18_c10 = 3728+2032+12807+3550+5615\n",
    "\n",
    "\n",
    "# Calcular el índice de escolaridad para comuna 10\n",
    "indice_escolaridad_c10 = calcular_indice_escolaridad(menores_de_18_asisten_c10, menores_de_18_c10)\n",
    "\n",
    "print(\"Índice de Escolaridad - Comuna 10:\", indice_escolaridad_c10)\n",
    "\n",
    "# Parámetros para comuna 10\n",
    "mayores_de_25_universitarios_c10 = 2037+2205\n",
    "mayores_de_25_c10 = 12239+104671\n",
    "\n",
    "\n",
    "# Calcular el índice de educación superior para comuna 10\n",
    "indice_educacion_superior_c10 = calcular_indice_educacion_superior(mayores_de_25_universitarios_c10, mayores_de_25_c10)\n",
    "\n",
    "print(\"Índice de Educación Superior - Comuna 10:\", indice_educacion_superior_c10)\n"
   ]
  },
  {
   "cell_type": "code",
   "execution_count": 41,
   "id": "071ab268",
   "metadata": {},
   "outputs": [
    {
     "name": "stdout",
     "output_type": "stream",
     "text": [
      "\n",
      "Componentes Principales - Comuna 10:\n",
      "[[ 0.58807991 -0.62393818 -0.51464859]\n",
      " [ 0.73682234  0.15087768  0.65903624]\n",
      " [ 0.33354888  0.76677055 -0.54845973]]\n",
      "\n",
      "Varianza Explicada - Comuna 10:\n",
      "[9.93610168e-01 6.38983201e-03 9.64637581e-35]\n",
      "PC1 - Comuna 10: 0.25730890461848005\n",
      "NSE - Comuna 10: 2.5896363876678907\n"
     ]
    }
   ],
   "source": [
    "# Calcular PCA para comuna 10\n",
    "componentes_principales_c10, varianza_explicada_c10 = calcular_pca(indice_educacion_superior_c10, indice_escolaridad_c10, indice_computadora_c10)\n",
    "\n",
    "print(\"\\nComponentes Principales - Comuna 10:\")\n",
    "print(componentes_principales_c10)\n",
    "\n",
    "print(\"\\nVarianza Explicada - Comuna 10:\")\n",
    "print(varianza_explicada_c10)\n",
    "\n",
    "# Calcula PC1 para comuna 10\n",
    "pc1_resultado_c10 = calcular_pc1(indice_educacion_superior_c10, indice_escolaridad_c10, indice_computadora_c10)\n",
    "print(\"PC1 - Comuna 10:\", pc1_resultado_c10)\n",
    "\n",
    "# Normaliza PC1 para comuna 10\n",
    "pc1_max_c10 = varianza_explicada_c10[0]\n",
    "nse_resultado_c10 = normalizar_pc1(pc1_resultado_c10, pc1_max_c10)\n",
    "print(\"NSE - Comuna 10:\", nse_resultado_c10)"
   ]
  },
  {
   "cell_type": "markdown",
   "id": "12778f0b",
   "metadata": {},
   "source": [
    "El valor normalizado del índice socioeconómico (NSE) obtenido a través del análisis de componentes principales (PCA) representa una medida relativa del nivel socioeconómico, en el caso de la comuna 1 es de 2.5896363876678907 y en esta comuna ganó la presidencia -----. Se ubicaria en el nivel bajo."
   ]
  },
  {
   "cell_type": "markdown",
   "id": "e5cfed50",
   "metadata": {},
   "source": [
    "# Comuna 11"
   ]
  },
  {
   "cell_type": "code",
   "execution_count": 42,
   "id": "c0d33004",
   "metadata": {},
   "outputs": [
    {
     "name": "stdout",
     "output_type": "stream",
     "text": [
      "Índice de Computadora - Comuna 11: 0.20451853037701112\n",
      "Índice de Escolaridad - Comuna 11: 0.9677872062663185\n",
      "Índice de Educación Superior - Comuna 11: 0.04127366280819454\n"
     ]
    }
   ],
   "source": [
    "# Parámetros para comuna 11\n",
    "numero_hogares_con_computadora_c11 = 51101\n",
    "con_computadora_c11 = 51101\n",
    "con_heladera_c11 = 70946\n",
    "con_celular_c11 = 62113\n",
    "con_telefono_c11 = 65700\n",
    "\n",
    "# Calcular el índice de computadora para comuna 11\n",
    "indice_computadora_c11 = calcular_indice_computadora(numero_hogares_con_computadora_c11, con_computadora_c11, con_heladera_c11, con_celular_c11, con_telefono_c11)\n",
    "\n",
    "print(\"Índice de Computadora - Comuna 11:\", indice_computadora_c11)\n",
    "\n",
    "menores_de_18_asisten_c11 =3570+2113+14252+3900+5818\n",
    "menores_de_18_c11 = 3975+2160+14335+3972+6198\n",
    "\n",
    "\n",
    "# Calcular el índice de escolaridad para comuna 11\n",
    "indice_escolaridad_c11 = calcular_indice_escolaridad(menores_de_18_asisten_c11, menores_de_18_c11)\n",
    "\n",
    "print(\"Índice de Escolaridad - Comuna 11:\", indice_escolaridad_c11)\n",
    "\n",
    "# Parámetros para comuna 11\n",
    "mayores_de_25_universitarios_c11 = 2744+2879\n",
    "mayores_de_25_c11 = 13971+122266\n",
    "\n",
    "\n",
    "# Calcular el índice de educación superior para comuna 11\n",
    "indice_educacion_superior_c11 = calcular_indice_educacion_superior(mayores_de_25_universitarios_c11, mayores_de_25_c11)\n",
    "\n",
    "print(\"Índice de Educación Superior - Comuna 11:\", indice_educacion_superior_c11)\n"
   ]
  },
  {
   "cell_type": "code",
   "execution_count": 43,
   "id": "878f45f1",
   "metadata": {},
   "outputs": [
    {
     "name": "stdout",
     "output_type": "stream",
     "text": [
      "\n",
      "Componentes Principales - Comuna 11:\n",
      "[[ 0.58622026 -0.62531734 -0.51509615]\n",
      " [ 0.76475102  0.21726645  0.60658978]\n",
      " [ 0.26739799  0.74951552 -0.60557807]]\n",
      "\n",
      "Varianza Explicada - Comuna 11:\n",
      "[9.93789737e-01 6.21026305e-03 6.38949788e-34]\n",
      "PC1 - Comuna 11: 0.26633909816389023\n",
      "NSE - Comuna 11: 2.680034702128685\n"
     ]
    }
   ],
   "source": [
    "# Calcular PCA para comuna 11\n",
    "componentes_principales_c11, varianza_explicada_c11 = calcular_pca(indice_educacion_superior_c11, indice_escolaridad_c11, indice_computadora_c11)\n",
    "\n",
    "print(\"\\nComponentes Principales - Comuna 11:\")\n",
    "print(componentes_principales_c11)\n",
    "\n",
    "print(\"\\nVarianza Explicada - Comuna 11:\")\n",
    "print(varianza_explicada_c11)\n",
    "\n",
    "# Calcula PC1 para comuna 11\n",
    "pc1_resultado_c11 = calcular_pc1(indice_educacion_superior_c11, indice_escolaridad_c11, indice_computadora_c11)\n",
    "print(\"PC1 - Comuna 11:\", pc1_resultado_c11)\n",
    "\n",
    "# Normaliza PC1 para comuna 11\n",
    "pc1_max_c11 = varianza_explicada_c11[0]\n",
    "nse_resultado_c11 = normalizar_pc1(pc1_resultado_c11, pc1_max_c11)\n",
    "print(\"NSE - Comuna 11:\", nse_resultado_c11)"
   ]
  },
  {
   "cell_type": "markdown",
   "id": "443a7b50",
   "metadata": {},
   "source": [
    "El valor normalizado del índice socioeconómico (NSE) obtenido a través del análisis de componentes principales (PCA) representa una medida relativa del nivel socioeconómico, en el caso de la comuna 1 es de 2.680034702128685 y en esta comuna ganó la presidencia -----. Se ubicaria en el nivel bajo."
   ]
  },
  {
   "cell_type": "markdown",
   "id": "b06bf4e4",
   "metadata": {},
   "source": [
    "# Comuna 12 "
   ]
  },
  {
   "cell_type": "code",
   "execution_count": 44,
   "id": "9bbef5b4",
   "metadata": {},
   "outputs": [
    {
     "name": "stdout",
     "output_type": "stream",
     "text": [
      "Índice de Computadora - Comuna 12: 0.2092418980440142\n",
      "Índice de Escolaridad - Comuna 12: 0.9698381160222794\n",
      "Índice de Educación Superior - Comuna 12: 0.045957822556722934\n",
      "\n",
      "Componentes Principales - Comuna 12:\n",
      "[[ 0.58581359 -0.62570908 -0.51508308]\n",
      " [ 0.77035648  0.23249204  0.59371571]\n",
      " [ 0.25174059  0.74460432 -0.61821605]]\n",
      "\n",
      "Varianza Explicada - Comuna 12:\n",
      "[9.93795747e-01 6.20425283e-03 4.12511862e-33]\n",
      "PC1 - Comuna 12: 0.27314607139220753\n",
      "NSE - Comuna 12: 2.7485131846183055\n"
     ]
    }
   ],
   "source": [
    "# Parámetros para comuna 12\n",
    "numero_hogares_con_computadora_c12 =58141\n",
    "con_computadora_c12 =58141\n",
    "con_heladera_c12 = 78046\n",
    "con_telefono_c12 = 72571\n",
    "con_celular_c12 = 69107\n",
    "\n",
    "# Calcular el índice de computadora para comuna 12\n",
    "indice_computadora_c12 = calcular_indice_computadora(numero_hogares_con_computadora_c12, con_computadora_c12, con_heladera_c12, con_celular_c12, con_telefono_c12)\n",
    "\n",
    "print(\"Índice de Computadora - Comuna 12:\", indice_computadora_c12)\n",
    "\n",
    "menores_de_18_asisten_c12 = 4006+2152+14089+3765+5763\n",
    "menores_de_18_c12 = 4360+2185+14178+3845+6133\n",
    "\n",
    "\n",
    "# Calcular el índice de escolaridad para comuna 12\n",
    "indice_escolaridad_c12 = calcular_indice_escolaridad(menores_de_18_asisten_c12, menores_de_18_c12)\n",
    "\n",
    "print(\"Índice de Escolaridad - Comuna 12:\", indice_escolaridad_c12)\n",
    "\n",
    "# Parámetros para comuna 12\n",
    "mayores_de_25_universitarios_c12 = 3287+3375\n",
    "mayores_de_25_c12 = 15643+129316\n",
    "\n",
    "\n",
    "# Calcular el índice de educación superior para comuna 12\n",
    "indice_educacion_superior_c12 = calcular_indice_educacion_superior(mayores_de_25_universitarios_c12, mayores_de_25_c12)\n",
    "\n",
    "print(\"Índice de Educación Superior - Comuna 12:\", indice_educacion_superior_c12)\n",
    "\n",
    "# Calcular PCA para comuna 12\n",
    "componentes_principales_c12, varianza_explicada_c12 = calcular_pca(indice_educacion_superior_c12, indice_escolaridad_c12, indice_computadora_c12)\n",
    "\n",
    "print(\"\\nComponentes Principales - Comuna 12:\")\n",
    "print(componentes_principales_c12)\n",
    "\n",
    "print(\"\\nVarianza Explicada - Comuna 12:\")\n",
    "print(varianza_explicada_c12)\n",
    "\n",
    "# Calcula PC1 para comuna 12\n",
    "pc1_resultado_c12 = calcular_pc1(indice_educacion_superior_c12, indice_escolaridad_c12, indice_computadora_c12)\n",
    "print(\"PC1 - Comuna 12:\", pc1_resultado_c12)\n",
    "\n",
    "# Normaliza PC1 para comuna 12\n",
    "pc1_max_c12 = varianza_explicada_c12[0]\n",
    "nse_resultado_c12 = normalizar_pc1(pc1_resultado_c12, pc1_max_c12)\n",
    "print(\"NSE - Comuna 12:\", nse_resultado_c12)\n"
   ]
  },
  {
   "cell_type": "markdown",
   "id": "d5926f87",
   "metadata": {},
   "source": [
    "El valor normalizado del índice socioeconómico (NSE) obtenido a través del análisis de componentes principales (PCA) representa una medida relativa del nivel socioeconómico, en el caso de la comuna 1 es de 2.7485131846183055 y en esta comuna ganó la presidencia -----. Se ubicaria en el nivel bajo."
   ]
  },
  {
   "cell_type": "markdown",
   "id": "5db31b8c",
   "metadata": {},
   "source": [
    "# Comuna 13"
   ]
  },
  {
   "cell_type": "code",
   "execution_count": 45,
   "id": "443d7381",
   "metadata": {},
   "outputs": [
    {
     "name": "stdout",
     "output_type": "stream",
     "text": [
      "Índice de Computadora - Comuna 13: 0.21818241705757865\n",
      "Índice de Escolaridad - Comuna 13: 0.9773550149272693\n",
      "Índice de Educación Superior - Comuna 13: 0.05035359855650301\n"
     ]
    }
   ],
   "source": [
    "# Parámetros para comuna 13\n",
    "numero_hogares_con_computadora_c13 = 79488\n",
    "con_computadora_c13 = 79488\n",
    "con_heladera_c13 =99791\n",
    "con_celular_c13 = 90194\n",
    "con_telefono_c13 = 94846\n",
    "\n",
    "# Calcular el índice de computadora para comuna 13\n",
    "indice_computadora_c13 = calcular_indice_computadora(numero_hogares_con_computadora_c13, con_computadora_c13, con_heladera_c13, con_celular_c13, con_telefono_c13)\n",
    "\n",
    "print(\"Índice de Computadora - Comuna 13:\", indice_computadora_c13)\n",
    "\n",
    "menores_de_18_asisten_c13 = 4374+2212+14358+3945+5884\n",
    "menores_de_18_c13 = 4615+2244+14410+4006+6211\n",
    "\n",
    "\n",
    "# Calcular el índice de escolaridad para comuna 13\n",
    "indice_escolaridad_c13 = calcular_indice_escolaridad(menores_de_18_asisten_c13, menores_de_18_c13)\n",
    "\n",
    "print(\"Índice de Escolaridad - Comuna 13:\", indice_escolaridad_c13)\n",
    "\n",
    "# Parámetros para comuna 13\n",
    "mayores_de_25_universitarios_c13 = 4401+4250\n",
    "mayores_de_25_c13 = 18736+153069\n",
    "\n",
    "\n",
    "# Calcular el índice de educación superior para comuna 13\n",
    "indice_educacion_superior_c13 = calcular_indice_educacion_superior(mayores_de_25_universitarios_c13, mayores_de_25_c13)\n",
    "\n",
    "print(\"Índice de Educación Superior - Comuna 13:\", indice_educacion_superior_c13)\n"
   ]
  },
  {
   "cell_type": "code",
   "execution_count": 46,
   "id": "6ab3d050",
   "metadata": {},
   "outputs": [
    {
     "name": "stdout",
     "output_type": "stream",
     "text": [
      "\n",
      "Componentes Principales - Comuna 13:\n",
      "[[ 0.58427716 -0.6278817  -0.5141836 ]\n",
      " [ 0.78964417  0.29361153  0.53875259]\n",
      " [-0.18730266 -0.72080291  0.66735364]]\n",
      "\n",
      "Varianza Explicada - Comuna 13:\n",
      "[9.93610496e-01 6.38950374e-03 9.32341255e-33]\n",
      "PC1 - Comuna 13: 0.28301858309001915\n",
      "NSE - Comuna 13: 2.8483856013669517\n"
     ]
    }
   ],
   "source": [
    "# Calcular PCA para comuna 13\n",
    "componentes_principales_c13, varianza_explicada_c13 = calcular_pca(indice_educacion_superior_c13, indice_escolaridad_c13, indice_computadora_c13)\n",
    "\n",
    "print(\"\\nComponentes Principales - Comuna 13:\")\n",
    "print(componentes_principales_c13)\n",
    "\n",
    "print(\"\\nVarianza Explicada - Comuna 13:\")\n",
    "print(varianza_explicada_c13)\n",
    "\n",
    "# Calcula PC1 para comuna 13\n",
    "pc1_resultado_c13 = calcular_pc1(indice_educacion_superior_c13, indice_escolaridad_c13, indice_computadora_c13)\n",
    "print(\"PC1 - Comuna 13:\", pc1_resultado_c13)\n",
    "\n",
    "# Normaliza PC1 para comuna 13\n",
    "pc1_max_c13 = varianza_explicada_c13[0]\n",
    "nse_resultado_c13 = normalizar_pc1(pc1_resultado_c13, pc1_max_c13)\n",
    "print(\"NSE - Comuna 13:\", nse_resultado_c13)"
   ]
  },
  {
   "cell_type": "markdown",
   "id": "2c3114ed",
   "metadata": {},
   "source": [
    "El valor normalizado del índice socioeconómico (NSE) obtenido a través del análisis de componentes principales (PCA) representa una medida relativa del nivel socioeconómico, en el caso de la comuna 1 es de 2.8483856013669517 y en esta comuna ganó la presidencia -----. Se ubicaria en el nivel bajo."
   ]
  },
  {
   "cell_type": "markdown",
   "id": "24808f2c",
   "metadata": {},
   "source": [
    "# Comuna 14"
   ]
  },
  {
   "cell_type": "code",
   "execution_count": 47,
   "id": "44d03d00",
   "metadata": {},
   "outputs": [
    {
     "name": "stdout",
     "output_type": "stream",
     "text": [
      "Índice de Computadora - Comuna 14: 0.22135464149729178\n",
      "Índice de Escolaridad - Comuna 14: 0.9728231329492336\n",
      "Índice de Educación Superior - Comuna 14: 0.05889586745130503\n"
     ]
    }
   ],
   "source": [
    "# Parámetros para comuna 14\n",
    "numero_hogares_con_computadora_c14 = 82552\n",
    "con_computadora_c14 = 82552\n",
    "con_heladera_c14 = 101975\n",
    "con_celular_c14 = 92920\n",
    "con_telefono_c14 =95493\n",
    "\n",
    "# Calcular el índice de computadora para comuna 14\n",
    "indice_computadora_c14 = calcular_indice_computadora(numero_hogares_con_computadora_c14, con_computadora_c14, con_heladera_c14, con_celular_c14, con_telefono_c14)\n",
    "\n",
    "print(\"Índice de Computadora - Comuna 14:\", indice_computadora_c14)\n",
    "\n",
    "menores_de_18_asisten_c14 =3628+1844+12583+3493+5299\n",
    "menores_de_18_c14 = 3885+1877+12668+3560+5607\n",
    "\n",
    "# Calcular el índice de escolaridad para comuna 14\n",
    "indice_escolaridad_c14 = calcular_indice_escolaridad(menores_de_18_asisten_c14, menores_de_18_c14)\n",
    "\n",
    "print(\"Índice de Escolaridad - Comuna 14:\", indice_escolaridad_c14)\n",
    "\n",
    "# Parámetros para comuna 14\n",
    "mayores_de_25_universitarios_c14 = 5255+4563\n",
    "mayores_de_25_c14 = 21677+145024\n",
    "\n",
    "# Calcular el índice de educación superior para comuna 14\n",
    "indice_educacion_superior_c14 = calcular_indice_educacion_superior(mayores_de_25_universitarios_c14, mayores_de_25_c14)\n",
    "\n",
    "print(\"Índice de Educación Superior - Comuna 14:\", indice_educacion_superior_c14)\n"
   ]
  },
  {
   "cell_type": "code",
   "execution_count": 48,
   "id": "2ad3f41d",
   "metadata": {},
   "outputs": [
    {
     "name": "stdout",
     "output_type": "stream",
     "text": [
      "\n",
      "Componentes Principales - Comuna 14:\n",
      "[[ 0.58525972 -0.6263287  -0.51495963]\n",
      " [ 0.77765191  0.25371656  0.5752264 ]\n",
      " [ 0.22962702  0.73711618 -0.63555579]]\n",
      "\n",
      "Varianza Explicada - Comuna 14:\n",
      "[9.93776216e-01 6.22378435e-03 6.86111065e-33]\n",
      "PC1 - Comuna 14: 0.29106212670633835\n",
      "NSE - Comuna 14: 2.9288497965794145\n"
     ]
    }
   ],
   "source": [
    "# Calcular PCA para comuna 14\n",
    "componentes_principales_c14, varianza_explicada_c14 = calcular_pca(indice_educacion_superior_c14, indice_escolaridad_c14, indice_computadora_c14)\n",
    "\n",
    "print(\"\\nComponentes Principales - Comuna 14:\")\n",
    "print(componentes_principales_c14)\n",
    "\n",
    "print(\"\\nVarianza Explicada - Comuna 14:\")\n",
    "print(varianza_explicada_c14)\n",
    "\n",
    "# Calcula PC1 para comuna 14\n",
    "pc1_resultado_c14 = calcular_pc1(indice_educacion_superior_c14, indice_escolaridad_c14, indice_computadora_c14)\n",
    "print(\"PC1 - Comuna 14:\", pc1_resultado_c14)\n",
    "\n",
    "# Normaliza PC1 para comuna 14\n",
    "pc1_max_c14 = varianza_explicada_c14[0]\n",
    "nse_resultado_c14 = normalizar_pc1(pc1_resultado_c14, pc1_max_c14)\n",
    "print(\"NSE - Comuna 14:\", nse_resultado_c14)"
   ]
  },
  {
   "cell_type": "markdown",
   "id": "42327039",
   "metadata": {},
   "source": [
    "El valor normalizado del índice socioeconómico (NSE) obtenido a través del análisis de componentes principales (PCA) representa una medida relativa del nivel socioeconómico, en el caso de la comuna 1 es de 2.9288497965794145 y en esta comuna ganó la presidencia -----. Se ubicaria en el nivel bajo."
   ]
  },
  {
   "cell_type": "markdown",
   "id": "6e5e30f2",
   "metadata": {},
   "source": [
    "# Comuna 15"
   ]
  },
  {
   "cell_type": "code",
   "execution_count": 49,
   "id": "a59689ae",
   "metadata": {},
   "outputs": [
    {
     "name": "stdout",
     "output_type": "stream",
     "text": [
      "Índice de Computadora - Comuna 15: 0.2065744673243253\n",
      "Índice de Escolaridad - Comuna 15: 0.9598344266320553\n",
      "Índice de Educación Superior - Comuna 15: 0.04808865626510925\n"
     ]
    }
   ],
   "source": [
    "# Parámetros para comuna 15\n",
    "numero_hogares_con_computadora_c15 = 51995\n",
    "con_computadora_c15 = 51995\n",
    "con_heladera_c15 = 71385\n",
    "con_celular_c15 = 63437\n",
    "con_telefono_c15 = 64884\n",
    "\n",
    "# Calcular el índice de computadora para comuna 15\n",
    "indice_computadora_c15 = calcular_indice_computadora(numero_hogares_con_computadora_c15, con_computadora_c15, con_heladera_c15, con_celular_c15, con_telefono_c15)\n",
    "\n",
    "print(\"Índice de Computadora - Comuna 15:\", indice_computadora_c15)\n",
    "\n",
    "menores_de_18_asisten_c15 = 3389+1968+13048+3689+5268\n",
    "menores_de_18_c15 = 3820+2010+13160+3772+5745\n",
    "\n",
    "\n",
    "# Calcular el índice de escolaridad para comuna 15\n",
    "indice_escolaridad_c15 = calcular_indice_escolaridad(menores_de_18_asisten_c15, menores_de_18_c15)\n",
    "\n",
    "print(\"Índice de Escolaridad - Comuna 15:\", indice_escolaridad_c15)\n",
    "\n",
    "# Parámetros para comuna 15\n",
    "mayores_de_25_universitarios_c15 = 3088+3178\n",
    "mayores_de_25_c15 = 15222+115079\n",
    "\n",
    "\n",
    "# Calcular el índice de educación superior para comuna 15\n",
    "indice_educacion_superior_c15 = calcular_indice_educacion_superior(mayores_de_25_universitarios_c15, mayores_de_25_c15)\n",
    "\n",
    "print(\"Índice de Educación Superior - Comuna 15:\", indice_educacion_superior_c15)\n"
   ]
  },
  {
   "cell_type": "code",
   "execution_count": 50,
   "id": "2a657a7a",
   "metadata": {},
   "outputs": [
    {
     "name": "stdout",
     "output_type": "stream",
     "text": [
      "\n",
      "Componentes Principales - Comuna 15:\n",
      "[[ 0.58798243 -0.62361843 -0.51514728]\n",
      " [ 0.73700118  0.15059285  0.6589014 ]\n",
      " [-0.33332556 -0.7670866   0.54815346]]\n",
      "\n",
      "Varianza Explicada - Comuna 15:\n",
      "[9.93701067e-01 6.29893254e-03 5.86636204e-34]\n",
      "PC1 - Comuna 15: 0.27198587166069\n",
      "NSE - Comuna 15: 2.7370995218415874\n"
     ]
    }
   ],
   "source": [
    "# Calcular PCA para comuna 15\n",
    "componentes_principales_c15, varianza_explicada_c15 = calcular_pca(indice_educacion_superior_c15, indice_escolaridad_c15, indice_computadora_c15)\n",
    "\n",
    "print(\"\\nComponentes Principales - Comuna 15:\")\n",
    "print(componentes_principales_c15)\n",
    "\n",
    "print(\"\\nVarianza Explicada - Comuna 15:\")\n",
    "print(varianza_explicada_c15)\n",
    "\n",
    "# Calcula PC1 para comuna 15\n",
    "pc1_resultado_c15 = calcular_pc1(indice_educacion_superior_c15, indice_escolaridad_c15, indice_computadora_c15)\n",
    "print(\"PC1 - Comuna 15:\", pc1_resultado_c15)\n",
    "\n",
    "# Normaliza PC1 para comuna 15\n",
    "pc1_max_c15 = varianza_explicada_c15[0]\n",
    "nse_resultado_c15 = normalizar_pc1(pc1_resultado_c15, pc1_max_c15)\n",
    "print(\"NSE - Comuna 15:\", nse_resultado_c15)"
   ]
  },
  {
   "cell_type": "markdown",
   "id": "43d60384",
   "metadata": {},
   "source": [
    "El valor normalizado del índice socioeconómico (NSE) obtenido a través del análisis de componentes principales (PCA) representa una medida relativa del nivel socioeconómico, en el caso de la comuna 1 es de 2.7370995218415874 y en esta comuna ganó la presidencia -----. Se ubicaria en el nivel bajo"
   ]
  },
  {
   "cell_type": "markdown",
   "id": "da131547",
   "metadata": {},
   "source": [
    "# Graficos"
   ]
  },
  {
   "cell_type": "code",
   "execution_count": 51,
   "id": "e310a8b7",
   "metadata": {},
   "outputs": [
    {
     "data": {
      "image/png": "[encoded data removed]",
      "text/plain": [
       "<Figure size 640x480 with 1 Axes>"
      ]
     },
     "metadata": {},
     "output_type": "display_data"
    }
   ],
   "source": [
    "nse_resultados = np.array([nse_resultado, nse_resultado2, nse_resultado_c3, nse_resultado_c4, nse_resultado_c5, nse_resultado_c6, nse_resultado_c7,nse_resultado_c8, nse_resultado_c9, nse_resultado_c10,nse_resultado_c11, nse_resultado_c12,nse_resultado_c13,nse_resultado_c14, nse_resultado_c15])\n",
    "\n",
    "# Graficamos los resultados en un grafico de barras\n",
    "import matplotlib.pyplot as plt\n",
    "colores = ['blue', 'orange', 'green', 'red', 'purple', 'brown', 'pink', 'gray', 'olive', 'cyan', 'magenta', 'yellow', 'black', 'lightblue', 'lightgreen']\n",
    "comunas = np.arange(1, 16)  # Números de comuna del 1 al 15\n",
    "plt.bar(comunas, nse_resultados, color=colores)\n",
    "plt.xlabel('Comuna')\n",
    "plt.ylabel('NSE')\n",
    "plt.title('Nivel socioeconomico Comuna')\n",
    "plt.show()"
   ]
  },
  {
   "cell_type": "code",
   "execution_count": 52,
   "id": "66f4e92e",
   "metadata": {},
   "outputs": [
    {
     "name": "stderr",
     "output_type": "stream",
     "text": [
      "C:\\Users\\ASUS\\AppData\\Local\\Temp\\ipykernel_5116\\2549365865.py:1: DtypeWarning: Columns (7,10,11,20) have mixed types. Specify dtype option on import or set low_memory=False.\n",
      "  resultados =pd.read_csv (\"C:/Users/ASUS/Downloads/DATOS/ResultadosElectorales_2023_Generales.csv\")\n"
     ]
    },
    {
     "data": {
      "text/html": [
       "<div>\n",
       "<style scoped>\n",
       "    .dataframe tbody tr th:only-of-type {\n",
       "        vertical-align: middle;\n",
       "    }\n",
       "\n",
       "    .dataframe tbody tr th {\n",
       "        vertical-align: top;\n",
       "    }\n",
       "\n",
       "    .dataframe thead th {\n",
       "        text-align: right;\n",
       "    }\n",
       "</style>\n",
       "<table border=\"1\" class=\"dataframe\">\n",
       "  <thead>\n",
       "    <tr style=\"text-align: right;\">\n",
       "      <th></th>\n",
       "      <th>año</th>\n",
       "      <th>eleccion_tipo</th>\n",
       "      <th>recuento_tipo</th>\n",
       "      <th>padron_tipo</th>\n",
       "      <th>distrito_id</th>\n",
       "      <th>distrito_nombre</th>\n",
       "      <th>seccionprovincial_id</th>\n",
       "      <th>seccionprovincial_nombre</th>\n",
       "      <th>seccion_id</th>\n",
       "      <th>seccion_nombre</th>\n",
       "      <th>...</th>\n",
       "      <th>mesa_tipo</th>\n",
       "      <th>mesa_electores</th>\n",
       "      <th>cargo_id</th>\n",
       "      <th>cargo_nombre</th>\n",
       "      <th>agrupacion_id</th>\n",
       "      <th>agrupacion_nombre</th>\n",
       "      <th>lista_numero</th>\n",
       "      <th>lista_nombre</th>\n",
       "      <th>votos_tipo</th>\n",
       "      <th>votos_cantidad</th>\n",
       "    </tr>\n",
       "  </thead>\n",
       "  <tbody>\n",
       "    <tr>\n",
       "      <th>0</th>\n",
       "      <td>2023</td>\n",
       "      <td>GENERAL</td>\n",
       "      <td>PROVISORIO</td>\n",
       "      <td>NORMAL</td>\n",
       "      <td>1</td>\n",
       "      <td>Ciudad Autónoma de Buenos Aires</td>\n",
       "      <td>0</td>\n",
       "      <td>NaN</td>\n",
       "      <td>1</td>\n",
       "      <td>Comuna 01</td>\n",
       "      <td>...</td>\n",
       "      <td>NATIVOS</td>\n",
       "      <td>343</td>\n",
       "      <td>1</td>\n",
       "      <td>PRESIDENTE Y VICE</td>\n",
       "      <td>0</td>\n",
       "      <td>NaN</td>\n",
       "      <td>0.0</td>\n",
       "      <td>NaN</td>\n",
       "      <td>NULO</td>\n",
       "      <td>0</td>\n",
       "    </tr>\n",
       "    <tr>\n",
       "      <th>1</th>\n",
       "      <td>2023</td>\n",
       "      <td>GENERAL</td>\n",
       "      <td>PROVISORIO</td>\n",
       "      <td>NORMAL</td>\n",
       "      <td>1</td>\n",
       "      <td>Ciudad Autónoma de Buenos Aires</td>\n",
       "      <td>0</td>\n",
       "      <td>NaN</td>\n",
       "      <td>1</td>\n",
       "      <td>Comuna 01</td>\n",
       "      <td>...</td>\n",
       "      <td>NATIVOS</td>\n",
       "      <td>343</td>\n",
       "      <td>1</td>\n",
       "      <td>PRESIDENTE Y VICE</td>\n",
       "      <td>0</td>\n",
       "      <td>NaN</td>\n",
       "      <td>0.0</td>\n",
       "      <td>NaN</td>\n",
       "      <td>IMPUGNADO</td>\n",
       "      <td>0</td>\n",
       "    </tr>\n",
       "    <tr>\n",
       "      <th>2</th>\n",
       "      <td>2023</td>\n",
       "      <td>GENERAL</td>\n",
       "      <td>PROVISORIO</td>\n",
       "      <td>NORMAL</td>\n",
       "      <td>1</td>\n",
       "      <td>Ciudad Autónoma de Buenos Aires</td>\n",
       "      <td>0</td>\n",
       "      <td>NaN</td>\n",
       "      <td>1</td>\n",
       "      <td>Comuna 01</td>\n",
       "      <td>...</td>\n",
       "      <td>NATIVOS</td>\n",
       "      <td>343</td>\n",
       "      <td>1</td>\n",
       "      <td>PRESIDENTE Y VICE</td>\n",
       "      <td>0</td>\n",
       "      <td>NaN</td>\n",
       "      <td>0.0</td>\n",
       "      <td>NaN</td>\n",
       "      <td>RECURRIDO</td>\n",
       "      <td>0</td>\n",
       "    </tr>\n",
       "    <tr>\n",
       "      <th>3</th>\n",
       "      <td>2023</td>\n",
       "      <td>GENERAL</td>\n",
       "      <td>PROVISORIO</td>\n",
       "      <td>NORMAL</td>\n",
       "      <td>1</td>\n",
       "      <td>Ciudad Autónoma de Buenos Aires</td>\n",
       "      <td>0</td>\n",
       "      <td>NaN</td>\n",
       "      <td>1</td>\n",
       "      <td>Comuna 01</td>\n",
       "      <td>...</td>\n",
       "      <td>NATIVOS</td>\n",
       "      <td>343</td>\n",
       "      <td>1</td>\n",
       "      <td>PRESIDENTE Y VICE</td>\n",
       "      <td>0</td>\n",
       "      <td>NaN</td>\n",
       "      <td>0.0</td>\n",
       "      <td>NaN</td>\n",
       "      <td>COMANDO</td>\n",
       "      <td>0</td>\n",
       "    </tr>\n",
       "    <tr>\n",
       "      <th>4</th>\n",
       "      <td>2023</td>\n",
       "      <td>GENERAL</td>\n",
       "      <td>PROVISORIO</td>\n",
       "      <td>NORMAL</td>\n",
       "      <td>1</td>\n",
       "      <td>Ciudad Autónoma de Buenos Aires</td>\n",
       "      <td>0</td>\n",
       "      <td>NaN</td>\n",
       "      <td>1</td>\n",
       "      <td>Comuna 01</td>\n",
       "      <td>...</td>\n",
       "      <td>NATIVOS</td>\n",
       "      <td>349</td>\n",
       "      <td>1</td>\n",
       "      <td>PRESIDENTE Y VICE</td>\n",
       "      <td>134</td>\n",
       "      <td>UNION POR LA PATRIA</td>\n",
       "      <td>NaN</td>\n",
       "      <td>NaN</td>\n",
       "      <td>POSITIVO</td>\n",
       "      <td>95</td>\n",
       "    </tr>\n",
       "  </tbody>\n",
       "</table>\n",
       "<p>5 rows × 23 columns</p>\n",
       "</div>"
      ],
      "text/plain": [
       "    año eleccion_tipo recuento_tipo padron_tipo  distrito_id  \\\n",
       "0  2023       GENERAL    PROVISORIO      NORMAL            1   \n",
       "1  2023       GENERAL    PROVISORIO      NORMAL            1   \n",
       "2  2023       GENERAL    PROVISORIO      NORMAL            1   \n",
       "3  2023       GENERAL    PROVISORIO      NORMAL            1   \n",
       "4  2023       GENERAL    PROVISORIO      NORMAL            1   \n",
       "\n",
       "                   distrito_nombre  seccionprovincial_id  \\\n",
       "0  Ciudad Autónoma de Buenos Aires                     0   \n",
       "1  Ciudad Autónoma de Buenos Aires                     0   \n",
       "2  Ciudad Autónoma de Buenos Aires                     0   \n",
       "3  Ciudad Autónoma de Buenos Aires                     0   \n",
       "4  Ciudad Autónoma de Buenos Aires                     0   \n",
       "\n",
       "  seccionprovincial_nombre  seccion_id seccion_nombre  ... mesa_tipo  \\\n",
       "0                      NaN           1      Comuna 01  ...   NATIVOS   \n",
       "1                      NaN           1      Comuna 01  ...   NATIVOS   \n",
       "2                      NaN           1      Comuna 01  ...   NATIVOS   \n",
       "3                      NaN           1      Comuna 01  ...   NATIVOS   \n",
       "4                      NaN           1      Comuna 01  ...   NATIVOS   \n",
       "\n",
       "  mesa_electores  cargo_id       cargo_nombre  agrupacion_id  \\\n",
       "0            343         1  PRESIDENTE Y VICE              0   \n",
       "1            343         1  PRESIDENTE Y VICE              0   \n",
       "2            343         1  PRESIDENTE Y VICE              0   \n",
       "3            343         1  PRESIDENTE Y VICE              0   \n",
       "4            349         1  PRESIDENTE Y VICE            134   \n",
       "\n",
       "     agrupacion_nombre lista_numero  lista_nombre votos_tipo  votos_cantidad  \n",
       "0                  NaN          0.0           NaN       NULO               0  \n",
       "1                  NaN          0.0           NaN  IMPUGNADO               0  \n",
       "2                  NaN          0.0           NaN  RECURRIDO               0  \n",
       "3                  NaN          0.0           NaN    COMANDO               0  \n",
       "4  UNION POR LA PATRIA          NaN           NaN   POSITIVO              95  \n",
       "\n",
       "[5 rows x 23 columns]"
      ]
     },
     "execution_count": 52,
     "metadata": {},
     "output_type": "execute_result"
    }
   ],
   "source": [
    "resultados =pd.read_csv (\"C:/Users/ASUS/Downloads/DATOS/ResultadosElectorales_2023_Generales.csv\")\n",
    "resultados.head()"
   ]
  },
  {
   "cell_type": "code",
   "execution_count": 53,
   "id": "e1ffb830",
   "metadata": {},
   "outputs": [
    {
     "data": {
      "text/html": [
       "<div>\n",
       "<style scoped>\n",
       "    .dataframe tbody tr th:only-of-type {\n",
       "        vertical-align: middle;\n",
       "    }\n",
       "\n",
       "    .dataframe tbody tr th {\n",
       "        vertical-align: top;\n",
       "    }\n",
       "\n",
       "    .dataframe thead th {\n",
       "        text-align: right;\n",
       "    }\n",
       "</style>\n",
       "<table border=\"1\" class=\"dataframe\">\n",
       "  <thead>\n",
       "    <tr style=\"text-align: right;\">\n",
       "      <th></th>\n",
       "      <th>agrupacion_nombre</th>\n",
       "    </tr>\n",
       "  </thead>\n",
       "  <tbody>\n",
       "    <tr>\n",
       "      <th>0</th>\n",
       "      <td>NaN</td>\n",
       "    </tr>\n",
       "    <tr>\n",
       "      <th>1</th>\n",
       "      <td>NaN</td>\n",
       "    </tr>\n",
       "    <tr>\n",
       "      <th>2</th>\n",
       "      <td>NaN</td>\n",
       "    </tr>\n",
       "    <tr>\n",
       "      <th>3</th>\n",
       "      <td>NaN</td>\n",
       "    </tr>\n",
       "    <tr>\n",
       "      <th>4</th>\n",
       "      <td>UNION POR LA PATRIA</td>\n",
       "    </tr>\n",
       "    <tr>\n",
       "      <th>...</th>\n",
       "      <td>...</td>\n",
       "    </tr>\n",
       "    <tr>\n",
       "      <th>5868097</th>\n",
       "      <td>NaN</td>\n",
       "    </tr>\n",
       "    <tr>\n",
       "      <th>5868098</th>\n",
       "      <td>UNION POR LA PATRIA</td>\n",
       "    </tr>\n",
       "    <tr>\n",
       "      <th>5868099</th>\n",
       "      <td>JUNTOS POR EL CAMBIO</td>\n",
       "    </tr>\n",
       "    <tr>\n",
       "      <th>5868100</th>\n",
       "      <td>LA LIBERTAD AVANZA</td>\n",
       "    </tr>\n",
       "    <tr>\n",
       "      <th>5868101</th>\n",
       "      <td>FRENTE DE IZQUIERDA Y DE TRABAJADORES - UNIDAD</td>\n",
       "    </tr>\n",
       "  </tbody>\n",
       "</table>\n",
       "<p>5868102 rows × 1 columns</p>\n",
       "</div>"
      ],
      "text/plain": [
       "                                      agrupacion_nombre\n",
       "0                                                   NaN\n",
       "1                                                   NaN\n",
       "2                                                   NaN\n",
       "3                                                   NaN\n",
       "4                                   UNION POR LA PATRIA\n",
       "...                                                 ...\n",
       "5868097                                             NaN\n",
       "5868098                             UNION POR LA PATRIA\n",
       "5868099                            JUNTOS POR EL CAMBIO\n",
       "5868100                              LA LIBERTAD AVANZA\n",
       "5868101  FRENTE DE IZQUIERDA Y DE TRABAJADORES - UNIDAD\n",
       "\n",
       "[5868102 rows x 1 columns]"
      ]
     },
     "execution_count": 53,
     "metadata": {},
     "output_type": "execute_result"
    }
   ],
   "source": [
    "resultados [[\"agrupacion_nombre\"]]"
   ]
  },
  {
   "cell_type": "code",
   "execution_count": 54,
   "id": "1ecd5a02",
   "metadata": {},
   "outputs": [
    {
     "name": "stdout",
     "output_type": "stream",
     "text": [
      "   seccion_nombre  votos_cantidad\n",
      "0       Comuna 01          121250\n",
      "1       Comuna 02          100235\n",
      "2       Comuna 03          112465\n",
      "3       Comuna 04          134521\n",
      "4       Comuna 05          117662\n",
      "5       Comuna 06          124701\n",
      "6       Comuna 07          133889\n",
      "7       Comuna 08          109192\n",
      "8       Comuna 09          114065\n",
      "9       Comuna 10          114417\n",
      "10      Comuna 11          135206\n",
      "11      Comuna 12          152072\n",
      "12      Comuna 13          164311\n",
      "13      Comuna 14          152605\n",
      "14      Comuna 15          124840\n"
     ]
    }
   ],
   "source": [
    "#para que no me rompa generé una lista de nombres de comunas para las comunas del 1 al 15 en un formato específico \n",
    "comunas = [f\"Comuna {i:02d}\" for i in range(1, 16)]\n",
    "\n",
    "# filtro las filas donde la columna \"cargo_nombre\" es \"PRESIDENTE Y VICE\" y la \"seccion_nombre\" está en la lista de comunas\n",
    "df_filtrado = resultados[(resultados[\"cargo_nombre\"] == \"PRESIDENTE Y VICE\") & (resultados[\"seccion_nombre\"].isin(comunas))]\n",
    "\n",
    "# ahora lo agrupo los votos  por comunas\n",
    "df_agrupado = df_filtrado.groupby(\"seccion_nombre\")[\"votos_cantidad\"].sum().reset_index()\n",
    "\n",
    "print(df_agrupado)\n"
   ]
  },
  {
   "cell_type": "code",
   "execution_count": 55,
   "id": "708fa8ee",
   "metadata": {},
   "outputs": [
    {
     "name": "stdout",
     "output_type": "stream",
     "text": [
      "Partidos con más votos por comuna:\n",
      "   seccion_nombre     agrupacion_nombre  votos_cantidad\n",
      "2       Comuna 01  JUNTOS POR EL CAMBIO           45975\n",
      "7       Comuna 02  JUNTOS POR EL CAMBIO           57022\n",
      "12      Comuna 03  JUNTOS POR EL CAMBIO           39075\n",
      "19      Comuna 04   UNION POR LA PATRIA           51401\n",
      "22      Comuna 05  JUNTOS POR EL CAMBIO           43259\n",
      "27      Comuna 06  JUNTOS POR EL CAMBIO           54873\n",
      "32      Comuna 07  JUNTOS POR EL CAMBIO           48420\n",
      "39      Comuna 08   UNION POR LA PATRIA           43136\n",
      "44      Comuna 09   UNION POR LA PATRIA           39233\n",
      "47      Comuna 10  JUNTOS POR EL CAMBIO           41986\n",
      "52      Comuna 11  JUNTOS POR EL CAMBIO           54758\n",
      "57      Comuna 12  JUNTOS POR EL CAMBIO           64831\n",
      "62      Comuna 13  JUNTOS POR EL CAMBIO           87321\n",
      "67      Comuna 14  JUNTOS POR EL CAMBIO           80939\n",
      "74      Comuna 15   UNION POR LA PATRIA           46077\n"
     ]
    }
   ],
   "source": [
    "#el dato que quiero saber es quien ganó por comuna, entonces ahota lo agrupo por comuna y partido, sumo los votos, y despsues busco el partido con más votos  y armo otro df.\n",
    "df_agrupado_partidos = df_filtrado.groupby([\"seccion_nombre\", \"agrupacion_nombre\"])[\"votos_cantidad\"].sum().reset_index()\n",
    "\n",
    "\n",
    "idx_partidos = df_agrupado_partidos.groupby(\"seccion_nombre\")[\"votos_cantidad\"].idxmax()\n",
    "partidos_con_mas_votos = df_agrupado_partidos.loc[idx_partidos]\n",
    "\n",
    "print(\"Partidos con más votos por comuna:\")\n",
    "print(partidos_con_mas_votos)"
   ]
  },
  {
   "cell_type": "code",
   "execution_count": 57,
   "id": "dcbc22cb",
   "metadata": {},
   "outputs": [
    {
     "name": "stdout",
     "output_type": "stream",
     "text": [
      "       Comuna     Valor\n",
      "0   Comuna 01  2.647741\n",
      "1   Comuna 02  3.302602\n",
      "2   Comuna 03  2.728121\n",
      "3   Comuna 04  2.299920\n",
      "4   Comuna 05  2.805794\n",
      "5   Comuna 06  2.836949\n",
      "6   Comuna 07  2.824254\n",
      "7   Comuna 08  2.136344\n",
      "8   Comuna 09  2.435951\n",
      "9   Comuna 10  2.589636\n",
      "10  Comuna 11  2.680035\n",
      "11  Comuna 12  2.748513\n",
      "12  Comuna 13  2.848386\n",
      "13  Comuna 14  2.928850\n",
      "14  Comuna 15  2.737100\n"
     ]
    }
   ],
   "source": [
    "# Crear un DataFrame a partir de la lista de comunas y el NSE\n",
    "df_nse = pd.DataFrame({'Comuna': comunas, 'Valor': nse_resultados})\n",
    "\n",
    "# Imprimir o mostrar el DataFrame resultante\n",
    "print(df_nse)"
   ]
  },
  {
   "cell_type": "code",
   "execution_count": 60,
   "id": "a3251e23",
   "metadata": {},
   "outputs": [
    {
     "name": "stdout",
     "output_type": "stream",
     "text": [
      "   seccion_nombre                               agrupacion_nombre  \\\n",
      "0       Comuna 01  FRENTE DE IZQUIERDA Y DE TRABAJADORES - UNIDAD   \n",
      "1       Comuna 01                        HACEMOS POR NUESTRO PAIS   \n",
      "2       Comuna 01                            JUNTOS POR EL CAMBIO   \n",
      "3       Comuna 01                              LA LIBERTAD AVANZA   \n",
      "4       Comuna 01                             UNION POR LA PATRIA   \n",
      "..            ...                                             ...   \n",
      "70      Comuna 15  FRENTE DE IZQUIERDA Y DE TRABAJADORES - UNIDAD   \n",
      "71      Comuna 15                        HACEMOS POR NUESTRO PAIS   \n",
      "72      Comuna 15                            JUNTOS POR EL CAMBIO   \n",
      "73      Comuna 15                              LA LIBERTAD AVANZA   \n",
      "74      Comuna 15                             UNION POR LA PATRIA   \n",
      "\n",
      "    votos_cantidad     Comuna     Valor  \n",
      "0             3981  Comuna 01  2.647741  \n",
      "1             3230  Comuna 01  2.647741  \n",
      "2            45975  Comuna 01  2.647741  \n",
      "3            25657  Comuna 01  2.647741  \n",
      "4            38645  Comuna 01  2.647741  \n",
      "..             ...        ...       ...  \n",
      "70            4760  Comuna 15  2.737100  \n",
      "71            3996  Comuna 15  2.737100  \n",
      "72           45464  Comuna 15  2.737100  \n",
      "73           21184  Comuna 15  2.737100  \n",
      "74           46077  Comuna 15  2.737100  \n",
      "\n",
      "[75 rows x 5 columns]\n"
     ]
    }
   ],
   "source": [
    "df_final = pd.merge(df_agrupado_partidos, df_nse, left_on=\"seccion_nombre\", right_on=\"Comuna\", how=\"inner\")\n",
    "\n",
    "print(df_final)"
   ]
  },
  {
   "cell_type": "code",
   "execution_count": 64,
   "id": "b62b7325",
   "metadata": {},
   "outputs": [
    {
     "name": "stdout",
     "output_type": "stream",
     "text": [
      "Correlación entre NSE y cantidad de votos: 0.023484926640144115\n"
     ]
    }
   ],
   "source": [
    "# correlacion \n",
    "correlation = df_final[\"Valor\"].corr(df_final[\"votos_cantidad\"])\n",
    "print(f\"Correlación entre NSE y cantidad de votos: {correlation}\")"
   ]
  },
  {
   "cell_type": "markdown",
   "id": "cc98572c",
   "metadata": {},
   "source": [
    "Una correlación de 0.023484926640144115 indica una correlación muy débil entre las variables. sin embargo, esto no significa necesariamente que el NSE no tenga influencia en la cantidad de votos o viceversa.Igualmente vamos a proceder al analisis.  "
   ]
  },
  {
   "cell_type": "code",
   "execution_count": 65,
   "id": "5c909466",
   "metadata": {},
   "outputs": [
    {
     "data": {
      "image/png": "[encoded data removed]",
      "text/plain": [
       "<Figure size 1200x800 with 1 Axes>"
      ]
     },
     "metadata": {},
     "output_type": "display_data"
    }
   ],
   "source": [
    "#distribución de votos por partido\n",
    "plt.figure(figsize=(12, 8))\n",
    "sns.scatterplot(x=\"Valor\", y=\"votos_cantidad\", hue=\"agrupacion_nombre\", data=df_final)\n",
    "plt.title(\"Relación entre NSE y Votos por Partido\")\n",
    "plt.xlabel(\"NSE (Valor)\")\n",
    "plt.ylabel(\"Votos Cantidad\")\n",
    "plt.legend(bbox_to_anchor=(1.05, 1), loc='upper left')  # para mover la leyenda fuera del gráfico\n",
    "plt.show()"
   ]
  },
  {
   "cell_type": "markdown",
   "id": "a4c7da73",
   "metadata": {},
   "source": [
    "En base a este grafico podemos terminar que el partido que sacó mayor cantidad de votos con mayor nivel socioeconomico es Juntos por el cambio. Por lo que Unión por la partia deberia concentrarse en de cooptar los votos que fluctuan en un NSE 2.4 a 3,que es donde se concentran los votos de Hacemos por nuestro pais, el FIT y la libertad avanza.  "
   ]
  },
  {
   "cell_type": "code",
   "execution_count": 66,
   "id": "c6e23780",
   "metadata": {},
   "outputs": [
    {
     "name": "stderr",
     "output_type": "stream",
     "text": [
      "C:\\Users\\ASUS\\AppData\\Local\\Temp\\ipykernel_5116\\1986070533.py:3: FutureWarning: \n",
      "\n",
      "The `ci` parameter is deprecated. Use `errorbar=None` for the same effect.\n",
      "\n",
      "  sns.barplot(x=\"seccion_nombre\", y=\"votos_cantidad\", data=df_final, ci=None)\n"
     ]
    },
    {
     "data": {
      "image/png": "[encoded data removed]",
      "text/plain": [
       "<Figure size 1600x800 with 1 Axes>"
      ]
     },
     "metadata": {},
     "output_type": "display_data"
    },
    {
     "data": {
      "image/png": "[encoded data removed]",
      "text/plain": [
       "<Figure size 1600x800 with 1 Axes>"
      ]
     },
     "metadata": {},
     "output_type": "display_data"
    }
   ],
   "source": [
    "# Graficar la distribución de votos por comuna, para ver \n",
    "plt.figure(figsize=(16, 8))\n",
    "sns.barplot(x=\"seccion_nombre\", y=\"votos_cantidad\", data=df_final, ci=None)\n",
    "plt.title(\"Distribución de Votos por Comuna\")\n",
    "plt.xlabel(\"Comuna\")\n",
    "plt.ylabel(\"Votos Cantidad\")\n",
    "plt.xticks(rotation=45, ha=\"right\")\n",
    "plt.show()\n",
    "\n",
    "# Graficar la distribución del NSE de cada comuna\n",
    "plt.figure(figsize=(16, 8))\n",
    "sns.violinplot(x=\"seccion_nombre\", y=\"Valor\", data=df_final)\n",
    "plt.title(\"Distribución del NSE por Comuna\")\n",
    "plt.xlabel(\"Comuna\")\n",
    "plt.ylabel(\"NSE (Valor)\")\n",
    "plt.xticks(rotation=45, ha=\"right\")\n",
    "plt.show()"
   ]
  },
  {
   "cell_type": "code",
   "execution_count": 63,
   "id": "68dd857e",
   "metadata": {},
   "outputs": [
    {
     "data": {
      "image/png": "[encoded data removed]",
      "text/plain": [
       "<Figure size 1600x800 with 2 Axes>"
      ]
     },
     "metadata": {},
     "output_type": "display_data"
    }
   ],
   "source": [
    "# Crear un gráfico combinado\n",
    "plt.figure(figsize=(16, 8))\n",
    "ax1 = plt.gca()  # Obtener el eje actual para votos_cantidad\n",
    "ax2 = ax1.twinx()  # Crear un segundo eje y para Valor\n",
    "\n",
    "# Graficar la distribución de votos por comuna en el primer eje y\n",
    "sns.barplot(x=\"seccion_nombre\", y=\"votos_cantidad\", data=df_final, color='blue', ax=ax1)\n",
    "ax1.set_ylabel('Votos Cantidad', color='blue')\n",
    "\n",
    "# Graficar la distribución del NSE por comuna en el segundo eje y\n",
    "sns.violinplot(x=\"seccion_nombre\", y=\"Valor\", data=df_final, ax=ax2, color='orange')\n",
    "ax2.set_ylabel('NSE (Valor)', color='orange')\n",
    "\n",
    "plt.title(\"Distribución de Votos y NSE por Comuna\")\n",
    "plt.xlabel(\"Comuna\")\n",
    "plt.xticks(rotation=45, ha=\"right\")\n",
    "plt.show()"
   ]
  },
  {
   "cell_type": "code",
   "execution_count": null,
   "id": "8d388f76",
   "metadata": {},
   "outputs": [],
   "source": []
  }
 ],
 "metadata": {
  "kernelspec": {
   "display_name": "Python 3 (ipykernel)",
   "language": "python",
   "name": "python3"
  },
  "language_info": {
   "codemirror_mode": {
    "name": "ipython",
    "version": 3
   },
   "file_extension": ".py",
   "mimetype": "text/x-python",
   "name": "python",
   "nbconvert_exporter": "python",
   "pygments_lexer": "ipython3",
   "version": "3.11.4"
  }
 },
 "nbformat": 4,
 "nbformat_minor": 5
}
