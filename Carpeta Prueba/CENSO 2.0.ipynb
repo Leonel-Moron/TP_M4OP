{
 "cells": [
  {
   "cell_type": "markdown",
   "id": "48916b09",
   "metadata": {},
   "source": [
    "# CENSO"
   ]
  },
  {
   "cell_type": "markdown",
   "id": "5bed0085",
   "metadata": {},
   "source": [
    "Para calcular el nivel socioecononico voy a usar la siguiente metodología. Tomando:\n",
    "\n",
    "1. Número de hogares con computadora: Indica la cantidad de hogares que tienen al menos una computadora.\n",
    "\n",
    "2. Porcentaje de menores de 18 años asistiendo a establecimientos educativos: Calculado como la proporción de menores de 18 años que asisten a algún establecimiento educativo respecto al total de menores de 18 años.\n",
    "\n",
    "3. Porcentaje de habitantes mayores de 25 años con nivel universitario completo: Calculado como la proporción de habitantes mayores de 25 años con nivel universitario completo respecto al total de habitantes mayores de 25 años.\n",
    "\n",
    "$IndiceComputadora = \\frac{NúmeroDeHogaresConComputadora}{ConComputadora \\cup ConHeladera \\cup ConCelular \\cup ConTeléfono}$\n",
    "\n",
    "$IndiceEscolaridad = \\frac{MenoresDe18Asisten}{MenoresDe18}$\n",
    "\n",
    "$IndiceEducSuperior = \\frac{MayoresDe25Universitarios}{MayoresDe25}$\n",
    "\n",
    "PC1=0.76120783∗IndiceEducSup+0.10759338∗IndiceEscolaridad+0.63952037∗IndiceCompu\n",
    "\n",
    "El PC1 arroja un rango de valores entre 0 y 1.32 (aproximadamente) se procede a una normalización para facilitar la lectura de los valores.\n",
    "\n",
    "$NSE = \\frac{PC1}{PC1Max} * 10$\n",
    "\n",
    "De esta manera todos los valores del índice de NSE de radios censales se expresan en una escala del 0 al 10, donde 10 es el máximo valor de NSE alcanzado por el primer radio censal del ranking y 0 es el mínimo \n",
    "\n",
    "(fuente: https://gcba.github.io/tod/nota_metodologica#2-estimacion-del-nivel-socioeconomico-de-un-radio-censal)"
   ]
  },
  {
   "cell_type": "markdown",
   "id": "d6d5cea5",
   "metadata": {},
   "source": [
    "Valor Bajo (0-3): Puede indicar un nivel socioeconómico bajo, con posiblemente menos acceso a recursos y oportunidades.\n",
    "\n",
    "Valor Medio (4-7): Podría sugerir un nivel socioeconómico medio, con un acceso moderado a recursos y oportunidades.\n",
    "\n",
    "Valor Alto (8-10): Indicaría un nivel socioeconómico relativamente alto, con un buen acceso a recursos y oportunidades."
   ]
  },
  {
   "cell_type": "markdown",
   "id": "ffb106b2",
   "metadata": {},
   "source": [
    "# Comuna 1\n"
   ]
  },
  {
   "cell_type": "code",
   "execution_count": 29,
   "id": "efca320a",
   "metadata": {},
   "outputs": [],
   "source": [
    "import pandas as pd\n",
    "import numpy as np\n",
    "import  matplotlib.pyplot as plt\n",
    "import  seaborn as sns\n",
    "from sklearn.decomposition import PCA "
   ]
  },
  {
   "cell_type": "code",
   "execution_count": 22,
   "id": "015909a8",
   "metadata": {},
   "outputs": [
    {
     "name": "stdout",
     "output_type": "stream",
     "text": [
      "Índice de Computadora: 0.19602394917841223\n"
     ]
    }
   ],
   "source": [
    "#primero calculo los indices \n",
    "NumeroDeHogaresConComputadora = 51500\n",
    "ConComputadora = 51500\n",
    "ConHeladera = 77558\n",
    "ConCelular = 73457\n",
    "ConTelefono = 60208\n",
    "\n",
    "# Calcula el índice de computadora\n",
    "IndiceComputadora = NumeroDeHogaresConComputadora / (ConComputadora + ConHeladera + ConCelular + ConTelefono)\n",
    "\n",
    "\n",
    "print(\"Índice de Computadora:\", IndiceComputadora)"
   ]
  },
  {
   "cell_type": "code",
   "execution_count": 23,
   "id": "d839893b",
   "metadata": {},
   "outputs": [
    {
     "name": "stdout",
     "output_type": "stream",
     "text": [
      "Índice de Escolaridad: 0.9183288052481612\n"
     ]
    }
   ],
   "source": [
    "MenoresDe18Asisten = 2985+1991+13712+3865+5164\n",
    "MenoresDe18 = 4162+2130+13922+4010+5958\n",
    "IndiceEscolaridad = MenoresDe18Asisten / MenoresDe18\n",
    "print(\"Índice de Escolaridad:\", IndiceEscolaridad)"
   ]
  },
  {
   "cell_type": "code",
   "execution_count": 24,
   "id": "882d3975",
   "metadata": {},
   "outputs": [
    {
     "name": "stdout",
     "output_type": "stream",
     "text": [
      "Índice de Educación Superior: 0.08732022568773522\n"
     ]
    }
   ],
   "source": [
    "MayoresDe25Universitarios = 14687\n",
    "MayoresDe25 = 25118+21421+121658\n",
    "IndiceEducSuperior = MayoresDe25Universitarios / MayoresDe25\n",
    "print(\"Índice de Educación Superior:\", IndiceEducSuperior)"
   ]
  },
  {
   "cell_type": "code",
   "execution_count": 30,
   "id": "73f575d5",
   "metadata": {},
   "outputs": [
    {
     "name": "stdout",
     "output_type": "stream",
     "text": [
      "\n",
      "Componentes Principales:\n",
      "[[ 0.59696031 -0.60562202 -0.52617522]\n",
      " [ 0.46662516 -0.27140543  0.84178385]\n",
      " [-0.65260964 -0.74803815  0.1205802 ]]\n",
      "\n",
      "Varianza Explicada:\n",
      "[9.92815398e-01 7.18460163e-03 1.77381678e-32]\n"
     ]
    }
   ],
   "source": [
    "#ahora calculo la amtriz\n",
    "matriz_correlaciones = np.array([\n",
    "    [1, IndiceEducSuperior, IndiceComputadora],\n",
    "    [IndiceEducSuperior, 1, IndiceEscolaridad],\n",
    "    [IndiceComputadora, IndiceEscolaridad, 1]\n",
    "])\n",
    "#analisis de lso componenete principales\n",
    "pca = PCA(n_components=3)\n",
    "pca.fit(matriz_correlaciones)\n",
    "\n",
    "#los componentes principales y la varianza explicada\n",
    "componentes_principales = pca.components_\n",
    "varianza_explicada = pca.explained_variance_ratio_\n",
    "\n",
    "print(\"\\nComponentes Principales:\")\n",
    "print(componentes_principales)\n",
    "\n",
    "print(\"\\nVarianza Explicada:\")\n",
    "print(varianza_explicada)"
   ]
  },
  {
   "cell_type": "code",
   "execution_count": 25,
   "id": "1fc6690a",
   "metadata": {},
   "outputs": [
    {
     "name": "stdout",
     "output_type": "stream",
     "text": [
      "PC1: 0.29063624812632194\n"
     ]
    }
   ],
   "source": [
    "# Calcula el primer componente principal (PC1)\n",
    "PC1 = 0.76120783 * IndiceEducSuperior + 0.10759338 * IndiceEscolaridad + 0.63952037 * IndiceComputadora\n",
    "print(\"PC1:\", PC1)"
   ]
  },
  {
   "cell_type": "code",
   "execution_count": 32,
   "id": "25e0ef00",
   "metadata": {},
   "outputs": [
    {
     "name": "stdout",
     "output_type": "stream",
     "text": [
      "2.9273946456024857\n"
     ]
    }
   ],
   "source": [
    "#normalizar PC1\n",
    "PC1Max = varianza_explicada[0]\n",
    "NSE = (PC1 / PC1Max) * 10\n",
    "print (NSE)"
   ]
  },
  {
   "cell_type": "code",
   "execution_count": null,
   "id": "e7962321",
   "metadata": {},
   "outputs": [],
   "source": []
  }
 ],
 "metadata": {
  "kernelspec": {
   "display_name": "Python 3 (ipykernel)",
   "language": "python",
   "name": "python3"
  },
  "language_info": {
   "codemirror_mode": {
    "name": "ipython",
    "version": 3
   },
   "file_extension": ".py",
   "mimetype": "text/x-python",
   "name": "python",
   "nbconvert_exporter": "python",
   "pygments_lexer": "ipython3",
   "version": "3.11.4"
  }
 },
 "nbformat": 4,
 "nbformat_minor": 5
}
