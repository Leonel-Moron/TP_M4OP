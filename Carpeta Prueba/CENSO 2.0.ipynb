{
 "cells": [
  {
   "cell_type": "markdown",
   "id": "a6a21c24",
   "metadata": {},
   "source": [
    "# CENSO"
   ]
  },
  {
   "cell_type": "markdown",
   "id": "7d2b9621",
   "metadata": {},
   "source": [
    "Para calcular el nivel socioecononico voy a usar la siguiente metodología. Tomando:\n",
    "\n",
    "1. Número de hogares con computadora: Indica la cantidad de hogares que tienen al menos una computadora.\n",
    "\n",
    "2. Porcentaje de menores de 18 años asistiendo a establecimientos educativos: Calculado como la proporción de menores de 18 años que asisten a algún establecimiento educativo respecto al total de menores de 18 años.\n",
    "\n",
    "3. Porcentaje de habitantes mayores de 25 años con nivel universitario completo: Calculado como la proporción de habitantes mayores de 25 años con nivel universitario completo respecto al total de habitantes mayores de 25 años.\n",
    "\n",
    "$IndiceComputadora = \\frac{NúmeroDeHogaresConComputadora}{ConComputadora \\cup ConHeladera \\cup ConCelular \\cup ConTeléfono}$\n",
    "\n",
    "$IndiceEscolaridad = \\frac{MenoresDe18Asisten}{MenoresDe18}$\n",
    "\n",
    "$IndiceEducSuperior = \\frac{MayoresDe25Universitarios}{MayoresDe25}$\n",
    "\n",
    "PC1=0.76120783∗IndiceEducSup+0.10759338∗IndiceEscolaridad+0.63952037∗IndiceCompu\n",
    "\n",
    "El PC1 arroja un rango de valores entre 0 y 1.32 (aproximadamente) se procede a una normalización para facilitar la lectura de los valores.\n",
    "\n",
    "$NSE = \\frac{PC1}{PC1Max} * 10$\n",
    "\n",
    "De esta manera todos los valores del índice de NSE de radios censales se expresan en una escala del 0 al 10, donde 10 es el máximo valor de NSE alcanzado por el primer radio censal del ranking y 0 es el mínimo \n",
    "\n",
    "(fuente: https://gcba.github.io/tod/nota_metodologica#2-estimacion-del-nivel-socioeconomico-de-un-radio-censal)"
   ]
  },
  {
   "cell_type": "markdown",
   "id": "5294bd35",
   "metadata": {},
   "source": [
    "Valor Bajo (0-3): Puede indicar un nivel socioeconómico bajo, con posiblemente menos acceso a recursos y oportunidades.\n",
    "\n",
    "Valor Medio (4-7): Podría sugerir un nivel socioeconómico medio, con un acceso moderado a recursos y oportunidades.\n",
    "\n",
    "Valor Alto (8-10): Indicaría un nivel socioeconómico relativamente alto, con un buen acceso a recursos y oportunidades."
   ]
  },
  {
   "cell_type": "markdown",
   "id": "283958bf",
   "metadata": {},
   "source": [
    "# Comuna 1\n"
   ]
  },
  {
   "cell_type": "code",
   "execution_count": 29,
   "id": "67809e08",
   "metadata": {},
   "outputs": [],
   "source": [
    "import pandas as pd\n",
    "import numpy as np\n",
    "import  matplotlib.pyplot as plt\n",
    "import  seaborn as sns\n",
    "from sklearn.decomposition import PCA "
   ]
  },
  {
   "cell_type": "code",
   "execution_count": 33,
   "id": "0b5ea676",
   "metadata": {},
   "outputs": [
    {
     "name": "stdout",
     "output_type": "stream",
     "text": [
      "Índice de Computadora - Comuna 1: 0.19602394917841223\n"
     ]
    }
   ],
   "source": [
    "def calcular_indice_computadora(numero_hogares_con_computadora, con_computadora, con_heladera, con_celular, con_telefono):\n",
    "    indice_computadora = numero_hogares_con_computadora / (con_computadora + con_heladera + con_celular + con_telefono)\n",
    "    return indice_computadora\n",
    "\n",
    "# Parámetros para comuna 1\n",
    "numero_hogares_con_computadora_c1 = 51500\n",
    "con_computadora_c1 = 51500\n",
    "con_heladera_c1 = 77558\n",
    "con_celular_c1 = 73457\n",
    "con_telefono_c1 = 60208\n",
    "\n",
    "# Calcular el índice de computadora \n",
    "indice_computadora_c1 = calcular_indice_computadora(numero_hogares_con_computadora_c1, con_computadora_c1, con_heladera_c1, con_celular_c1, con_telefono_c1)\n",
    "\n",
    "print(\"Índice de Computadora - Comuna 1:\", indice_computadora_c1)"
   ]
  },
  {
   "cell_type": "code",
   "execution_count": 34,
   "id": "ef442373",
   "metadata": {},
   "outputs": [
    {
     "name": "stdout",
     "output_type": "stream",
     "text": [
      "Índice de Escolaridad - Comuna 1: 0.9183288052481612\n"
     ]
    }
   ],
   "source": [
    "def calcular_indice_escolaridad(menores_de_18_asisten, menores_de_18):\n",
    "    indice_escolaridad = menores_de_18_asisten / menores_de_18\n",
    "    return indice_escolaridad\n",
    "\n",
    "\n",
    "menores_de_18_asisten_c1 = 2985 + 1991 + 13712 + 3865 + 5164\n",
    "menores_de_18_c1 = 4162 + 2130 + 13922 + 4010 + 5958\n",
    "\n",
    "# Calcular el índice de escolaridad para comuna 1\n",
    "indice_escolaridad_c1 = calcular_indice_escolaridad(menores_de_18_asisten_c1, menores_de_18_c1)\n",
    "\n",
    "print(\"Índice de Escolaridad - Comuna 1:\", indice_escolaridad_c1)"
   ]
  },
  {
   "cell_type": "code",
   "execution_count": 35,
   "id": "6e406f08",
   "metadata": {},
   "outputs": [
    {
     "name": "stdout",
     "output_type": "stream",
     "text": [
      "Índice de Educación Superior - Caso 1: 0.08732022568773522\n"
     ]
    }
   ],
   "source": [
    "def calcular_indice_educacion_superior(mayores_de_25_universitarios, mayores_de_25):\n",
    "    indice_educacion_superior = mayores_de_25_universitarios / mayores_de_25\n",
    "    return indice_educacion_superior\n",
    "\n",
    "# Parámetros para comuna 1\n",
    "mayores_de_25_universitarios_c1 = 14687\n",
    "mayores_de_25_c1 = 25118 + 21421 + 121658\n",
    "\n",
    "# Calcular el índice de educación superior para comuna 1\n",
    "indice_educacion_superior_c1 = calcular_indice_educacion_superior(mayores_de_25_universitarios_c1, mayores_de_25_c1)\n",
    "\n",
    "print(\"Índice de Educación Superior - Caso 1:\", indice_educacion_superior_c1)"
   ]
  },
  {
   "cell_type": "code",
   "execution_count": 37,
   "id": "43abe0ec",
   "metadata": {},
   "outputs": [
    {
     "name": "stdout",
     "output_type": "stream",
     "text": [
      "\n",
      "Componentes Principales:\n",
      "[[ 0.59696031 -0.60562202 -0.52617522]\n",
      " [ 0.46662516 -0.27140543  0.84178385]\n",
      " [-0.65260964 -0.74803815  0.1205802 ]]\n",
      "\n",
      "Varianza Explicada:\n",
      "[9.92815398e-01 7.18460163e-03 1.77381678e-32]\n"
     ]
    }
   ],
   "source": [
    "def calcular_pca(indice_educacion_superior, indice_escolaridad, indice_computadora, n_components=3):\n",
    "    # Calcula la matriz \n",
    "    matriz_correlaciones = np.array([\n",
    "        [1, indice_educacion_superior, indice_computadora],\n",
    "        [indice_educacion_superior, 1, indice_escolaridad],\n",
    "        [indice_computadora, indice_escolaridad, 1]\n",
    "    ])\n",
    "\n",
    "    # Realiza el análisis de componentes principales\n",
    "    pca = PCA(n_components=n_components)\n",
    "    pca.fit(matriz_correlaciones)\n",
    "\n",
    "    # Obtiene los componentes principales y la varianza explicada\n",
    "    componentes_principales = pca.components_\n",
    "    varianza_explicada = pca.explained_variance_ratio_\n",
    "\n",
    "    return componentes_principales, varianza_explicada\n",
    "\n",
    "componentes_principales, varianza_explicada = calcular_pca(indice_educacion_superior_c1, indice_escolaridad_c1, indice_computadora_c1)\n",
    "\n",
    "print(\"\\nComponentes Principales:\")\n",
    "print(componentes_principales)\n",
    "\n",
    "print(\"\\nVarianza Explicada:\")\n",
    "print(varianza_explicada)"
   ]
  },
  {
   "cell_type": "code",
   "execution_count": 38,
   "id": "cf603c11",
   "metadata": {},
   "outputs": [
    {
     "name": "stdout",
     "output_type": "stream",
     "text": [
      "PC1: 0.29063624812632194\n"
     ]
    }
   ],
   "source": [
    "def calcular_pc1(indice_educacion_superior, indice_escolaridad, indice_computadora):\n",
    "    # Coeficientes para el cálculo de PC1\n",
    "    coef_educ_sup = 0.76120783\n",
    "    coef_escolaridad = 0.10759338\n",
    "    coef_computadora = 0.63952037\n",
    "\n",
    "    # Calcula PC1\n",
    "    pc1 = coef_educ_sup * indice_educacion_superior + coef_escolaridad * indice_escolaridad + coef_computadora * indice_computadora\n",
    "\n",
    "    return pc1\n",
    "\n",
    "# Calcula PC1\n",
    "pc1_resultado = calcular_pc1(indice_educacion_superior_c1, indice_escolaridad_c1, indice_computadora_c1)\n",
    "print(\"PC1:\", pc1_resultado)"
   ]
  },
  {
   "cell_type": "code",
   "execution_count": 39,
   "id": "7d4d2487",
   "metadata": {},
   "outputs": [
    {
     "name": "stdout",
     "output_type": "stream",
     "text": [
      "NSE: 2.9273946456024857\n"
     ]
    }
   ],
   "source": [
    "def normalizar_pc1(pc1, pc1_max):\n",
    "    # Normaliza PC1\n",
    "    nse = (pc1 / pc1_max) * 10\n",
    "    return nse\n",
    "\n",
    "pc1_max = varianza_explicada [0]\n",
    "\n",
    "# Normaliza PC1\n",
    "nse_resultado = normalizar_pc1(pc1_resultado, pc1_max)\n",
    "print(\"NSE:\", nse_resultado)"
   ]
  },
  {
   "cell_type": "code",
   "execution_count": null,
   "id": "f91ad3b0",
   "metadata": {},
   "outputs": [],
   "source": []
  }
 ],
 "metadata": {
  "kernelspec": {
   "display_name": "Python 3 (ipykernel)",
   "language": "python",
   "name": "python3"
  },
  "language_info": {
   "codemirror_mode": {
    "name": "ipython",
    "version": 3
   },
   "file_extension": ".py",
   "mimetype": "text/x-python",
   "name": "python",
   "nbconvert_exporter": "python",
   "pygments_lexer": "ipython3",
   "version": "3.11.4"
  }
 },
 "nbformat": 4,
 "nbformat_minor": 5
}
