{
 "cells": [
  {
   "cell_type": "markdown",
   "id": "aaa363ef",
   "metadata": {},
   "source": [
    "# CENSO"
   ]
  },
  {
   "cell_type": "markdown",
   "id": "fccb7927",
   "metadata": {},
   "source": [
    "Para calcular el nivel socioecononico voy a usar la siguiente metodología. Tomando:\n",
    "\n",
    "1. Número de hogares con computadora: Indica la cantidad de hogares que tienen al menos una computadora.\n",
    "\n",
    "2. Porcentaje de menores de 18 años asistiendo a establecimientos educativos: Calculado como la proporción de menores de 18 años que asisten a algún establecimiento educativo respecto al total de menores de 18 años.\n",
    "\n",
    "3. Porcentaje de habitantes mayores de 25 años con nivel universitario completo: Calculado como la proporción de habitantes mayores de 25 años con nivel universitario completo respecto al total de habitantes mayores de 25 años.\n",
    "\n",
    "$IndiceComputadora = \\frac{NúmeroDeHogaresConComputadora}{ConComputadora \\cup ConHeladera \\cup ConCelular \\cup ConTeléfono}$\n",
    "\n",
    "$IndiceEscolaridad = \\frac{MenoresDe18Asisten}{MenoresDe18}$\n",
    "\n",
    "$IndiceEducSuperior = \\frac{MayoresDe25Universitarios}{MayoresDe25}$\n",
    "\n",
    "PC1=0.76120783∗IndiceEducSup+0.10759338∗IndiceEscolaridad+0.63952037∗IndiceCompu\n",
    "\n",
    "El PC1 arroja un rango de valores entre 0 y 1.32 (aproximadamente) se procede a una normalización para facilitar la lectura de los valores.\n",
    "\n",
    "$NSE = \\frac{PC1}{PC1Max} * 10$\n",
    "\n",
    "De esta manera todos los valores del índice de NSE de radios censales se expresan en una escala del 0 al 10, donde 10 es el máximo valor de NSE alcanzado por el primer radio censal del ranking y 0 es el mínimo \n",
    "\n",
    "(fuente: https://gcba.github.io/tod/nota_metodologica#2-estimacion-del-nivel-socioeconomico-de-un-radio-censal)"
   ]
  },
  {
   "cell_type": "markdown",
   "id": "07056156",
   "metadata": {},
   "source": [
    "Valor Bajo (0-3): Puede indicar un nivel socioeconómico bajo, con posiblemente menos acceso a recursos y oportunidades.\n",
    "\n",
    "Valor Medio (4-7): Podría sugerir un nivel socioeconómico medio, con un acceso moderado a recursos y oportunidades.\n",
    "\n",
    "Valor Alto (8-10): Indicaría un nivel socioeconómico relativamente alto, con un buen acceso a recursos y oportunidades."
   ]
  },
  {
   "cell_type": "markdown",
   "id": "0c51a97e",
   "metadata": {},
   "source": [
    "# Comuna 1\n"
   ]
  },
  {
   "cell_type": "code",
   "execution_count": 29,
   "id": "bdaaab57",
   "metadata": {},
   "outputs": [],
   "source": [
    "import pandas as pd\n",
    "import numpy as np\n",
    "import  matplotlib.pyplot as plt\n",
    "import  seaborn as sns\n",
    "from sklearn.decomposition import PCA "
   ]
  },
  {
   "cell_type": "code",
   "execution_count": 33,
   "id": "47a7269d",
   "metadata": {},
   "outputs": [
    {
     "name": "stdout",
     "output_type": "stream",
     "text": [
      "Índice de Computadora - Comuna 1: 0.19602394917841223\n"
     ]
    }
   ],
   "source": [
    "def calcular_indice_computadora(numero_hogares_con_computadora, con_computadora, con_heladera, con_celular, con_telefono):\n",
    "    indice_computadora = numero_hogares_con_computadora / (con_computadora + con_heladera + con_celular + con_telefono)\n",
    "    return indice_computadora\n",
    "\n",
    "# Parámetros para comuna 1\n",
    "numero_hogares_con_computadora_c1 = 51500\n",
    "con_computadora_c1 = 51500\n",
    "con_heladera_c1 = 77558\n",
    "con_celular_c1 = 73457\n",
    "con_telefono_c1 = 60208\n",
    "\n",
    "# Calcular el índice de computadora \n",
    "indice_computadora_c1 = calcular_indice_computadora(numero_hogares_con_computadora_c1, con_computadora_c1, con_heladera_c1, con_celular_c1, con_telefono_c1)\n",
    "\n",
    "print(\"Índice de Computadora - Comuna 1:\", indice_computadora_c1)"
   ]
  },
  {
   "cell_type": "code",
   "execution_count": 34,
   "id": "cf40bf29",
   "metadata": {},
   "outputs": [
    {
     "name": "stdout",
     "output_type": "stream",
     "text": [
      "Índice de Escolaridad - Comuna 1: 0.9183288052481612\n"
     ]
    }
   ],
   "source": [
    "def calcular_indice_escolaridad(menores_de_18_asisten, menores_de_18):\n",
    "    indice_escolaridad = menores_de_18_asisten / menores_de_18\n",
    "    return indice_escolaridad\n",
    "\n",
    "\n",
    "menores_de_18_asisten_c1 = 2985 + 1991 + 13712 + 3865 + 5164\n",
    "menores_de_18_c1 = 4162 + 2130 + 13922 + 4010 + 5958\n",
    "\n",
    "# Calcular el índice de escolaridad para comuna 1\n",
    "indice_escolaridad_c1 = calcular_indice_escolaridad(menores_de_18_asisten_c1, menores_de_18_c1)\n",
    "\n",
    "print(\"Índice de Escolaridad - Comuna 1:\", indice_escolaridad_c1)"
   ]
  },
  {
   "cell_type": "code",
   "execution_count": 35,
   "id": "c3579e09",
   "metadata": {},
   "outputs": [
    {
     "name": "stdout",
     "output_type": "stream",
     "text": [
      "Índice de Educación Superior - Caso 1: 0.08732022568773522\n"
     ]
    }
   ],
   "source": [
    "def calcular_indice_educacion_superior(mayores_de_25_universitarios, mayores_de_25):\n",
    "    indice_educacion_superior = mayores_de_25_universitarios / mayores_de_25\n",
    "    return indice_educacion_superior\n",
    "\n",
    "# Parámetros para comuna 1\n",
    "mayores_de_25_universitarios_c1 = 14687\n",
    "mayores_de_25_c1 = 25118 + 21421 + 121658\n",
    "\n",
    "# Calcular el índice de educación superior para comuna 1\n",
    "indice_educacion_superior_c1 = calcular_indice_educacion_superior(mayores_de_25_universitarios_c1, mayores_de_25_c1)\n",
    "\n",
    "print(\"Índice de Educación Superior - Caso 1:\", indice_educacion_superior_c1)"
   ]
  },
  {
   "cell_type": "code",
   "execution_count": 37,
   "id": "20f84884",
   "metadata": {},
   "outputs": [
    {
     "name": "stdout",
     "output_type": "stream",
     "text": [
      "\n",
      "Componentes Principales:\n",
      "[[ 0.59696031 -0.60562202 -0.52617522]\n",
      " [ 0.46662516 -0.27140543  0.84178385]\n",
      " [-0.65260964 -0.74803815  0.1205802 ]]\n",
      "\n",
      "Varianza Explicada:\n",
      "[9.92815398e-01 7.18460163e-03 1.77381678e-32]\n"
     ]
    }
   ],
   "source": [
    "def calcular_pca(indice_educacion_superior, indice_escolaridad, indice_computadora, n_components=3):\n",
    "    # Calcula la matriz \n",
    "    matriz_correlaciones = np.array([\n",
    "        [1, indice_educacion_superior, indice_computadora],\n",
    "        [indice_educacion_superior, 1, indice_escolaridad],\n",
    "        [indice_computadora, indice_escolaridad, 1]\n",
    "    ])\n",
    "\n",
    "    # Realiza el análisis de componentes principales\n",
    "    pca = PCA(n_components=n_components)\n",
    "    pca.fit(matriz_correlaciones)\n",
    "\n",
    "    # Obtiene los componentes principales y la varianza explicada\n",
    "    componentes_principales = pca.components_\n",
    "    varianza_explicada = pca.explained_variance_ratio_\n",
    "\n",
    "    return componentes_principales, varianza_explicada\n",
    "\n",
    "componentes_principales, varianza_explicada = calcular_pca(indice_educacion_superior_c1, indice_escolaridad_c1, indice_computadora_c1)\n",
    "\n",
    "print(\"\\nComponentes Principales:\")\n",
    "print(componentes_principales)\n",
    "\n",
    "print(\"\\nVarianza Explicada:\")\n",
    "print(varianza_explicada)"
   ]
  },
  {
   "cell_type": "code",
   "execution_count": 38,
   "id": "9d5e53e5",
   "metadata": {},
   "outputs": [
    {
     "name": "stdout",
     "output_type": "stream",
     "text": [
      "PC1: 0.29063624812632194\n"
     ]
    }
   ],
   "source": [
    "def calcular_pc1(indice_educacion_superior, indice_escolaridad, indice_computadora):\n",
    "    # Coeficientes para el cálculo de PC1\n",
    "    coef_educ_sup = 0.76120783\n",
    "    coef_escolaridad = 0.10759338\n",
    "    coef_computadora = 0.63952037\n",
    "\n",
    "    # Calcula PC1\n",
    "    pc1 = coef_educ_sup * indice_educacion_superior + coef_escolaridad * indice_escolaridad + coef_computadora * indice_computadora\n",
    "\n",
    "    return pc1\n",
    "\n",
    "# Calcula PC1\n",
    "pc1_resultado = calcular_pc1(indice_educacion_superior_c1, indice_escolaridad_c1, indice_computadora_c1)\n",
    "print(\"PC1:\", pc1_resultado)"
   ]
  },
  {
   "cell_type": "code",
   "execution_count": 39,
   "id": "69482906",
   "metadata": {},
   "outputs": [
    {
     "name": "stdout",
     "output_type": "stream",
     "text": [
      "NSE: 2.9273946456024857\n"
     ]
    }
   ],
   "source": [
    "def normalizar_pc1(pc1, pc1_max):\n",
    "    # Normaliza PC1\n",
    "    nse = (pc1 / pc1_max) * 10\n",
    "    return nse\n",
    "\n",
    "pc1_max = varianza_explicada [0]\n",
    "\n",
    "# Normaliza PC1\n",
    "nse_resultado = normalizar_pc1(pc1_resultado, pc1_max)\n",
    "print(\"NSE:\", nse_resultado)"
   ]
  },
  {
   "cell_type": "markdown",
   "id": "77ce5a1b",
   "metadata": {},
   "source": [
    "El valor normalizado del índice socioeconómico (NSE) obtenido a través del análisis de componentes principales (PCA) representa una medida relativa del nivel socioeconómico, en el caso de la comuna 1 es de 2.9273946456024857 y en esta comuna ganó la presidencia Juntos por el cambio. "
   ]
  },
  {
   "cell_type": "markdown",
   "id": "81790946",
   "metadata": {},
   "source": [
    "# Comuna 2"
   ]
  },
  {
   "cell_type": "code",
   "execution_count": 40,
   "id": "7fae6e86",
   "metadata": {},
   "outputs": [
    {
     "name": "stdout",
     "output_type": "stream",
     "text": [
      "Índice de Computadora - Comuna 1: 0.2191912320483749\n"
     ]
    }
   ],
   "source": [
    "# Parámetros para comuna 2\n",
    "numero_hogares_con_computadora_c2 = 57998\n",
    "con_computadora_c2 = 57998\n",
    "con_heladera_c2= 72641\n",
    "con_celular_c2 = 65253\n",
    "con_telefono_c2 = 68708\n",
    "\n",
    "# Calcular el índice de computadora \n",
    "indice_computadora_c2 = calcular_indice_computadora(numero_hogares_con_computadora_c2, con_computadora_c2, con_heladera_c2, con_celular_c2, con_telefono_c2)\n",
    "\n",
    "print(\"Índice de Computadora - Comuna 1:\", indice_computadora_c2)"
   ]
  },
  {
   "cell_type": "code",
   "execution_count": 41,
   "id": "a72d735c",
   "metadata": {},
   "outputs": [
    {
     "name": "stdout",
     "output_type": "stream",
     "text": [
      "Índice de Escolaridad - Comuna 1: 0.9732069732069732\n"
     ]
    }
   ],
   "source": [
    "menores_de_18_asisten_c2 = 2109+1188+7719+2173+3447\n",
    "menores_de_18_c2 = 2276+1211+7762+2209+3636\n",
    "\n",
    "# Calcular el índice de escolaridad para comuna 2\n",
    "indice_escolaridad_c2 = calcular_indice_escolaridad(menores_de_18_asisten_c2, menores_de_18_c2)\n",
    "\n",
    "print(\"Índice de Escolaridad - Comuna 1:\", indice_escolaridad_c2)"
   ]
  },
  {
   "cell_type": "code",
   "execution_count": 42,
   "id": "f30f05b4",
   "metadata": {},
   "outputs": [
    {
     "name": "stdout",
     "output_type": "stream",
     "text": [
      "Índice de Educación Superior - Caso 2: 0.4451379900630454\n"
     ]
    }
   ],
   "source": [
    "def calcular_indice_educacion_superior(mayores_de_25_universitarios, mayores_de_25):\n",
    "    indice_educacion_superior = mayores_de_25_universitarios / mayores_de_25\n",
    "    return indice_educacion_superior\n",
    "\n",
    "# Parámetros para comuna 2\n",
    "mayores_de_25_universitarios_c2 = 21323\n",
    "mayores_de_25_c2 =  21665+16686+9551\n",
    "\n",
    "# Calcular el índice de educación superior para comuna 2\n",
    "indice_educacion_superior_c2 = calcular_indice_educacion_superior(mayores_de_25_universitarios_c2, mayores_de_25_c2)\n",
    "\n",
    "print(\"Índice de Educación Superior - Caso 2:\", indice_educacion_superior_c2)"
   ]
  },
  {
   "cell_type": "code",
   "execution_count": 47,
   "id": "d7e5028c",
   "metadata": {},
   "outputs": [
    {
     "name": "stdout",
     "output_type": "stream",
     "text": [
      "\n",
      "Componentes Principales - Comuna 2:\n",
      "[[ 0.59084236 -0.46275526 -0.66088038]\n",
      " [ 0.7896976   0.49942266  0.35630704]\n",
      " [ 0.16517568 -0.73241694  0.66051678]]\n",
      "\n",
      "Varianza Explicada - Comuna 2:\n",
      "[9.81581910e-01 1.84180899e-02 2.88114938e-35]\n"
     ]
    }
   ],
   "source": [
    "componentes_principales_2, varianza_explicada_2 = calcular_pca(indice_educacion_superior_c2, indice_escolaridad_c2, indice_computadora_c2)\n",
    "\n",
    "print(\"\\nComponentes Principales - Comuna 2:\")\n",
    "print(componentes_principales_2)\n",
    "\n",
    "print(\"\\nVarianza Explicada - Comuna 2:\")\n",
    "print(varianza_explicada_2)\n"
   ]
  },
  {
   "cell_type": "code",
   "execution_count": 52,
   "id": "5a7cf844",
   "metadata": {},
   "outputs": [
    {
     "name": "stdout",
     "output_type": "stream",
     "text": [
      "PC2: 0.5837304089736925\n"
     ]
    }
   ],
   "source": [
    "pc2_resultado = calcular_pc1(indice_educacion_superior_c2, indice_escolaridad_c2, indice_computadora_c2)\n",
    "print(\"PC2:\", pc2_resultado)"
   ]
  },
  {
   "cell_type": "code",
   "execution_count": 54,
   "id": "45e9f6d7",
   "metadata": {},
   "outputs": [
    {
     "name": "stdout",
     "output_type": "stream",
     "text": [
      "NSE: 5.946833401872106\n"
     ]
    }
   ],
   "source": [
    "pc2_max = varianza_explicada_2 [0]\n",
    "# Normaliza PC2\n",
    "nse_resultado2 = normalizar_pc1(pc2_resultado, pc2_max)\n",
    "print(\"NSE:\", nse_resultado2)"
   ]
  },
  {
   "cell_type": "markdown",
   "id": "e1d77972",
   "metadata": {},
   "source": [
    "El valor normalizado del índice socioeconómico (NSE) obtenido a través del análisis de componentes principales (PCA) representa una medida relativa del nivel socioeconómico, en el caso de la comuna 1 es de 5.946833401872106 y en esta comuna ganó la presidencia Juntos por el cambio.) Se ubicaria en el nivel medio. "
   ]
  },
  {
   "cell_type": "markdown",
   "id": "f44fa971",
   "metadata": {},
   "source": [
    "# Comuna 3"
   ]
  },
  {
   "cell_type": "code",
   "execution_count": 55,
   "id": "8d343b29",
   "metadata": {},
   "outputs": [
    {
     "name": "stdout",
     "output_type": "stream",
     "text": [
      "Índice de Computadora - Comuna 3: 0.19720036666412039\n",
      "Índice de Escolaridad - Comuna 3: 0.9477288456634976\n",
      "Índice de Educación Superior - Comuna 3: 0.09627204095687314\n"
     ]
    }
   ],
   "source": [
    "# Parámetros para comuna 3\n",
    "numero_hogares_con_computadora_c3 = 51631\n",
    "con_computadora_c3 = 51631\n",
    "con_heladera_c3 = 76928\n",
    "con_celular_c3 =69059\n",
    "con_telefono_c3 = 64202\n",
    "# Calcular el índice de computadora para comuna 3\n",
    "indice_computadora_c3 = calcular_indice_computadora(numero_hogares_con_computadora_c3, con_computadora_c3, con_heladera_c3, con_celular_c3, con_telefono_c3)\n",
    "\n",
    "print(\"Índice de Computadora - Comuna 3:\", indice_computadora_c3)\n",
    "\n",
    "menores_de_18_asisten_c3 = 3073+1833+12631+3502+4979\n",
    "menores_de_18_c3 = +3722+1895+12739+3580+5517\n",
    "\n",
    "# Calcular el índice de escolaridad para comuna 3\n",
    "indice_escolaridad_c3 = calcular_indice_escolaridad(menores_de_18_asisten_c3, menores_de_18_c3)\n",
    "\n",
    "print(\"Índice de Escolaridad - Comuna 3:\", indice_escolaridad_c3)\n",
    "\n",
    "# Parámetros para comuna 3\n",
    "mayores_de_25_universitarios_c3 = 14818\n",
    "mayores_de_25_c3 = 21217+17794+114907\n",
    "\n",
    "# Calcular el índice de educación superior para comuna 3\n",
    "indice_educacion_superior_c3 = calcular_indice_educacion_superior(mayores_de_25_universitarios_c3, mayores_de_25_c3)\n",
    "\n",
    "print(\"Índice de Educación Superior - Comuna 3:\", indice_educacion_superior_c3)\n"
   ]
  },
  {
   "cell_type": "code",
   "execution_count": 56,
   "id": "ce0da071",
   "metadata": {},
   "outputs": [
    {
     "name": "stdout",
     "output_type": "stream",
     "text": [
      "\n",
      "Componentes Principales - Comuna 3:\n",
      "[[ 0.59004514 -0.60570596 -0.53382303]\n",
      " [ 0.58916831 -0.12904338  0.79763933]\n",
      " [ 0.55202122  0.78515483 -0.28072134]]\n",
      "\n",
      "Varianza Explicada - Comuna 3:\n",
      "[9.95861810e-01 4.13819014e-03 9.62138151e-33]\n",
      "PC1 - Comuna 3: 0.3013660326680605\n",
      "NSE - Comuna 3: 3.026183248360579\n"
     ]
    }
   ],
   "source": [
    "# Calcular PCA para comuna 3\n",
    "componentes_principales_c3, varianza_explicada_c3 = calcular_pca(indice_educacion_superior_c3, indice_escolaridad_c3, indice_computadora_c3)\n",
    "\n",
    "print(\"\\nComponentes Principales - Comuna 3:\")\n",
    "print(componentes_principales_c3)\n",
    "\n",
    "print(\"\\nVarianza Explicada - Comuna 3:\")\n",
    "print(varianza_explicada_c3)\n",
    "\n",
    "# Calcula PC1 para comuna 3\n",
    "pc1_resultado_c3 = calcular_pc1(indice_educacion_superior_c3, indice_escolaridad_c3, indice_computadora_c3)\n",
    "print(\"PC1 - Comuna 3:\", pc1_resultado_c3)\n",
    "\n",
    "# Normaliza PC1 para comuna 3\n",
    "pc1_max_c3 = varianza_explicada_c3[0]\n",
    "nse_resultado_c3 = normalizar_pc1(pc1_resultado_c3, pc1_max_c3)\n",
    "print(\"NSE - Comuna 3:\", nse_resultado_c3)\n"
   ]
  },
  {
   "cell_type": "markdown",
   "id": "af205ee2",
   "metadata": {},
   "source": [
    "El valor normalizado del índice socioeconómico (NSE) obtenido a través del análisis de componentes principales (PCA) representa una medida relativa del nivel socioeconómico, en el caso de la comuna 1 es de 3.026183248360579 y en esta comuna ganó la presidencia Juntos por el cambio.) Se ubicaria en el nivel bajo."
   ]
  },
  {
   "cell_type": "markdown",
   "id": "7e6dc565",
   "metadata": {},
   "source": [
    "# Comuna 4"
   ]
  },
  {
   "cell_type": "code",
   "execution_count": 57,
   "id": "61ad526c",
   "metadata": {},
   "outputs": [
    {
     "name": "stdout",
     "output_type": "stream",
     "text": [
      "Índice de Computadora - Comuna 4: 0.17954581262748204\n",
      "Índice de Escolaridad - Comuna 4: 0.7586275639037788\n",
      "Índice de Educación Superior - Comuna 4: 0.05139483665728618\n"
     ]
    }
   ],
   "source": [
    "# Parámetros para comuna 4\n",
    "numero_hogares_con_computadora_c4 = 42164\n",
    "con_computadora_c4 = 42164\n",
    "con_heladera_c4 = 73047\n",
    "con_celular_c4 =65630\n",
    "con_telefono_c4 = 53996\n",
    "\n",
    "# Calcular el índice de computadora para comuna 4\n",
    "indice_computadora_c4 = calcular_indice_computadora(numero_hogares_con_computadora_c4, con_computadora_c4, con_heladera_c4, con_celular_c4, con_telefono_c4)\n",
    "\n",
    "print(\"Índice de Computadora - Comuna 4:\", indice_computadora_c4)\n",
    "\n",
    "menores_de_18_asisten_c4 = 4610+2869+20869+5901\n",
    "menores_de_18_c4 = 5950+2991+21056+6111+9038\n",
    "# Calcular el índice de escolaridad para comuna 4\n",
    "indice_escolaridad_c4 = calcular_indice_escolaridad(menores_de_18_asisten_c4, menores_de_18_c4)\n",
    "\n",
    "print(\"Índice de Escolaridad - Comuna 4:\", indice_escolaridad_c4)\n",
    "\n",
    "# Parámetros para comuna 4\n",
    "mayores_de_25_universitarios_c4 = 8401\n",
    "mayores_de_25_c4 = 24979+18214+120267\n",
    "\n",
    "# Calcular el índice de educación superior para comuna 4\n",
    "indice_educacion_superior_c4 = calcular_indice_educacion_superior(mayores_de_25_universitarios_c4, mayores_de_25_c4)\n",
    "\n",
    "print(\"Índice de Educación Superior - Comuna 4:\", indice_educacion_superior_c4)\n"
   ]
  },
  {
   "cell_type": "code",
   "execution_count": 58,
   "id": "d9a41c8a",
   "metadata": {},
   "outputs": [
    {
     "name": "stdout",
     "output_type": "stream",
     "text": [
      "\n",
      "Componentes Principales - Comuna 4:\n",
      "[[ 0.63473931 -0.59912592 -0.48801039]\n",
      " [ 0.17086582 -0.50708852  0.84478761]\n",
      " [-0.75359862 -0.6196042  -0.21949887]]\n",
      "\n",
      "Varianza Explicada - Comuna 4:\n",
      "[9.55599771e-01 4.44002295e-02 2.44782337e-32]\n",
      "PC1 - Comuna 4: 0.2355686603701488\n",
      "NSE - Comuna 4: 2.46513935684701\n"
     ]
    }
   ],
   "source": [
    "# Calcular PCA para comuna 4\n",
    "componentes_principales_c4, varianza_explicada_c4 = calcular_pca(indice_educacion_superior_c4, indice_escolaridad_c4, indice_computadora_c4)\n",
    "\n",
    "print(\"\\nComponentes Principales - Comuna 4:\")\n",
    "print(componentes_principales_c4)\n",
    "\n",
    "print(\"\\nVarianza Explicada - Comuna 4:\")\n",
    "print(varianza_explicada_c4)\n",
    "\n",
    "# Calcula PC1 para comuna 4\n",
    "pc1_resultado_c4 = calcular_pc1(indice_educacion_superior_c4, indice_escolaridad_c4, indice_computadora_c4)\n",
    "print(\"PC1 - Comuna 4:\", pc1_resultado_c4)\n",
    "\n",
    "# Normaliza PC1 para comuna 4\n",
    "pc1_max_c4 = varianza_explicada_c4[0]\n",
    "nse_resultado_c4 = normalizar_pc1(pc1_resultado_c4, pc1_max_c4)\n",
    "print(\"NSE - Comuna 4:\", nse_resultado_c4)\n"
   ]
  },
  {
   "cell_type": "markdown",
   "id": "c02a3abb",
   "metadata": {},
   "source": [
    " El valor normalizado del índice socioeconómico (NSE) obtenido a través del análisis de componentes principales (PCA) representa una medida relativa del nivel socioeconómico, en el caso de la comuna 1 es de 2.46513935684701 y en esta comuna ganó la presidencia Unión por la patria. Se ubicaria en el nivel bajo."
   ]
  },
  {
   "cell_type": "markdown",
   "id": "2bcd3bbb",
   "metadata": {},
   "source": [
    "# Comuna 5"
   ]
  },
  {
   "cell_type": "code",
   "execution_count": 65,
   "id": "1ff0e169",
   "metadata": {},
   "outputs": [
    {
     "name": "stdout",
     "output_type": "stream",
     "text": [
      "Índice de Computadora - Comuna 5: 0.20578743954016354\n",
      "Índice de Escolaridad - Comuna 5: 0.9648058252427184\n",
      "Índice de Educación Superior - Comuna 5: 0.09581769618284477\n"
     ]
    }
   ],
   "source": [
    "# Parámetros para comuna 5\n",
    "numero_hogares_con_computadora_c5 = 54204\n",
    "con_computadora_c5 = 54204\n",
    "con_heladera_c5 = 75319\n",
    "con_celular_c5 = 67096\n",
    "con_telefono_c5 =66779\n",
    "# Calcular el índice de computadora para comuna 5\n",
    "indice_computadora_c5 = calcular_indice_computadora(numero_hogares_con_computadora_c5, con_computadora_c5, con_heladera_c5, con_celular_c5, con_telefono_c5)\n",
    "\n",
    "print(\"Índice de Computadora - Comuna 5:\", indice_computadora_c5)\n",
    "\n",
    "menores_de_18_asisten_c5 = 3072+1746+11875+3166+4786\n",
    "menores_de_18_c5 = 3430+1776+11950+3228+5160\n",
    "\n",
    "# Calcular el índice de escolaridad para comuna 5\n",
    "indice_escolaridad_c5 = calcular_indice_escolaridad(menores_de_18_asisten_c5, menores_de_18_c5)\n",
    "\n",
    "print(\"Índice de Escolaridad - Comuna 5:\", indice_escolaridad_c5)\n",
    "\n",
    "# Parámetros para comuna 5\n",
    "mayores_de_25_universitarios_c5 = 14170\n",
    "mayores_de_25_c5 = 17528+15948+114409\n",
    "# Calcular el índice de educación superior para comuna 5\n",
    "indice_educacion_superior_c5 = calcular_indice_educacion_superior(mayores_de_25_universitarios_c5, mayores_de_25_c5)\n",
    "\n",
    "print(\"Índice de Educación Superior - Comuna 5:\", indice_educacion_superior_c5)\n"
   ]
  },
  {
   "cell_type": "code",
   "execution_count": 66,
   "id": "c169e779",
   "metadata": {},
   "outputs": [
    {
     "name": "stdout",
     "output_type": "stream",
     "text": [
      "\n",
      "Componentes Principales - Comuna 5:\n",
      "[[ 0.58625696 -0.61017005 -0.53291208]\n",
      " [ 0.70382015  0.05786653  0.70801742]\n",
      " [ 0.40117325  0.7901544  -0.46337463]]\n",
      "\n",
      "Varianza Explicada - Comuna 5:\n",
      "[9.96438750e-01 3.56124963e-03 3.28671347e-33]\n",
      "PC1 - Comuna 5: 0.308349159844574\n",
      "NSE - Comuna 5: 3.0945119279067197\n"
     ]
    }
   ],
   "source": [
    "# Calcular PCA para comuna 5\n",
    "componentes_principales_c5, varianza_explicada_c5 = calcular_pca(indice_educacion_superior_c5, indice_escolaridad_c5, indice_computadora_c5)\n",
    "\n",
    "print(\"\\nComponentes Principales - Comuna 5:\")\n",
    "print(componentes_principales_c5)\n",
    "\n",
    "print(\"\\nVarianza Explicada - Comuna 5:\")\n",
    "print(varianza_explicada_c5)\n",
    "\n",
    "# Calcula PC1 para comuna 5\n",
    "pc1_resultado_c5 = calcular_pc1(indice_educacion_superior_c5, indice_escolaridad_c5, indice_computadora_c5)\n",
    "print(\"PC1 - Comuna 5:\", pc1_resultado_c5)\n",
    "\n",
    "# Normaliza PC1 para comuna 5\n",
    "pc1_max_c5 = varianza_explicada_c5[0]\n",
    "nse_resultado_c5 = normalizar_pc1(pc1_resultado_c5, pc1_max_c5)\n",
    "print(\"NSE - Comuna 5:\", nse_resultado_c5)\n"
   ]
  },
  {
   "cell_type": "markdown",
   "id": "f08639e5",
   "metadata": {},
   "source": [
    "El valor normalizado del índice socioeconómico (NSE) obtenido a través del análisis de componentes principales (PCA) representa una medida relativa del nivel socioeconómico, en el caso de la comuna 1 es de 3.0945119279067197 y en esta comuna ganó la presidencia Juntos por el cambio. Se ubicaria en el nivel bajo."
   ]
  },
  {
   "cell_type": "markdown",
   "id": "9a20d62b",
   "metadata": {},
   "source": [
    "# Comuna 6"
   ]
  },
  {
   "cell_type": "code",
   "execution_count": 67,
   "id": "8d52f156",
   "metadata": {},
   "outputs": [
    {
     "name": "stdout",
     "output_type": "stream",
     "text": [
      "Índice de Computadora - Comuna 6: 0.21243150183974524\n",
      "Índice de Escolaridad - Comuna 6: 0.9742312600337546\n",
      "Índice de Educación Superior - Comuna 6: 0.09545345694639253\n"
     ]
    }
   ],
   "source": [
    "# Parámetros para comuna 6\n",
    "numero_hogares_con_computadora_c6 = 56637\n",
    "con_computadora_c6 = 56637  \n",
    "con_heladera_c6 = 74619  \n",
    "con_celular_c6 = 66241 \n",
    "con_telefono_c6 = 69116\n",
    "\n",
    "# Calcular el índice de computadora para comuna 6\n",
    "indice_computadora_c6 = calcular_indice_computadora(numero_hogares_con_computadora_c6, con_computadora_c6, con_heladera_c6, con_celular_c6, con_telefono_c6)\n",
    "\n",
    "print(\"Índice de Computadora - Comuna 6:\", indice_computadora_c6)\n",
    "\n",
    "menores_de_18_asisten_c6 = 3241+1707+11237+2952+4530\n",
    "menores_de_18_c6 = 3467+1732+11302+3007+4785\n",
    "\n",
    "# Calcular el índice de escolaridad para comuna 6\n",
    "indice_escolaridad_c6 = calcular_indice_escolaridad(menores_de_18_asisten_c6, menores_de_18_c6)\n",
    "\n",
    "print(\"Índice de Escolaridad - Comuna 6:\", indice_escolaridad_c6)\n",
    "\n",
    "# Parámetros para comuna 6\n",
    "mayores_de_25_universitarios_c6 = 13951\n",
    "mayores_de_25_c6 = 15426+14191+116538\n",
    "\n",
    "# Calcular el índice de educación superior para comuna 6\n",
    "indice_educacion_superior_c6 = calcular_indice_educacion_superior(mayores_de_25_universitarios_c6, mayores_de_25_c6)\n",
    "\n",
    "print(\"Índice de Educación Superior - Comuna 6:\", indice_educacion_superior_c6)\n"
   ]
  },
  {
   "cell_type": "code",
   "execution_count": 68,
   "id": "b6ecfe26",
   "metadata": {},
   "outputs": [
    {
     "name": "stdout",
     "output_type": "stream",
     "text": [
      "\n",
      "Componentes Principales - Comuna 6:\n",
      "[[ 0.58421015 -0.61326431 -0.53160643]\n",
      " [ 0.75636743  0.17388999  0.63061127]\n",
      " [ 0.29429035  0.77049929 -0.56544145]]\n",
      "\n",
      "Varianza Explicada - Comuna 6:\n",
      "[9.96442270e-01 3.55773038e-03 1.28227857e-32]\n",
      "PC1 - Comuna 6: 0.31333502565306204\n",
      "NSE - Comuna 6: 3.1445376737510666\n"
     ]
    }
   ],
   "source": [
    "# Calcular PCA para comuna 6\n",
    "componentes_principales_c6, varianza_explicada_c6 = calcular_pca(indice_educacion_superior_c6, indice_escolaridad_c6, indice_computadora_c6)\n",
    "\n",
    "print(\"\\nComponentes Principales - Comuna 6:\")\n",
    "print(componentes_principales_c6)\n",
    "\n",
    "print(\"\\nVarianza Explicada - Comuna 6:\")\n",
    "print(varianza_explicada_c6)\n",
    "\n",
    "# Calcula PC1 para comuna 6\n",
    "pc1_resultado_c6 = calcular_pc1(indice_educacion_superior_c6, indice_escolaridad_c6, indice_computadora_c6)\n",
    "print(\"PC1 - Comuna 6:\", pc1_resultado_c6)\n",
    "\n",
    "# Normaliza PC1 para comuna 6\n",
    "pc1_max_c6 = varianza_explicada_c6[0]\n",
    "nse_resultado_c6 = normalizar_pc1(pc1_resultado_c6, pc1_max_c6)\n",
    "print(\"NSE - Comuna 6:\", nse_resultado_c6)"
   ]
  },
  {
   "cell_type": "markdown",
   "id": "9b2f783a",
   "metadata": {},
   "source": [
    "El valor normalizado del índice socioeconómico (NSE) obtenido a través del análisis de componentes principales (PCA) representa una medida relativa del nivel socioeconómico, en el caso de la comuna 1 es de 3.1445376737510666 y en esta comuna ganó la presidencia Juntos por el cambio. Se ubicaria en el nivel bajo."
   ]
  },
  {
   "cell_type": "markdown",
   "id": "a207db70",
   "metadata": {},
   "source": [
    "# Comuna 7"
   ]
  },
  {
   "cell_type": "code",
   "execution_count": null,
   "id": "406bfb7b",
   "metadata": {},
   "outputs": [],
   "source": [
    "# Parámetros para comuna 7\n",
    "numero_hogares_con_computadora_c7 = ...  # Completa con los datos correspondientes para la Comuna 7\n",
    "con_computadora_c7 = ...  # Completa con los datos correspondientes para la Comuna 7\n",
    "con_heladera_c7 = ...  # Completa con los datos correspondientes para la Comuna 7\n",
    "con_celular_c7 = ...  # Completa con los datos correspondientes para la Comuna 7\n",
    "con_telefono_c7 = ...  # Completa con los datos correspondientes para la Comuna 7\n",
    "\n",
    "# Calcular el índice de computadora para comuna 7\n",
    "indice_computadora_c7 = calcular_indice_computadora(numero_hogares_con_computadora_c7, con_computadora_c7, con_heladera_c7, con_celular_c7, con_telefono_c7)\n",
    "\n",
    "print(\"Índice de Computadora - Comuna 7:\", indice_computadora_c7)\n",
    "\n",
    "menores_de_18_asisten_c7 = ...  # Completa con los datos correspondientes para la Comuna 7\n",
    "menores_de_18_c7 = ...  # Completa con los datos correspondientes para la Comuna 7\n",
    "\n",
    "# Calcular el índice de escolaridad para comuna 7\n",
    "indice_escolaridad_c7 = calcular_indice_escolaridad(menores_de_18_asisten_c7, menores_de_18_c7)\n",
    "\n",
    "print(\"Índice de Escolaridad - Comuna 7:\", indice_escolaridad_c7)\n",
    "\n",
    "# Parámetros para comuna 7\n",
    "mayores_de_25_universitarios_c7 = ...  # Completa con los datos correspondientes para la Comuna 7\n",
    "mayores_de_25_c7 = ...  # Completa con los datos correspondientes para la Comuna 7\n",
    "\n",
    "# Calcular el índice de educación superior para comuna 7\n",
    "indice_educacion_superior_c7 = calcular_indice_educacion_superior(mayores_de_25_universitarios_c7, mayores_de_25_c7)\n",
    "\n",
    "print(\"Índice de Educación Superior - Comuna 7:\", indice_educacion_superior_c7)\n"
   ]
  },
  {
   "cell_type": "markdown",
   "id": "11423b13",
   "metadata": {},
   "source": [
    "# Comuna 8 "
   ]
  },
  {
   "cell_type": "code",
   "execution_count": null,
   "id": "406582fc",
   "metadata": {},
   "outputs": [],
   "source": [
    "# Parámetros para comuna 8\n",
    "numero_hogares_con_computadora_c8 = ...  # Completa con los datos correspondientes para la Comuna 8\n",
    "con_computadora_c8 = ...  # Completa con los datos correspondientes para la Comuna 8\n",
    "con_heladera_c8 = ...  # Completa con los datos correspondientes para la Comuna 8\n",
    "con_celular_c8 = ...  # Completa con los datos correspondientes para la Comuna 8\n",
    "con_telefono_c8 = ...  # Completa con los datos correspondientes para la Comuna 8\n",
    "\n",
    "# Calcular el índice de computadora para comuna 8\n",
    "indice_computadora_c8 = calcular_indice_computadora(numero_hogares_con_computadora_c8, con_computadora_c8, con_heladera_c8, con_celular_c8, con_telefono_c8)\n",
    "\n",
    "print(\"Índice de Computadora - Comuna 8:\", indice_computadora_c8)\n",
    "\n",
    "menores_de_18_asisten_c8 = ...  # Completa con los datos correspondientes para la Comuna 8\n",
    "menores_de_18_c8 = ...  # Completa con los datos correspondientes para la Comuna 8\n",
    "\n",
    "# Calcular el índice de escolaridad para comuna 8\n",
    "indice_escolaridad_c8 = calcular_indice_escolaridad(menores_de_18_asisten_c8, menores_de_18_c8)\n",
    "\n",
    "print(\"Índice de Escolaridad - Comuna 8:\", indice_escolaridad_c8)\n",
    "\n",
    "# Parámetros para comuna 8\n",
    "mayores_de_25_universitarios_c8 = ...  # Completa con los datos correspondientes para la Comuna 8\n",
    "mayores_de_25_c8 = ...  # Completa con los datos correspondientes para la Comuna 8\n",
    "\n",
    "# Calcular el índice de educación superior para comuna 8\n",
    "indice_educacion_superior_c8 = calcular_indice_educacion_superior(mayores_de_25_universitarios_c8, mayores_de_25_c8)\n",
    "\n",
    "print(\"Índice de Educación Superior - Comuna 8:\", indice_educacion_superior_c8)\n"
   ]
  },
  {
   "cell_type": "markdown",
   "id": "b6f1bce7",
   "metadata": {},
   "source": [
    "# Comuna 9"
   ]
  },
  {
   "cell_type": "code",
   "execution_count": null,
   "id": "790ee74d",
   "metadata": {},
   "outputs": [],
   "source": [
    "# Parámetros para comuna 9\n",
    "numero_hogares_con_computadora_c9 = ...  # Completa con los datos correspondientes para la Comuna 9\n",
    "con_computadora_c9 = ...  # Completa con los datos correspondientes para la Comuna 9\n",
    "con_heladera_c9 = ...  # Completa con los datos correspondientes para la Comuna 9\n",
    "con_celular_c9 = ...  # Completa con los datos correspondientes para la Comuna 9\n",
    "con_telefono_c9 = ...  # Completa con los datos correspondientes para la Comuna 9\n",
    "\n",
    "# Calcular el índice de computadora para comuna 9\n",
    "indice_computadora_c9 = calcular_indice_computadora(numero_hogares_con_computadora_c9, con_computadora_c9, con_heladera_c9, con_celular_c9, con_telefono_c9)\n",
    "\n",
    "print(\"Índice de Computadora - Comuna 9:\", indice_computadora_c9)\n",
    "\n",
    "menores_de_18_asisten_c9 = ...  # Completa con los datos correspondientes para la Comuna 9\n",
    "menores_de_18_c9 = ...  # Completa con los datos correspondientes para la Comuna 9\n",
    "\n",
    "# Calcular el índice de escolaridad para comuna 9\n",
    "indice_escolaridad_c9 = calcular_indice_escolaridad(menores_de_18_asisten_c9, menores_de_18_c9)\n",
    "\n",
    "print(\"Índice de Escolaridad - Comuna 9:\", indice_escolaridad_c9)\n",
    "\n",
    "# Parámetros para comuna 9\n",
    "mayores_de_25_universitarios_c9 = ...  # Completa con los datos correspondientes para la Comuna 9\n",
    "mayores_de_25_c9 = ...  # Completa con los datos correspondientes para la Comuna 9\n",
    "\n",
    "# Calcular el índice de educación superior para comuna 9\n",
    "indice_educacion_superior_c9 = calcular_indice_educacion_superior(mayores_de_25_universitarios_c9, mayores_de_25_c9)\n",
    "\n",
    "print(\"Índice de Educación Superior - Comuna 9:\", indice_educacion_superior_c9)\n"
   ]
  },
  {
   "cell_type": "markdown",
   "id": "cee98467",
   "metadata": {},
   "source": [
    "# Comuna 10"
   ]
  },
  {
   "cell_type": "code",
   "execution_count": null,
   "id": "830700c6",
   "metadata": {},
   "outputs": [],
   "source": [
    "# Parámetros para comuna 10\n",
    "numero_hogares_con_computadora_c10 = ...  # Completa con los datos correspondientes para la Comuna 10\n",
    "con_computadora_c10 = ...  # Completa con los datos correspondientes para la Comuna 10\n",
    "con_heladera_c10 = ...  # Completa con los datos correspondientes para la Comuna 10\n",
    "con_celular_c10 = ...  # Completa con los datos correspondientes para la Comuna 10\n",
    "con_telefono_c10 = ...  # Completa con los datos correspondientes para la Comuna 10\n",
    "\n",
    "# Calcular el índice de computadora para comuna 10\n",
    "indice_computadora_c10 = calcular_indice_computadora(numero_hogares_con_computadora_c10, con_computadora_c10, con_heladera_c10, con_celular_c10, con_telefono_c10)\n",
    "\n",
    "print(\"Índice de Computadora - Comuna 10:\", indice_computadora_c10)\n",
    "\n",
    "menores_de_18_asisten_c10 = ...  # Completa con los datos correspondientes para la Comuna 10\n",
    "menores_de_18_c10 = ...  # Completa con los datos correspondientes para la Comuna 10\n",
    "\n",
    "# Calcular el índice de escolaridad para comuna 10\n",
    "indice_escolaridad_c10 = calcular_indice_escolaridad(menores_de_18_asisten_c10, menores_de_18_c10)\n",
    "\n",
    "print(\"Índice de Escolaridad - Comuna 10:\", indice_escolaridad_c10)\n",
    "\n",
    "# Parámetros para comuna 10\n",
    "mayores_de_25_universitarios_c10 = ...  # Completa con los datos correspondientes para la Comuna 10\n",
    "mayores_de_25_c10 = ...  # Completa con los datos correspondientes para la Comuna 10\n",
    "\n",
    "# Calcular el índice de educación superior para comuna 10\n",
    "indice_educacion_superior_c10 = calcular_indice_educacion_superior(mayores_de_25_universitarios_c10, mayores_de_25_c10)\n",
    "\n",
    "print(\"Índice de Educación Superior - Comuna 10:\", indice_educacion_superior_c10)\n"
   ]
  },
  {
   "cell_type": "markdown",
   "id": "d5602646",
   "metadata": {},
   "source": [
    "# Comuna 11"
   ]
  },
  {
   "cell_type": "code",
   "execution_count": null,
   "id": "9b7cf1fc",
   "metadata": {},
   "outputs": [],
   "source": [
    "# Parámetros para comuna 11\n",
    "numero_hogares_con_computadora_c11 = ...  # Completa con los datos correspondientes para la Comuna 11\n",
    "con_computadora_c11 = ...  # Completa con los datos correspondientes para la Comuna 11\n",
    "con_heladera_c11 = ...  # Completa con los datos correspondientes para la Comuna 11\n",
    "con_celular_c11 = ...  # Completa con los datos correspondientes para la Comuna 11\n",
    "con_telefono_c11 = ...  # Completa con los datos correspondientes para la Comuna 11\n",
    "\n",
    "# Calcular el índice de computadora para comuna 11\n",
    "indice_computadora_c11 = calcular_indice_computadora(numero_hogares_con_computadora_c11, con_computadora_c11, con_heladera_c11, con_celular_c11, con_telefono_c11)\n",
    "\n",
    "print(\"Índice de Computadora - Comuna 11:\", indice_computadora_c11)\n",
    "\n",
    "menores_de_18_asisten_c11 = ...  # Completa con los datos correspondientes para la Comuna 11\n",
    "menores_de_18_c11 = ...  # Completa con los datos correspondientes para la Comuna 11\n",
    "\n",
    "# Calcular el índice de escolaridad para comuna 11\n",
    "indice_escolaridad_c11 = calcular_indice_escolaridad(menores_de_18_asisten_c11, menores_de_18_c11)\n",
    "\n",
    "print(\"Índice de Escolaridad - Comuna 11:\", indice_escolaridad_c11)\n",
    "\n",
    "# Parámetros para comuna 11\n",
    "mayores_de_25_universitarios_c11 = ...  # Completa con los datos correspondientes para la Comuna 11\n",
    "mayores_de_25_c11 = ...  # Completa con los datos correspondientes para la Comuna 11\n",
    "\n",
    "# Calcular el índice de educación superior para comuna 11\n",
    "indice_educacion_superior_c11 = calcular_indice_educacion_superior(mayores_de_25_universitarios_c11, mayores_de_25_c11)\n",
    "\n",
    "print(\"Índice de Educación Superior - Comuna 11:\", indice_educacion_superior_c11)\n"
   ]
  },
  {
   "cell_type": "markdown",
   "id": "3564632a",
   "metadata": {},
   "source": [
    "# Comuna 12 "
   ]
  },
  {
   "cell_type": "code",
   "execution_count": 59,
   "id": "e5bae921",
   "metadata": {},
   "outputs": [
    {
     "ename": "TypeError",
     "evalue": "unsupported operand type(s) for +: 'ellipsis' and 'ellipsis'",
     "output_type": "error",
     "traceback": [
      "\u001b[1;31m---------------------------------------------------------------------------\u001b[0m",
      "\u001b[1;31mTypeError\u001b[0m                                 Traceback (most recent call last)",
      "Cell \u001b[1;32mIn[59], line 9\u001b[0m\n\u001b[0;32m      6\u001b[0m con_telefono_c11 \u001b[38;5;241m=\u001b[39m \u001b[38;5;241m.\u001b[39m\u001b[38;5;241m.\u001b[39m\u001b[38;5;241m.\u001b[39m  \u001b[38;5;66;03m# Completa con los datos correspondientes para la Comuna 11\u001b[39;00m\n\u001b[0;32m      8\u001b[0m \u001b[38;5;66;03m# Calcular el índice de computadora para comuna 11\u001b[39;00m\n\u001b[1;32m----> 9\u001b[0m indice_computadora_c11 \u001b[38;5;241m=\u001b[39m calcular_indice_computadora(numero_hogares_con_computadora_c11, con_computadora_c11, con_heladera_c11, con_celular_c11, con_telefono_c11)\n\u001b[0;32m     11\u001b[0m \u001b[38;5;28mprint\u001b[39m(\u001b[38;5;124m\"\u001b[39m\u001b[38;5;124mÍndice de Computadora - Comuna 11:\u001b[39m\u001b[38;5;124m\"\u001b[39m, indice_computadora_c11)\n\u001b[0;32m     13\u001b[0m menores_de_18_asisten_c11 \u001b[38;5;241m=\u001b[39m \u001b[38;5;241m.\u001b[39m\u001b[38;5;241m.\u001b[39m\u001b[38;5;241m.\u001b[39m  \u001b[38;5;66;03m# Completa con los datos correspondientes para la Comuna 11\u001b[39;00m\n",
      "Cell \u001b[1;32mIn[40], line 2\u001b[0m, in \u001b[0;36mcalcular_indice_computadora\u001b[1;34m(numero_hogares_con_computadora, con_computadora, con_heladera, con_celular, con_telefono)\u001b[0m\n\u001b[0;32m      1\u001b[0m \u001b[38;5;28;01mdef\u001b[39;00m \u001b[38;5;21mcalcular_indice_computadora\u001b[39m(numero_hogares_con_computadora, con_computadora, con_heladera, con_celular, con_telefono):\n\u001b[1;32m----> 2\u001b[0m     indice_computadora \u001b[38;5;241m=\u001b[39m numero_hogares_con_computadora \u001b[38;5;241m/\u001b[39m (con_computadora \u001b[38;5;241m+\u001b[39m con_heladera \u001b[38;5;241m+\u001b[39m con_celular \u001b[38;5;241m+\u001b[39m con_telefono)\n\u001b[0;32m      3\u001b[0m     \u001b[38;5;28;01mreturn\u001b[39;00m indice_computadora\n",
      "\u001b[1;31mTypeError\u001b[0m: unsupported operand type(s) for +: 'ellipsis' and 'ellipsis'"
     ]
    }
   ],
   "source": [
    "# Parámetros para comuna 11\n",
    "numero_hogares_con_computadora_c11 = ...  # Completa con los datos correspondientes para la Comuna 11\n",
    "con_computadora_c11 = ...  # Completa con los datos correspondientes para la Comuna 11\n",
    "con_heladera_c11 = ...  # Completa con los datos correspondientes para la Comuna 11\n",
    "con_celular_c11 = ...  # Completa con los datos correspondientes para la Comuna 11\n",
    "con_telefono_c11 = ...  # Completa con los datos correspondientes para la Comuna 11\n",
    "\n",
    "# Calcular el índice de computadora para comuna 11\n",
    "indice_computadora_c11 = calcular_indice_computadora(numero_hogares_con_computadora_c11, con_computadora_c11, con_heladera_c11, con_celular_c11, con_telefono_c11)\n",
    "\n",
    "print(\"Índice de Computadora - Comuna 11:\", indice_computadora_c11)\n",
    "\n",
    "menores_de_18_asisten_c11 = ...  # Completa con los datos correspondientes para la Comuna 11\n",
    "menores_de_18_c11 = ...  # Completa con los datos correspondientes para la Comuna 11\n",
    "\n",
    "# Calcular el índice de escolaridad para comuna 11\n",
    "indice_escolaridad_c11 = calcular_indice_escolaridad(menores_de_18_asisten_c11, menores_de_18_c11)\n",
    "\n",
    "print(\"Índice de Escolaridad - Comuna 11:\", indice_escolaridad_c11)\n",
    "\n",
    "# Parámetros para comuna 11\n",
    "mayores_de_25_universitarios_c11 = ...  # Completa con los datos correspondientes para la Comuna 11\n",
    "mayores_de_25_c11 = ...  # Completa con los datos correspondientes para la Comuna 11\n",
    "\n",
    "# Calcular el índice de educación superior para comuna 11\n",
    "indice_educacion_superior_c11 = calcular_indice_educacion_superior(mayores_de_25_universitarios_c11, mayores_de_25_c11)\n",
    "\n",
    "print(\"Índice de Educación Superior - Comuna 11:\", indice_educacion_superior_c11)\n"
   ]
  },
  {
   "cell_type": "markdown",
   "id": "aac16c21",
   "metadata": {},
   "source": [
    "# Comuna 13"
   ]
  },
  {
   "cell_type": "code",
   "execution_count": null,
   "id": "06d7b93e",
   "metadata": {},
   "outputs": [],
   "source": [
    "# Parámetros para comuna 13\n",
    "numero_hogares_con_computadora_c13 = ...  # Completa con los datos correspondientes para la Comuna 13\n",
    "con_computadora_c13 = ...  # Completa con los datos correspondientes para la Comuna 13\n",
    "con_heladera_c13 = ...  # Completa con los datos correspondientes para la Comuna 13\n",
    "con_celular_c13 = ...  # Completa con los datos correspondientes para la Comuna 13\n",
    "con_telefono_c13 = ...  # Completa con los datos correspondientes para la Comuna 13\n",
    "\n",
    "# Calcular el índice de computadora para comuna 13\n",
    "indice_computadora_c13 = calcular_indice_computadora(numero_hogares_con_computadora_c13, con_computadora_c13, con_heladera_c13, con_celular_c13, con_telefono_c13)\n",
    "\n",
    "print(\"Índice de Computadora - Comuna 13:\", indice_computadora_c13)\n",
    "\n",
    "menores_de_18_asisten_c13 = ...  # Completa con los datos correspondientes para la Comuna 13\n",
    "menores_de_18_c13 = ...  # Completa con los datos correspondientes para la Comuna 13\n",
    "\n",
    "# Calcular el índice de escolaridad para comuna 13\n",
    "indice_escolaridad_c13 = calcular_indice_escolaridad(menores_de_18_asisten_c13, menores_de_18_c13)\n",
    "\n",
    "print(\"Índice de Escolaridad - Comuna 13:\", indice_escolaridad_c13)\n",
    "\n",
    "# Parámetros para comuna 13\n",
    "mayores_de_25_universitarios_c13 = ...  # Completa con los datos correspondientes para la Comuna 13\n",
    "mayores_de_25_c13 = ...  # Completa con los datos correspondientes para la Comuna 13\n",
    "\n",
    "# Calcular el índice de educación superior para comuna 13\n",
    "indice_educacion_superior_c13 = calcular_indice_educacion_superior(mayores_de_25_universitarios_c13, mayores_de_25_c13)\n",
    "\n",
    "print(\"Índice de Educación Superior - Comuna 13:\", indice_educacion_superior_c13)\n"
   ]
  },
  {
   "cell_type": "markdown",
   "id": "acd8dd0a",
   "metadata": {},
   "source": [
    "# Comuna 14"
   ]
  },
  {
   "cell_type": "code",
   "execution_count": null,
   "id": "2c1c9a69",
   "metadata": {},
   "outputs": [],
   "source": [
    "# Parámetros para comuna 14\n",
    "numero_hogares_con_computadora_c14 = ...  # Completa con los datos correspondientes para la Comuna 14\n",
    "con_computadora_c14 = ...  # Completa con los datos correspondientes para la Comuna 14\n",
    "con_heladera_c14 = ...  # Completa con los datos correspondientes para la Comuna 14\n",
    "con_celular_c14 = ...  # Completa con los datos correspondientes para la Comuna 14\n",
    "con_telefono_c14 = ...  # Completa con los datos correspondientes para la Comuna 14\n",
    "\n",
    "# Calcular el índice de computadora para comuna 14\n",
    "indice_computadora_c14 = calcular_indice_computadora(numero_hogares_con_computadora_c14, con_computadora_c14, con_heladera_c14, con_celular_c14, con_telefono_c14)\n",
    "\n",
    "print(\"Índice de Computadora - Comuna 14:\", indice_computadora_c14)\n",
    "\n",
    "menores_de_18_asisten_c14 = ...  # Completa con los datos correspondientes para la Comuna 14\n",
    "menores_de_18_c14 = ...  # Completa con los datos correspondientes para la Comuna 14\n",
    "\n",
    "# Calcular el índice de escolaridad para comuna 14\n",
    "indice_escolaridad_c14 = calcular_indice_escolaridad(menores_de_18_asisten_c14, menores_de_18_c14)\n",
    "\n",
    "print(\"Índice de Escolaridad - Comuna 14:\", indice_escolaridad_c14)\n",
    "\n",
    "# Parámetros para comuna 14\n",
    "mayores_de_25_universitarios_c14 = ...  # Completa con los datos correspondientes para la Comuna 14\n",
    "mayores_de_25_c14 = ...  # Completa con los datos correspondientes para la Comuna 14\n",
    "\n",
    "# Calcular el índice de educación superior para comuna 14\n",
    "indice_educacion_superior_c14 = calcular_indice_educacion_superior(mayores_de_25_universitarios_c14, mayores_de_25_c14)\n",
    "\n",
    "print(\"Índice de Educación Superior - Comuna 14:\", indice_educacion_superior_c14)\n"
   ]
  },
  {
   "cell_type": "markdown",
   "id": "6ed4a833",
   "metadata": {},
   "source": [
    "# Comuna 15"
   ]
  },
  {
   "cell_type": "code",
   "execution_count": null,
   "id": "5f0cb631",
   "metadata": {},
   "outputs": [],
   "source": [
    "# Parámetros para comuna 15\n",
    "numero_hogares_con_computadora_c15 = ...  # Completa con los datos correspondientes para la Comuna 15\n",
    "con_computadora_c15 = ...  # Completa con los datos correspondientes para la Comuna 15\n",
    "con_heladera_c15 = ...  # Completa con los datos correspondientes para la Comuna 15\n",
    "con_celular_c15 = ...  # Completa con los datos correspondientes para la Comuna 15\n",
    "con_telefono_c15 = ...  # Completa con los datos correspondientes para la Comuna 15\n",
    "\n",
    "# Calcular el índice de computadora para comuna 15\n",
    "indice_computadora_c15 = calcular_indice_computadora(numero_hogares_con_computadora_c15, con_computadora_c15, con_heladera_c15, con_celular_c15, con_telefono_c15)\n",
    "\n",
    "print(\"Índice de Computadora - Comuna 15:\", indice_computadora_c15)\n",
    "\n",
    "menores_de_18_asisten_c15 = ...  # Completa con los datos correspondientes para la Comuna 15\n",
    "menores_de_18_c15 = ...  # Completa con los datos correspondientes para la Comuna 15\n",
    "\n",
    "# Calcular el índice de escolaridad para comuna 15\n",
    "indice_escolaridad_c15 = calcular_indice_escolaridad(menores_de_18_asisten_c15, menores_de_18_c15)\n",
    "\n",
    "print(\"Índice de Escolaridad - Comuna 15:\", indice_escolaridad_c15)\n",
    "\n",
    "# Parámetros para comuna 15\n",
    "mayores_de_25_universitarios_c15 = ...  # Completa con los datos correspondientes para la Comuna 15\n",
    "mayores_de_25_c15 = ...  # Completa con los datos correspondientes para la Comuna 15\n",
    "\n",
    "# Calcular el índice de educación superior para comuna 15\n",
    "indice_educacion_superior_c15 = calcular_indice_educacion_superior(mayores_de_25_universitarios_c15, mayores_de_25_c15)\n",
    "\n",
    "print(\"Índice de Educación Superior - Comuna 15:\", indice_educacion_superior_c15)\n"
   ]
  },
  {
   "cell_type": "code",
   "execution_count": null,
   "id": "db31846b",
   "metadata": {},
   "outputs": [],
   "source": []
  }
 ],
 "metadata": {
  "kernelspec": {
   "display_name": "Python 3 (ipykernel)",
   "language": "python",
   "name": "python3"
  },
  "language_info": {
   "codemirror_mode": {
    "name": "ipython",
    "version": 3
   },
   "file_extension": ".py",
   "mimetype": "text/x-python",
   "name": "python",
   "nbconvert_exporter": "python",
   "pygments_lexer": "ipython3",
   "version": "3.11.4"
  }
 },
 "nbformat": 4,
 "nbformat_minor": 5
}
