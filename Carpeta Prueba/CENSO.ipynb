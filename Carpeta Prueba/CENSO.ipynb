{
 "cells": [
  {
   "cell_type": "code",
   "execution_count": 1,
   "id": "8fee5d6d",
   "metadata": {},
   "outputs": [],
   "source": [
    "import pandas as pd"
   ]
  },
  {
   "cell_type": "code",
   "execution_count": 3,
   "id": "a9777046",
   "metadata": {},
   "outputs": [
    {
     "name": "stderr",
     "output_type": "stream",
     "text": [
      "C:\\Users\\ASUS\\AppData\\Local\\Temp\\ipykernel_8440\\2509252079.py:1: DtypeWarning: Columns (7,10,11,20) have mixed types. Specify dtype option on import or set low_memory=False.\n",
      "  df_elecciones =pd.read_csv (\"C:/Users/ASUS/Downloads/DATOS/ResultadosElectorales_2023_Generales.csv\")\n"
     ]
    },
    {
     "name": "stdout",
     "output_type": "stream",
     "text": [
      "    año eleccion_tipo recuento_tipo padron_tipo  distrito_id  \\\n",
      "0  2023       GENERAL    PROVISORIO      NORMAL            1   \n",
      "1  2023       GENERAL    PROVISORIO      NORMAL            1   \n",
      "2  2023       GENERAL    PROVISORIO      NORMAL            1   \n",
      "3  2023       GENERAL    PROVISORIO      NORMAL            1   \n",
      "4  2023       GENERAL    PROVISORIO      NORMAL            1   \n",
      "\n",
      "                   distrito_nombre  seccionprovincial_id  \\\n",
      "0  Ciudad Autónoma de Buenos Aires                     0   \n",
      "1  Ciudad Autónoma de Buenos Aires                     0   \n",
      "2  Ciudad Autónoma de Buenos Aires                     0   \n",
      "3  Ciudad Autónoma de Buenos Aires                     0   \n",
      "4  Ciudad Autónoma de Buenos Aires                     0   \n",
      "\n",
      "  seccionprovincial_nombre  seccion_id seccion_nombre  ... mesa_tipo  \\\n",
      "0                      NaN           1      Comuna 01  ...   NATIVOS   \n",
      "1                      NaN           1      Comuna 01  ...   NATIVOS   \n",
      "2                      NaN           1      Comuna 01  ...   NATIVOS   \n",
      "3                      NaN           1      Comuna 01  ...   NATIVOS   \n",
      "4                      NaN           1      Comuna 01  ...   NATIVOS   \n",
      "\n",
      "  mesa_electores  cargo_id       cargo_nombre  agrupacion_id  \\\n",
      "0            343         1  PRESIDENTE Y VICE              0   \n",
      "1            343         1  PRESIDENTE Y VICE              0   \n",
      "2            343         1  PRESIDENTE Y VICE              0   \n",
      "3            343         1  PRESIDENTE Y VICE              0   \n",
      "4            349         1  PRESIDENTE Y VICE            134   \n",
      "\n",
      "     agrupacion_nombre lista_numero  lista_nombre votos_tipo  votos_cantidad  \n",
      "0                  NaN          0.0           NaN       NULO               0  \n",
      "1                  NaN          0.0           NaN  IMPUGNADO               0  \n",
      "2                  NaN          0.0           NaN  RECURRIDO               0  \n",
      "3                  NaN          0.0           NaN    COMANDO               0  \n",
      "4  UNION POR LA PATRIA          NaN           NaN   POSITIVO              95  \n",
      "\n",
      "[5 rows x 23 columns]\n"
     ]
    }
   ],
   "source": [
    "df_elecciones =pd.read_csv (\"C:/Users/ASUS/Downloads/DATOS/ResultadosElectorales_2023_Generales.csv\")\n",
    "print (df_elecciones.head())"
   ]
  },
  {
   "cell_type": "code",
   "execution_count": 4,
   "id": "18fba100",
   "metadata": {},
   "outputs": [
    {
     "data": {
      "text/html": [
       "<div>\n",
       "<style scoped>\n",
       "    .dataframe tbody tr th:only-of-type {\n",
       "        vertical-align: middle;\n",
       "    }\n",
       "\n",
       "    .dataframe tbody tr th {\n",
       "        vertical-align: top;\n",
       "    }\n",
       "\n",
       "    .dataframe thead th {\n",
       "        text-align: right;\n",
       "    }\n",
       "</style>\n",
       "<table border=\"1\" class=\"dataframe\">\n",
       "  <thead>\n",
       "    <tr style=\"text-align: right;\">\n",
       "      <th></th>\n",
       "      <th>distrito_nombre</th>\n",
       "      <th>seccion_id</th>\n",
       "      <th>seccion_nombre</th>\n",
       "    </tr>\n",
       "  </thead>\n",
       "  <tbody>\n",
       "    <tr>\n",
       "      <th>0</th>\n",
       "      <td>Ciudad Autónoma de Buenos Aires</td>\n",
       "      <td>1</td>\n",
       "      <td>Comuna 01</td>\n",
       "    </tr>\n",
       "    <tr>\n",
       "      <th>1</th>\n",
       "      <td>Ciudad Autónoma de Buenos Aires</td>\n",
       "      <td>1</td>\n",
       "      <td>Comuna 01</td>\n",
       "    </tr>\n",
       "    <tr>\n",
       "      <th>2</th>\n",
       "      <td>Ciudad Autónoma de Buenos Aires</td>\n",
       "      <td>1</td>\n",
       "      <td>Comuna 01</td>\n",
       "    </tr>\n",
       "    <tr>\n",
       "      <th>3</th>\n",
       "      <td>Ciudad Autónoma de Buenos Aires</td>\n",
       "      <td>1</td>\n",
       "      <td>Comuna 01</td>\n",
       "    </tr>\n",
       "    <tr>\n",
       "      <th>4</th>\n",
       "      <td>Ciudad Autónoma de Buenos Aires</td>\n",
       "      <td>1</td>\n",
       "      <td>Comuna 01</td>\n",
       "    </tr>\n",
       "    <tr>\n",
       "      <th>...</th>\n",
       "      <td>...</td>\n",
       "      <td>...</td>\n",
       "      <td>...</td>\n",
       "    </tr>\n",
       "    <tr>\n",
       "      <th>5868097</th>\n",
       "      <td>Ciudad Autónoma de Buenos Aires</td>\n",
       "      <td>5</td>\n",
       "      <td>Comuna 05</td>\n",
       "    </tr>\n",
       "    <tr>\n",
       "      <th>5868098</th>\n",
       "      <td>Ciudad Autónoma de Buenos Aires</td>\n",
       "      <td>5</td>\n",
       "      <td>Comuna 05</td>\n",
       "    </tr>\n",
       "    <tr>\n",
       "      <th>5868099</th>\n",
       "      <td>Ciudad Autónoma de Buenos Aires</td>\n",
       "      <td>5</td>\n",
       "      <td>Comuna 05</td>\n",
       "    </tr>\n",
       "    <tr>\n",
       "      <th>5868100</th>\n",
       "      <td>Ciudad Autónoma de Buenos Aires</td>\n",
       "      <td>5</td>\n",
       "      <td>Comuna 05</td>\n",
       "    </tr>\n",
       "    <tr>\n",
       "      <th>5868101</th>\n",
       "      <td>Ciudad Autónoma de Buenos Aires</td>\n",
       "      <td>5</td>\n",
       "      <td>Comuna 05</td>\n",
       "    </tr>\n",
       "  </tbody>\n",
       "</table>\n",
       "<p>5868102 rows × 3 columns</p>\n",
       "</div>"
      ],
      "text/plain": [
       "                         distrito_nombre  seccion_id seccion_nombre\n",
       "0        Ciudad Autónoma de Buenos Aires           1      Comuna 01\n",
       "1        Ciudad Autónoma de Buenos Aires           1      Comuna 01\n",
       "2        Ciudad Autónoma de Buenos Aires           1      Comuna 01\n",
       "3        Ciudad Autónoma de Buenos Aires           1      Comuna 01\n",
       "4        Ciudad Autónoma de Buenos Aires           1      Comuna 01\n",
       "...                                  ...         ...            ...\n",
       "5868097  Ciudad Autónoma de Buenos Aires           5      Comuna 05\n",
       "5868098  Ciudad Autónoma de Buenos Aires           5      Comuna 05\n",
       "5868099  Ciudad Autónoma de Buenos Aires           5      Comuna 05\n",
       "5868100  Ciudad Autónoma de Buenos Aires           5      Comuna 05\n",
       "5868101  Ciudad Autónoma de Buenos Aires           5      Comuna 05\n",
       "\n",
       "[5868102 rows x 3 columns]"
      ]
     },
     "execution_count": 4,
     "metadata": {},
     "output_type": "execute_result"
    }
   ],
   "source": [
    "df_elecciones [[\"distrito_nombre\", \"seccion_id\", \"seccion_nombre\"]]"
   ]
  },
  {
   "cell_type": "code",
   "execution_count": 21,
   "id": "1b9f9457-7ef7-41cd-b4b3-dc2328b4287a",
   "metadata": {
    "tags": []
   },
   "outputs": [
    {
     "data": {
      "text/plain": [
       "año                           int64\n",
       "eleccion_tipo                object\n",
       "recuento_tipo                object\n",
       "padron_tipo                  object\n",
       "distrito_id                   int64\n",
       "distrito_nombre              object\n",
       "seccionprovincial_id          int64\n",
       "seccionprovincial_nombre     object\n",
       "seccion_id                    int64\n",
       "seccion_nombre               object\n",
       "circuito_id                  object\n",
       "circuito_nombre              object\n",
       "mesa_id                       int64\n",
       "mesa_tipo                    object\n",
       "mesa_electores                int64\n",
       "cargo_id                      int64\n",
       "cargo_nombre                 object\n",
       "agrupacion_id                 int64\n",
       "agrupacion_nombre            object\n",
       "lista_numero                float64\n",
       "lista_nombre                 object\n",
       "votos_tipo                   object\n",
       "votos_cantidad                int64\n",
       "dtype: object"
      ]
     },
     "execution_count": 21,
     "metadata": {},
     "output_type": "execute_result"
    }
   ],
   "source": [
    "df_elecciones.dtypes"
   ]
  },
  {
   "cell_type": "code",
   "execution_count": 5,
   "id": "a93c1e84-8083-403e-81dd-9db13a8edc4a",
   "metadata": {
    "tags": []
   },
   "outputs": [
    {
     "name": "stdout",
     "output_type": "stream",
     "text": [
      "   DPTO_REF_ID  PROV_REF_ID  IDDPTO  DPTO  \\\n",
      "0            1            1       1  2001   \n",
      "1            2            1       2  2002   \n",
      "2            3            1       3  2003   \n",
      "3            4            1       4  2004   \n",
      "4            5            1       5  2005   \n",
      "\n",
      "                                             NOMDPTO  \n",
      "0  Comuna 01                                     ...  \n",
      "1  Comuna 02                                     ...  \n",
      "2  Comuna 03                                     ...  \n",
      "3  Comuna 04                                     ...  \n",
      "4  Comuna 05                                     ...  \n"
     ]
    }
   ],
   "source": [
    "df_dpto =pd.read_csv (\"C:/Users/ASUS/Downloads/DATOS/DPTO.csv\")\n",
    "print (df_dpto.head())"
   ]
  },
  {
   "cell_type": "code",
   "execution_count": 7,
   "id": "a825c623-720c-4d4d-bc71-449d17a0f35e",
   "metadata": {
    "tags": []
   },
   "outputs": [
    {
     "data": {
      "text/html": [
       "<div>\n",
       "<style scoped>\n",
       "    .dataframe tbody tr th:only-of-type {\n",
       "        vertical-align: middle;\n",
       "    }\n",
       "\n",
       "    .dataframe tbody tr th {\n",
       "        vertical-align: top;\n",
       "    }\n",
       "\n",
       "    .dataframe thead th {\n",
       "        text-align: right;\n",
       "    }\n",
       "</style>\n",
       "<table border=\"1\" class=\"dataframe\">\n",
       "  <thead>\n",
       "    <tr style=\"text-align: right;\">\n",
       "      <th></th>\n",
       "      <th>IDDPTO</th>\n",
       "      <th>DPTO</th>\n",
       "      <th>NOMDPTO</th>\n",
       "    </tr>\n",
       "  </thead>\n",
       "  <tbody>\n",
       "    <tr>\n",
       "      <th>0</th>\n",
       "      <td>1</td>\n",
       "      <td>2001</td>\n",
       "      <td>Comuna 01                                     ...</td>\n",
       "    </tr>\n",
       "    <tr>\n",
       "      <th>1</th>\n",
       "      <td>2</td>\n",
       "      <td>2002</td>\n",
       "      <td>Comuna 02                                     ...</td>\n",
       "    </tr>\n",
       "    <tr>\n",
       "      <th>2</th>\n",
       "      <td>3</td>\n",
       "      <td>2003</td>\n",
       "      <td>Comuna 03                                     ...</td>\n",
       "    </tr>\n",
       "    <tr>\n",
       "      <th>3</th>\n",
       "      <td>4</td>\n",
       "      <td>2004</td>\n",
       "      <td>Comuna 04                                     ...</td>\n",
       "    </tr>\n",
       "    <tr>\n",
       "      <th>4</th>\n",
       "      <td>5</td>\n",
       "      <td>2005</td>\n",
       "      <td>Comuna 05                                     ...</td>\n",
       "    </tr>\n",
       "    <tr>\n",
       "      <th>5</th>\n",
       "      <td>6</td>\n",
       "      <td>2006</td>\n",
       "      <td>Comuna 06                                     ...</td>\n",
       "    </tr>\n",
       "    <tr>\n",
       "      <th>6</th>\n",
       "      <td>7</td>\n",
       "      <td>2007</td>\n",
       "      <td>Comuna 07                                     ...</td>\n",
       "    </tr>\n",
       "    <tr>\n",
       "      <th>7</th>\n",
       "      <td>8</td>\n",
       "      <td>2008</td>\n",
       "      <td>Comuna 08                                     ...</td>\n",
       "    </tr>\n",
       "    <tr>\n",
       "      <th>8</th>\n",
       "      <td>9</td>\n",
       "      <td>2009</td>\n",
       "      <td>Comuna 09                                     ...</td>\n",
       "    </tr>\n",
       "    <tr>\n",
       "      <th>9</th>\n",
       "      <td>10</td>\n",
       "      <td>2010</td>\n",
       "      <td>Comuna 10                                     ...</td>\n",
       "    </tr>\n",
       "    <tr>\n",
       "      <th>10</th>\n",
       "      <td>11</td>\n",
       "      <td>2011</td>\n",
       "      <td>Comuna 11                                     ...</td>\n",
       "    </tr>\n",
       "    <tr>\n",
       "      <th>11</th>\n",
       "      <td>12</td>\n",
       "      <td>2012</td>\n",
       "      <td>Comuna 12                                     ...</td>\n",
       "    </tr>\n",
       "    <tr>\n",
       "      <th>12</th>\n",
       "      <td>13</td>\n",
       "      <td>2013</td>\n",
       "      <td>Comuna 13                                     ...</td>\n",
       "    </tr>\n",
       "    <tr>\n",
       "      <th>13</th>\n",
       "      <td>14</td>\n",
       "      <td>2014</td>\n",
       "      <td>Comuna 14                                     ...</td>\n",
       "    </tr>\n",
       "    <tr>\n",
       "      <th>14</th>\n",
       "      <td>15</td>\n",
       "      <td>2015</td>\n",
       "      <td>Comuna 15                                     ...</td>\n",
       "    </tr>\n",
       "  </tbody>\n",
       "</table>\n",
       "</div>"
      ],
      "text/plain": [
       "    IDDPTO  DPTO                                            NOMDPTO\n",
       "0        1  2001  Comuna 01                                     ...\n",
       "1        2  2002  Comuna 02                                     ...\n",
       "2        3  2003  Comuna 03                                     ...\n",
       "3        4  2004  Comuna 04                                     ...\n",
       "4        5  2005  Comuna 05                                     ...\n",
       "5        6  2006  Comuna 06                                     ...\n",
       "6        7  2007  Comuna 07                                     ...\n",
       "7        8  2008  Comuna 08                                     ...\n",
       "8        9  2009  Comuna 09                                     ...\n",
       "9       10  2010  Comuna 10                                     ...\n",
       "10      11  2011  Comuna 11                                     ...\n",
       "11      12  2012  Comuna 12                                     ...\n",
       "12      13  2013  Comuna 13                                     ...\n",
       "13      14  2014  Comuna 14                                     ...\n",
       "14      15  2015  Comuna 15                                     ..."
      ]
     },
     "execution_count": 7,
     "metadata": {},
     "output_type": "execute_result"
    }
   ],
   "source": [
    "df_dpto [[\"IDDPTO\", \"DPTO\", \"NOMDPTO\"]]"
   ]
  },
  {
   "cell_type": "code",
   "execution_count": 22,
   "id": "368e0957-7c92-496b-a842-a83776203714",
   "metadata": {
    "tags": []
   },
   "outputs": [
    {
     "data": {
      "text/plain": [
       "DPTO_REF_ID     int64\n",
       "PROV_REF_ID     int64\n",
       "IDDPTO          int64\n",
       "DPTO            int64\n",
       "NOMDPTO        object\n",
       "dtype: object"
      ]
     },
     "execution_count": 22,
     "metadata": {},
     "output_type": "execute_result"
    }
   ],
   "source": [
    "df_dpto.dtypes"
   ]
  },
  {
   "cell_type": "code",
   "execution_count": 26,
   "id": "48cd1c8e-196f-4c31-acd8-15d5a49c8087",
   "metadata": {
    "tags": []
   },
   "outputs": [
    {
     "name": "stdout",
     "output_type": "stream",
     "text": [
      "    año eleccion_tipo recuento_tipo padron_tipo  distrito_id  \\\n",
      "0  2023       GENERAL    PROVISORIO      NORMAL            1   \n",
      "1  2023       GENERAL    PROVISORIO      NORMAL            1   \n",
      "2  2023       GENERAL    PROVISORIO      NORMAL            1   \n",
      "3  2023       GENERAL    PROVISORIO      NORMAL            1   \n",
      "4  2023       GENERAL    PROVISORIO      NORMAL            1   \n",
      "\n",
      "                   distrito_nombre  seccionprovincial_id  \\\n",
      "0  Ciudad Autónoma de Buenos Aires                     0   \n",
      "1  Ciudad Autónoma de Buenos Aires                     0   \n",
      "2  Ciudad Autónoma de Buenos Aires                     0   \n",
      "3  Ciudad Autónoma de Buenos Aires                     0   \n",
      "4  Ciudad Autónoma de Buenos Aires                     0   \n",
      "\n",
      "  seccionprovincial_nombre  seccion_id seccion_nombre  ...  \\\n",
      "0                      NaN           1      Comuna 01  ...   \n",
      "1                      NaN           1      Comuna 01  ...   \n",
      "2                      NaN           1      Comuna 01  ...   \n",
      "3                      NaN           1      Comuna 01  ...   \n",
      "4                      NaN           1      Comuna 01  ...   \n",
      "\n",
      "     agrupacion_nombre lista_numero  lista_nombre votos_tipo  votos_cantidad  \\\n",
      "0                  NaN          0.0           NaN       NULO               0   \n",
      "1                  NaN          0.0           NaN  IMPUGNADO               0   \n",
      "2                  NaN          0.0           NaN  RECURRIDO               0   \n",
      "3                  NaN          0.0           NaN    COMANDO               0   \n",
      "4  UNION POR LA PATRIA          NaN           NaN   POSITIVO              95   \n",
      "\n",
      "   DPTO_REF_ID PROV_REF_ID  IDDPTO DPTO  NOMDPTO  \n",
      "0          NaN         NaN     NaN  NaN      NaN  \n",
      "1          NaN         NaN     NaN  NaN      NaN  \n",
      "2          NaN         NaN     NaN  NaN      NaN  \n",
      "3          NaN         NaN     NaN  NaN      NaN  \n",
      "4          NaN         NaN     NaN  NaN      NaN  \n",
      "\n",
      "[5 rows x 28 columns]\n"
     ]
    }
   ],
   "source": [
    "df_unido = pd.merge(df_elecciones, df_dpto, left_on=['seccion_nombre'], right_on=['NOMDPTO'], how='left')\n",
    "print (df_unido.head())"
   ]
  },
  {
   "cell_type": "code",
   "execution_count": 27,
   "id": "5c3be1da-b2e8-44bc-81ca-ee5433de25c6",
   "metadata": {
    "tags": []
   },
   "outputs": [
    {
     "data": {
      "text/html": [
       "<div>\n",
       "<style scoped>\n",
       "    .dataframe tbody tr th:only-of-type {\n",
       "        vertical-align: middle;\n",
       "    }\n",
       "\n",
       "    .dataframe tbody tr th {\n",
       "        vertical-align: top;\n",
       "    }\n",
       "\n",
       "    .dataframe thead th {\n",
       "        text-align: right;\n",
       "    }\n",
       "</style>\n",
       "<table border=\"1\" class=\"dataframe\">\n",
       "  <thead>\n",
       "    <tr style=\"text-align: right;\">\n",
       "      <th></th>\n",
       "      <th>seccion_nombre</th>\n",
       "      <th>IDDPTO</th>\n",
       "      <th>DPTO</th>\n",
       "      <th>NOMDPTO</th>\n",
       "    </tr>\n",
       "  </thead>\n",
       "  <tbody>\n",
       "    <tr>\n",
       "      <th>0</th>\n",
       "      <td>Comuna 01</td>\n",
       "      <td>NaN</td>\n",
       "      <td>NaN</td>\n",
       "      <td>NaN</td>\n",
       "    </tr>\n",
       "    <tr>\n",
       "      <th>1</th>\n",
       "      <td>Comuna 01</td>\n",
       "      <td>NaN</td>\n",
       "      <td>NaN</td>\n",
       "      <td>NaN</td>\n",
       "    </tr>\n",
       "    <tr>\n",
       "      <th>2</th>\n",
       "      <td>Comuna 01</td>\n",
       "      <td>NaN</td>\n",
       "      <td>NaN</td>\n",
       "      <td>NaN</td>\n",
       "    </tr>\n",
       "    <tr>\n",
       "      <th>3</th>\n",
       "      <td>Comuna 01</td>\n",
       "      <td>NaN</td>\n",
       "      <td>NaN</td>\n",
       "      <td>NaN</td>\n",
       "    </tr>\n",
       "    <tr>\n",
       "      <th>4</th>\n",
       "      <td>Comuna 01</td>\n",
       "      <td>NaN</td>\n",
       "      <td>NaN</td>\n",
       "      <td>NaN</td>\n",
       "    </tr>\n",
       "    <tr>\n",
       "      <th>...</th>\n",
       "      <td>...</td>\n",
       "      <td>...</td>\n",
       "      <td>...</td>\n",
       "      <td>...</td>\n",
       "    </tr>\n",
       "    <tr>\n",
       "      <th>5868097</th>\n",
       "      <td>Comuna 05</td>\n",
       "      <td>NaN</td>\n",
       "      <td>NaN</td>\n",
       "      <td>NaN</td>\n",
       "    </tr>\n",
       "    <tr>\n",
       "      <th>5868098</th>\n",
       "      <td>Comuna 05</td>\n",
       "      <td>NaN</td>\n",
       "      <td>NaN</td>\n",
       "      <td>NaN</td>\n",
       "    </tr>\n",
       "    <tr>\n",
       "      <th>5868099</th>\n",
       "      <td>Comuna 05</td>\n",
       "      <td>NaN</td>\n",
       "      <td>NaN</td>\n",
       "      <td>NaN</td>\n",
       "    </tr>\n",
       "    <tr>\n",
       "      <th>5868100</th>\n",
       "      <td>Comuna 05</td>\n",
       "      <td>NaN</td>\n",
       "      <td>NaN</td>\n",
       "      <td>NaN</td>\n",
       "    </tr>\n",
       "    <tr>\n",
       "      <th>5868101</th>\n",
       "      <td>Comuna 05</td>\n",
       "      <td>NaN</td>\n",
       "      <td>NaN</td>\n",
       "      <td>NaN</td>\n",
       "    </tr>\n",
       "  </tbody>\n",
       "</table>\n",
       "<p>5868102 rows × 4 columns</p>\n",
       "</div>"
      ],
      "text/plain": [
       "        seccion_nombre  IDDPTO  DPTO NOMDPTO\n",
       "0            Comuna 01     NaN   NaN     NaN\n",
       "1            Comuna 01     NaN   NaN     NaN\n",
       "2            Comuna 01     NaN   NaN     NaN\n",
       "3            Comuna 01     NaN   NaN     NaN\n",
       "4            Comuna 01     NaN   NaN     NaN\n",
       "...                ...     ...   ...     ...\n",
       "5868097      Comuna 05     NaN   NaN     NaN\n",
       "5868098      Comuna 05     NaN   NaN     NaN\n",
       "5868099      Comuna 05     NaN   NaN     NaN\n",
       "5868100      Comuna 05     NaN   NaN     NaN\n",
       "5868101      Comuna 05     NaN   NaN     NaN\n",
       "\n",
       "[5868102 rows x 4 columns]"
      ]
     },
     "execution_count": 27,
     "metadata": {},
     "output_type": "execute_result"
    }
   ],
   "source": [
    "df_unido [[\"seccion_nombre\", \"IDDPTO\", \"DPTO\", \"NOMDPTO\"]]"
   ]
  },
  {
   "cell_type": "code",
   "execution_count": 16,
   "id": "5626fae3-5ba6-4683-a0b2-ba4a7227047f",
   "metadata": {
    "tags": []
   },
   "outputs": [
    {
     "name": "stdout",
     "output_type": "stream",
     "text": [
      "   VIVIENDA_REF_ID  RADIO_REF_ID  TIPVV  V01  V02  V00  URP  INCALSERV  INMAT  \\\n",
      "0                1             1      1    1    1    0    1          1      1   \n",
      "1                2             1      1    7    1    0    1          1      2   \n",
      "2                3             1      1    4    1    0    1          1      1   \n",
      "3                4             1      1    4    1    0    1          1      1   \n",
      "4                5             1      1    1    1    0    1          3      3   \n",
      "\n",
      "       MUNI    LOCAL  INCALCONS  TOTHOG  \n",
      "0  20010001  2001010          1       2  \n",
      "1  20010001  2001010          2       2  \n",
      "2  20010001  2001010          1       2  \n",
      "3  20010001  2001010          1       1  \n",
      "4  20010001  2001010          2       1  \n"
     ]
    }
   ],
   "source": [
    "df_vivienda =pd.read_csv (\"C:/Users/ASUS/Downloads/DATOS/vivienda.csv\")\n",
    "print (df_vivienda.head())"
   ]
  },
  {
   "cell_type": "code",
   "execution_count": 17,
   "id": "1ead90b8-2168-49a6-a893-bedb08b92a44",
   "metadata": {
    "tags": []
   },
   "outputs": [
    {
     "name": "stdout",
     "output_type": "stream",
     "text": [
      "   HOGAR_REF_ID  VIVIENDA_REF_ID  NHOG  H05  H06  H07  H08  H09  H10  H11  \\\n",
      "0             1                1     1    1    4    1    1    1    1    1   \n",
      "1             2                1     2    1    1    1    1    1    1    1   \n",
      "2             3                1     4    1    3    1    1    1    1    1   \n",
      "3             4                1     6    1    1    1    1    1    1    1   \n",
      "4             5                2     1    1    1    2    1    1    1    1   \n",
      "\n",
      "   ...  H15  H16  H19A  H19B  H19C  H19D  PROP  INDHAC  TOTPERS  ALGUNBI  \n",
      "0  ...    2    2     1     2     1     2     5       1        1        0  \n",
      "1  ...    1    2     1     1     1     1     1       1        1        0  \n",
      "2  ...    3    5     1     1     1     1     1       1        2        0  \n",
      "3  ...    3    5     1     1     1     1     5       6        8        1  \n",
      "4  ...    5    5     1     1     2     1     6       1        2        1  \n",
      "\n",
      "[5 rows x 23 columns]\n"
     ]
    }
   ],
   "source": [
    "df_hogar =pd.read_csv (\"C:/Users/ASUS/Downloads/DATOS/hogar.csv\")\n",
    "print (df_hogar.head())"
   ]
  },
  {
   "cell_type": "code",
   "execution_count": 10,
   "id": "6f9089ec-8bb8-46b3-9e48-d9d6b220ccb1",
   "metadata": {
    "tags": []
   },
   "outputs": [
    {
     "name": "stdout",
     "output_type": "stream",
     "text": [
      "   FRAC_REF_ID  DPTO_REF_ID  IDFRAC\n",
      "0            1            1       1\n",
      "1            2            1       2\n",
      "2            3            1       3\n",
      "3            4            1       4\n",
      "4            5            1       5\n"
     ]
    }
   ],
   "source": [
    "df_frac =pd.read_csv (\"C:/Users/ASUS/Downloads/DATOS/frac.csv\")\n",
    "print (df_frac.head())"
   ]
  },
  {
   "cell_type": "code",
   "execution_count": 11,
   "id": "407e13a7-7bab-449f-bacc-11068581a3bf",
   "metadata": {
    "tags": []
   },
   "outputs": [
    {
     "name": "stdout",
     "output_type": "stream",
     "text": [
      "   PROV_REF_ID  CPV2010_REF_ID  IDPROV  PROV  \\\n",
      "0            1               1       2     2   \n",
      "1            2               1       6     6   \n",
      "2            3               1      10    10   \n",
      "3            4               1      14    14   \n",
      "4            5               1      18    18   \n",
      "\n",
      "                                             NOMPROV  \n",
      "0  Ciudad Autónoma de Buenos Aires               ...  \n",
      "1  Buenos Aires                                  ...  \n",
      "2  Catamarca                                     ...  \n",
      "3  Córdoba                                       ...  \n",
      "4  Corrientes                                    ...  \n"
     ]
    }
   ],
   "source": [
    "df_prov =pd.read_csv (\"C:/Users/ASUS/Downloads/DATOS/prov.csv\")\n",
    "print (df_prov.head())"
   ]
  },
  {
   "cell_type": "code",
   "execution_count": 12,
   "id": "73052afd-2428-4f7b-ac60-e26eca76442d",
   "metadata": {
    "tags": []
   },
   "outputs": [
    {
     "name": "stdout",
     "output_type": "stream",
     "text": [
      "   RADIO_REF_ID  FRAC_REF_ID  IDRADIO\n",
      "0             1            1        1\n",
      "1             2            2        1\n",
      "2             3            2        2\n",
      "3             4            2        3\n",
      "4             5            2        4\n"
     ]
    }
   ],
   "source": [
    "df_radio =pd.read_csv (\"C:/Users/ASUS/Downloads/DATOS/radio.csv\")\n",
    "print (df_radio.head())"
   ]
  },
  {
   "cell_type": "code",
   "execution_count": 13,
   "id": "a4018528-a324-4885-a131-153862c0a8b2",
   "metadata": {
    "tags": []
   },
   "outputs": [
    {
     "name": "stdout",
     "output_type": "stream",
     "text": [
      "   PERSONA_REF_ID  HOGAR_REF_ID  P01  P02  P03  P05  P06  P07  P12  EDADAGRU  \\\n",
      "0               1             1    1    2   61    1    0    1    2         2   \n",
      "1               2             2    1    1   48    1    0    1    1         2   \n",
      "2               3             3    1    1   65    1    0    1    1         3   \n",
      "3               4             3    2    2   62    1    0    1    1         2   \n",
      "4               5             4    1    1   20    2  221    1    1         2   \n",
      "\n",
      "   EDADQUI  P08  P09  P10  CONDACT  \n",
      "0       13    2    4    2        1  \n",
      "1       10    2    4    1        1  \n",
      "2       14    2    7    2        1  \n",
      "3       13    2    6    1        3  \n",
      "4        5    1    4    2        1  \n"
     ]
    }
   ],
   "source": [
    "df_persona =pd.read_csv (\"C:/Users/ASUS/Downloads/DATOS/persona.csv\")\n",
    "print (df_persona.head())"
   ]
  },
  {
   "cell_type": "code",
   "execution_count": null,
   "id": "6b43e211-fba9-4ed5-81c0-642e8fc0445c",
   "metadata": {},
   "outputs": [],
   "source": []
  }
 ],
 "metadata": {
  "kernelspec": {
   "display_name": "Python 3 (ipykernel)",
   "language": "python",
   "name": "python3"
  },
  "language_info": {
   "codemirror_mode": {
    "name": "ipython",
    "version": 3
   },
   "file_extension": ".py",
   "mimetype": "text/x-python",
   "name": "python",
   "nbconvert_exporter": "python",
   "pygments_lexer": "ipython3",
   "version": "3.11.4"
  }
 },
 "nbformat": 4,
 "nbformat_minor": 5
}
